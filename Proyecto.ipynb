{
  "cells": [
    {
      "cell_type": "code",
      "execution_count": null,
      "metadata": {
        "id": "9XwjwNoKv2Tv"
      },
      "outputs": [],
      "source": [
        "import polars as pl;\n",
        "import csv;"
      ]
    },
    {
      "cell_type": "markdown",
      "metadata": {
        "id": "y8gzd3hfzgMa"
      },
      "source": [
        "Carga de datos desde Drive"
      ]
    },
    {
      "cell_type": "code",
      "execution_count": null,
      "metadata": {
        "colab": {
          "base_uri": "https://localhost:8080/"
        },
        "id": "J0srswPzwmPo",
        "outputId": "782f4f81-ee8a-4611-80f7-26e987acdd81"
      },
      "outputs": [
        {
          "name": "stdout",
          "output_type": "stream",
          "text": [
            "Mounted at /content/drive\n"
          ]
        }
      ],
      "source": [
        "\n",
        "from google.colab import drive, files # type: ignore\n",
        "\n",
        "drive.mount('/content/drive')\n",
        "log_file_path = '/content/drive/My Drive/Colab_Folder/access.log'\n",
        "csv_file_path = '/content/drive/My Drive/Colab_Folder/archivo.csv'"
      ]
    },
    {
      "cell_type": "markdown",
      "metadata": {
        "id": "GUmUaxlqpaol"
      },
      "source": [
        "Carga de datos desde Kaggle"
      ]
    },
    {
      "cell_type": "code",
      "execution_count": null,
      "metadata": {
        "colab": {
          "base_uri": "https://localhost:8080/",
          "height": 332
        },
        "id": "CHi7TdWgpZ2L",
        "outputId": "3cb8513e-02a5-4e64-ae89-1a2924a1bfe0"
      },
      "outputs": [
        {
          "ename": "SecretNotFoundError",
          "evalue": "Secret KAGGLE_USERNAME does not exist.",
          "output_type": "error",
          "traceback": [
            "\u001b[0;31m---------------------------------------------------------------------------\u001b[0m",
            "\u001b[0;31mSecretNotFoundError\u001b[0m                       Traceback (most recent call last)",
            "\u001b[0;32m<ipython-input-3-81ab35c66df4>\u001b[0m in \u001b[0;36m<cell line: 6>\u001b[0;34m()\u001b[0m\n\u001b[1;32m      4\u001b[0m \u001b[0;34m\u001b[0m\u001b[0m\n\u001b[1;32m      5\u001b[0m \u001b[0mos\u001b[0m\u001b[0;34m.\u001b[0m\u001b[0menviron\u001b[0m\u001b[0;34m[\u001b[0m\u001b[0;34m\"KAGGLE_KEY\"\u001b[0m\u001b[0;34m]\u001b[0m \u001b[0;34m=\u001b[0m \u001b[0muserdata\u001b[0m\u001b[0;34m.\u001b[0m\u001b[0mget\u001b[0m\u001b[0;34m(\u001b[0m\u001b[0;34m'KAGGLE_KEY'\u001b[0m\u001b[0;34m)\u001b[0m\u001b[0;34m\u001b[0m\u001b[0;34m\u001b[0m\u001b[0m\n\u001b[0;32m----> 6\u001b[0;31m \u001b[0mos\u001b[0m\u001b[0;34m.\u001b[0m\u001b[0menviron\u001b[0m\u001b[0;34m[\u001b[0m\u001b[0;34m\"KAGGLE_USERNAME\"\u001b[0m\u001b[0;34m]\u001b[0m \u001b[0;34m=\u001b[0m \u001b[0muserdata\u001b[0m\u001b[0;34m.\u001b[0m\u001b[0mget\u001b[0m\u001b[0;34m(\u001b[0m\u001b[0;34m'KAGGLE_USERNAME'\u001b[0m\u001b[0;34m)\u001b[0m\u001b[0;34m\u001b[0m\u001b[0;34m\u001b[0m\u001b[0m\n\u001b[0m\u001b[1;32m      7\u001b[0m \u001b[0;34m\u001b[0m\u001b[0m\n\u001b[1;32m      8\u001b[0m \u001b[0mget_ipython\u001b[0m\u001b[0;34m(\u001b[0m\u001b[0;34m)\u001b[0m\u001b[0;34m.\u001b[0m\u001b[0msystem\u001b[0m\u001b[0;34m(\u001b[0m\u001b[0;34m'mkdir -p ~/.kaggle'\u001b[0m\u001b[0;34m)\u001b[0m\u001b[0;34m\u001b[0m\u001b[0;34m\u001b[0m\u001b[0m\n",
            "\u001b[0;32m/usr/local/lib/python3.10/dist-packages/google/colab/userdata.py\u001b[0m in \u001b[0;36mget\u001b[0;34m(key)\u001b[0m\n\u001b[1;32m     66\u001b[0m     \u001b[0;32mraise\u001b[0m \u001b[0mTimeoutException\u001b[0m\u001b[0;34m(\u001b[0m\u001b[0mkey\u001b[0m\u001b[0;34m)\u001b[0m\u001b[0;34m\u001b[0m\u001b[0;34m\u001b[0m\u001b[0m\n\u001b[1;32m     67\u001b[0m   \u001b[0;32mif\u001b[0m \u001b[0;32mnot\u001b[0m \u001b[0mresp\u001b[0m\u001b[0;34m.\u001b[0m\u001b[0mget\u001b[0m\u001b[0;34m(\u001b[0m\u001b[0;34m'exists'\u001b[0m\u001b[0;34m,\u001b[0m \u001b[0;32mFalse\u001b[0m\u001b[0;34m)\u001b[0m\u001b[0;34m:\u001b[0m\u001b[0;34m\u001b[0m\u001b[0;34m\u001b[0m\u001b[0m\n\u001b[0;32m---> 68\u001b[0;31m     \u001b[0;32mraise\u001b[0m \u001b[0mSecretNotFoundError\u001b[0m\u001b[0;34m(\u001b[0m\u001b[0mkey\u001b[0m\u001b[0;34m)\u001b[0m\u001b[0;34m\u001b[0m\u001b[0;34m\u001b[0m\u001b[0m\n\u001b[0m\u001b[1;32m     69\u001b[0m   \u001b[0;32mif\u001b[0m \u001b[0;32mnot\u001b[0m \u001b[0mresp\u001b[0m\u001b[0;34m.\u001b[0m\u001b[0mget\u001b[0m\u001b[0;34m(\u001b[0m\u001b[0;34m'access'\u001b[0m\u001b[0;34m,\u001b[0m \u001b[0;32mFalse\u001b[0m\u001b[0;34m)\u001b[0m\u001b[0;34m:\u001b[0m\u001b[0;34m\u001b[0m\u001b[0;34m\u001b[0m\u001b[0m\n\u001b[1;32m     70\u001b[0m     \u001b[0;32mraise\u001b[0m \u001b[0mNotebookAccessError\u001b[0m\u001b[0;34m(\u001b[0m\u001b[0mkey\u001b[0m\u001b[0;34m)\u001b[0m\u001b[0;34m\u001b[0m\u001b[0;34m\u001b[0m\u001b[0m\n",
            "\u001b[0;31mSecretNotFoundError\u001b[0m: Secret KAGGLE_USERNAME does not exist."
          ]
        }
      ],
      "source": [
        "from google.colab import userdata # type: ignore\n",
        "import os\n",
        "%pip install -U -q kaggle \n",
        "\n",
        "os.environ[\"KAGGLE_KEY\"] = userdata.get('KAGGLE_KEY')\n",
        "os.environ[\"KAGGLE_USERNAME\"] = userdata.get('KAGGLE_USERNAME')\n",
        "\n",
        "!mkdir -p ~/.kaggle\n",
        "!kaggle datasets download -d sofiamartinez222324/infraestructura-de-datos-espaciales-uy\n",
        "!unzip infraestructura-de-datos-espaciales-uy.zip"
      ]
    },
    {
      "cell_type": "markdown",
      "metadata": {
        "id": "7dIkrMPozXR6"
      },
      "source": [
        "Convertir archivos .logs a .csv para poder trabajar con Polars"
      ]
    },
    {
      "cell_type": "code",
      "execution_count": null,
      "metadata": {
        "id": "jdoXIs5PxogQ"
      },
      "outputs": [],
      "source": [
        "# Abro el archivo original .log\n",
        "with open(log_file_path, 'r') as file:\n",
        "    log_data = file.readlines()\n",
        "\n",
        "# Los encabezados para el archivo .csv\n",
        "headers = [\"ip\", \"timestamp\", \"request_method\", \"url\", \"http_version\", \"status_code\", \"size\", \"user_agent\"]\n",
        "\n",
        "# Lo leo linea por linea y voy guardando la info en el archivo.csv\n",
        "with open(csv_file_path, 'w', newline='') as csvfile:\n",
        "    csvwriter = csv.writer(csvfile)\n",
        "    csvwriter.writerow(headers)\n",
        "\n",
        "    for line in log_data:\n",
        "        parts = line.split(' ')\n",
        "\n",
        "        try:\n",
        "            ip = parts[0]\n",
        "            timestamp = ' '.join(parts[3:5]).strip('[]')\n",
        "            request_method = parts[5].strip('\"') if parts[5] != '\"-\"' else None\n",
        "            url = parts[6] if len(parts) > 6 else None\n",
        "            http_version = parts[7].strip('\"') if len(parts) > 7 else None\n",
        "            status_code = int(parts[8]) if len(parts) > 8 and parts[8].isdigit() else None\n",
        "            size = int(parts[9]) if len(parts) > 9 and parts[9].isdigit() else None\n",
        "            user_agent = ' '.join(parts[11:]).strip('\"') if len(parts) > 11 else None\n",
        "\n",
        "            csvwriter.writerow([ip, timestamp, request_method, url, http_version, status_code, size, user_agent])\n",
        "\n",
        "        except (IndexError, ValueError) as e:\n",
        "            print(f\"Error procesando la línea: {line.strip()} - Error: {e}\")\n",
        "            csvwriter.writerow([ip, timestamp, None, None, None, None, None, None])"
      ]
    },
    {
      "cell_type": "markdown",
      "metadata": {
        "id": "BaowLSgwzrz2"
      },
      "source": [
        "## Funciones Auxiliares\n",
        "\n",
        "#### **filtrar_map_server:**\n",
        "MapServer es una plataforma de código abierto para publicar datos espaciales y aplicaciones interactivas de mapeo en la web.\n",
        "libcurl es una biblioteca utilizada por MapServer para manejar transferencias de datos a través de varios protocolos de red.\n",
        "\n",
        "---\n",
        "\n",
        "#### **filtar_wms:**\n",
        "Un WMS (Web Map Service) es un estándar desarrollado por el OGC (Open Geospatial Consortium) que permite la visualización de mapas georreferenciados a través de la web. Un servicio WMS puede devolver imágenes de mapas basadas en datos geográficos, y el documento de capacidades describe cómo se pueden solicitar estas imágenes y qué capas están disponibles.\n",
        "\n",
        "Dado que todas las solicitudes son muy cercanas en tiempo y provienen de la misma ip, se podría decir que: Un usuario hizo varias solicitudes consecutivas rápidamente. O, lo que es más probable, un script o un programa hizo esas solicitudes.\n",
        "\n",
        "---\n",
        "\n",
        "#### **filtrar_jcemediabox:**\n",
        "Estas URLs están asociadas con JCEMediaBox, un plugin de Joomla que facilita la incorporación de lightboxes para mostrar imágenes, vídeos y otros tipos de medios de una manera atractiva y funcional. Los archivos .js contienen el código JavaScript necesario para hacer funcionar el lightbox, mientras que los archivos .css contienen los estilos que determinan la apariencia del lightbox en la página web.\n",
        "\n",
        "---\n",
        "\n",
        "#### **filtrar_css y filtrar_js:**\n",
        "El objetivo de nuestro análisis es entender el tráfico relacionado con la funcionalidad del sitio y excluir contenido estático como .css y .js. Por lo que decidimos filtrar estos archivos. Si quisiéramos hacer un análisis más completo del tráfico, deberíamos mantener estos archivos.\n",
        "\n",
        "Pero los archivos .css y .js son muy frecuentes en los logs y filtrarlos puede reducir el \"ruido\" en los datos, permitiéndonos enfocarnos en las solicitudes más relevantes.\n"
      ]
    },
    {
      "cell_type": "code",
      "execution_count": null,
      "metadata": {
        "id": "56awTJGcv-16"
      },
      "outputs": [],
      "source": [
        "##### Funciones auxiliares - Limpieza de datos\n",
        "def obtener_total_registros():\n",
        "    return df.height # type: ignore\n",
        "\n",
        "def contar_registros_url(df, regex):\n",
        "    return df.filter(pl.col(\"url\").str.contains(regex)).height\n",
        "\n",
        "def contar_registros_user_agent(df, regex):\n",
        "    return df.filter(pl.col(\"user_agent\").str.contains(regex)).height\n",
        "\n",
        "# Robos y Crawlers\n",
        "def contar_filtros_robots(df):\n",
        "    total_registros = obtener_total_registros()\n",
        "\n",
        "    registros_googlebot = contar_registros_user_agent(df, 'Googlebot')\n",
        "    registros_baiduspider = contar_registros_user_agent(df, 'Baiduspider')\n",
        "    registros_agesic_crawler = contar_registros_user_agent(df, 'agesic-crawler')\n",
        "\n",
        "    porcentaje_googlebot = (registros_googlebot / total_registros) * 100\n",
        "    porcentaje_baiduspider = (registros_baiduspider / total_registros) * 100\n",
        "    porcentaje_agesic_crawler = (registros_agesic_crawler / total_registros) * 100\n",
        "\n",
        "    print(f\"Registros 'Googlebot': {registros_googlebot} ({porcentaje_googlebot:.2f}%)\")\n",
        "    print(f\"Registros 'Baiduspider': {registros_baiduspider} ({porcentaje_baiduspider:.2f}%)\")\n",
        "    print(f\"Registros 'agesic-crawler': {registros_agesic_crawler} ({porcentaje_agesic_crawler:.2f}%)\")\n",
        "\n",
        "def filtrar_googlebot(df):\n",
        "    return df.filter(~pl.col(\"user_agent\").str.contains('Googlebot'))\n",
        "\n",
        "def filtrar_baiduspider(df):\n",
        "    return df.filter(~pl.col(\"user_agent\").str.contains('Baiduspider'))\n",
        "\n",
        "def filtrar_agesic_crawler(df):\n",
        "    return df.filter(~pl.col(\"user_agent\").str.contains('agesic-crawler'))\n",
        "\n",
        "def filtrar_robots_y_crawlers(df):\n",
        "    contar_filtros_robots(df)\n",
        "    df = filtrar_googlebot(df)\n",
        "    df = filtrar_baiduspider(df)\n",
        "    df = filtrar_agesic_crawler(df)\n",
        "    return df\n",
        "\n",
        "# Servicios de mapas\n",
        "def contar_filtros_servicios_mapas(df):\n",
        "    total_registros = obtener_total_registros()\n",
        "\n",
        "    registros_map_server = contar_registros_url(df, '/wfsPCN1000.cgi')\n",
        "    registros_wms = contar_registros_url(df, 'SERVICE=WMS')\n",
        "\n",
        "    porcentaje_map_server = (registros_map_server / total_registros) * 100 if total_registros > 0 else 0\n",
        "    porcentaje_wms = (registros_wms / total_registros) * 100 if total_registros > 0 else 0\n",
        "\n",
        "    print(f\"Registros '/wfsPCN1000.cgi': {registros_map_server} ({porcentaje_map_server:.2f}%)\")\n",
        "    print(f\"Registros 'SERVICE=WMS': {registros_wms} ({porcentaje_wms:.2f}%)\")\n",
        "\n",
        "def filtrar_map_server(df):\n",
        "    return df.filter(~pl.col(\"url\").str.contains('/wfsPCN1000.cgi'))\n",
        "\n",
        "def filtrar_wms(df):\n",
        "    return df.filter(~pl.col(\"url\").str.contains('SERVICE=WMS'))\n",
        "\n",
        "def filtrar_solicitudes_servicios_mapas(df):\n",
        "    contar_filtros_servicios_mapas(df)\n",
        "    df = filtrar_map_server(df)\n",
        "    df = filtrar_wms(df)\n",
        "    return df\n",
        "\n",
        "# Archivos estáticos\n",
        "def contar_filtros_archivos_estaticos(df):\n",
        "    total_registros = obtener_total_registros()\n",
        "\n",
        "    registros_jcemediabox = contar_registros_url(df, '/plugins/system/jcemediabox/')\n",
        "    registros_css = contar_registros_url(df, r'\\.css$')\n",
        "    registros_js = contar_registros_url(df, r'\\.js$')\n",
        "    registros_png = contar_registros_url(df, r'\\.png$')\n",
        "    registros_jpg = contar_registros_url(df, r'\\.jpg$')\n",
        "    registros_gif = contar_registros_url(df, r'\\.gif$')\n",
        "    registros_favicon = contar_registros_url(df, r'favicon\\.ico$')\n",
        "\n",
        "    porcentaje_jcemediabox = (registros_jcemediabox / total_registros) * 100\n",
        "    porcentaje_css = (registros_css / total_registros) * 100\n",
        "    porcentaje_js = (registros_js / total_registros) * 100\n",
        "    porcentaje_png = (registros_png / total_registros) * 100\n",
        "    porcentaje_jpg = (registros_jpg / total_registros) * 100\n",
        "    porcentaje_gif = (registros_gif / total_registros) * 100\n",
        "    porcentaje_favicon = (registros_favicon / total_registros) * 100\n",
        "\n",
        "    print(f\"Registros 'jcemediabox': {registros_jcemediabox} ({porcentaje_jcemediabox:.2f}%)\")\n",
        "    print(f\"Registros '.css': {registros_css} ({porcentaje_css:.2f}%)\")\n",
        "    print(f\"Registros '.js': {registros_js} ({porcentaje_js:.2f}%)\")\n",
        "    print(f\"Registros '.png': {registros_png} ({porcentaje_png:.2f}%)\")\n",
        "    print(f\"Registros '.jpg': {registros_jpg} ({porcentaje_jpg:.2f}%)\")\n",
        "    print(f\"Registros '.gif': {registros_gif} ({porcentaje_gif:.2f}%)\")\n",
        "    print(f\"Registros 'favicon.ico': {registros_favicon} ({porcentaje_favicon:.2f}%)\")\n",
        "\n",
        "def filtar_jcemediabox(df):\n",
        "    return df.filter(~pl.col(\"url\").str.contains('/plugins/system/jcemediabox/'))\n",
        "\n",
        "def filtrar_css(df):\n",
        "    regex = r'\\.css$'\n",
        "    return df.filter(~pl.col(\"url\").str.contains(regex))\n",
        "\n",
        "def filtrar_js(df):\n",
        "    regex = r'\\.js$'\n",
        "    return df.filter(~pl.col(\"url\").str.contains(regex))\n",
        "\n",
        "def filtrar_png(df):\n",
        "    regex = r'\\.png$'\n",
        "    return df.filter(~pl.col(\"url\").str.contains(regex))\n",
        "\n",
        "def filtrar_jpg(df):\n",
        "    regex = r'\\.jpg$'\n",
        "    return df.filter(~pl.col(\"url\").str.contains(regex))\n",
        "\n",
        "def filtrar_gif(df):\n",
        "    regex = r'\\.gif$'\n",
        "    return df.filter(~pl.col(\"url\").str.contains(r'\\.gif$'))\n",
        "\n",
        "def filtrar_favicon(df):\n",
        "    regex = r'favicon\\.ico$'\n",
        "    return df.filter(~pl.col(\"url\").str.contains(r'favicon\\.ico$'))\n",
        "\n",
        "def filtrar_datos(df):\n",
        "    contar_filtros_archivos_estaticos(df)\n",
        "    df = filtar_jcemediabox(df)\n",
        "    df = filtrar_css(df)\n",
        "    df = filtrar_js(df)\n",
        "    df = filtrar_png(df)\n",
        "    df = filtrar_jpg(df)\n",
        "    df = filtrar_gif(df)\n",
        "    df = filtrar_favicon(df)\n",
        "    return df\n",
        "\n",
        "def formatear_fecha(df):\n",
        "    return df.with_columns([pl.col(\"timestamp\").str.strptime(pl.Datetime, \"%d/%b/%Y:%H:%M:%S %z\", strict=False).dt.strftime(\"%d-%m-%Y %H:%M:%S\").alias(\"timestamp\")])"
      ]
    },
    {
      "cell_type": "markdown",
      "metadata": {
        "id": "o5x339Hi0E1t"
      },
      "source": [
        "## Main"
      ]
    },
    {
      "cell_type": "code",
      "execution_count": null,
      "metadata": {
        "id": "P1uzJ-9rwFvG"
      },
      "outputs": [],
      "source": [
        "df = pl.read_csv(csv_file_path)"
      ]
    },
    {
      "cell_type": "markdown",
      "metadata": {
        "id": "Ia6RqdFcrQVI"
      },
      "source": [
        "#### Reconocimiento del data frame\n",
        "Veamos cómo está compuesto el dataframe"
      ]
    },
    {
      "cell_type": "code",
      "execution_count": null,
      "metadata": {
        "colab": {
          "base_uri": "https://localhost:8080/"
        },
        "id": "1CXd953pq3Ci",
        "outputId": "3586d880-9b61-4a98-c481-d37e2754f60e"
      },
      "outputs": [
        {
          "data": {
            "text/plain": [
              "OrderedDict([('ip', Utf8),\n",
              "             ('timestamp', Utf8),\n",
              "             ('request_method', Utf8),\n",
              "             ('url', Utf8),\n",
              "             ('http_version', Utf8),\n",
              "             ('status_code', Int64),\n",
              "             ('size', Int64),\n",
              "             ('user_agent', Utf8)])"
            ]
          },
          "execution_count": 237,
          "metadata": {},
          "output_type": "execute_result"
        }
      ],
      "source": [
        "df.schema"
      ]
    },
    {
      "cell_type": "markdown",
      "metadata": {
        "id": "XLHZH3dnqqyh"
      },
      "source": [
        "Mostramos las primeras 5 filas del dataframe"
      ]
    },
    {
      "cell_type": "code",
      "execution_count": null,
      "metadata": {
        "colab": {
          "base_uri": "https://localhost:8080/",
          "height": 255
        },
        "id": "hzCLgyokqtN9",
        "outputId": "075eb604-49d2-47f9-cecf-ae8268fb5d85"
      },
      "outputs": [
        {
          "data": {
            "text/html": [
              "<div><style>\n",
              ".dataframe > thead > tr,\n",
              ".dataframe > tbody > tr {\n",
              "  text-align: right;\n",
              "  white-space: pre-wrap;\n",
              "}\n",
              "</style>\n",
              "<small>shape: (5, 8)</small><table border=\"1\" class=\"dataframe\"><thead><tr><th>ip</th><th>timestamp</th><th>request_method</th><th>url</th><th>http_version</th><th>status_code</th><th>size</th><th>user_agent</th></tr><tr><td>str</td><td>str</td><td>str</td><td>str</td><td>str</td><td>i64</td><td>i64</td><td>str</td></tr></thead><tbody><tr><td>&quot;127.0.0.1&quot;</td><td>&quot;02/Jun/2013:06…</td><td>&quot;OPTIONS&quot;</td><td>&quot;*&quot;</td><td>&quot;HTTP/1.0&quot;</td><td>200</td><td>167</td><td>&quot;Apache/2.2.14 …</td></tr><tr><td>&quot;127.0.0.1&quot;</td><td>&quot;02/Jun/2013:06…</td><td>&quot;OPTIONS&quot;</td><td>&quot;*&quot;</td><td>&quot;HTTP/1.0&quot;</td><td>200</td><td>167</td><td>&quot;Apache/2.2.14 …</td></tr><tr><td>&quot;127.0.0.1&quot;</td><td>&quot;02/Jun/2013:06…</td><td>&quot;OPTIONS&quot;</td><td>&quot;*&quot;</td><td>&quot;HTTP/1.0&quot;</td><td>200</td><td>167</td><td>&quot;Apache/2.2.14 …</td></tr><tr><td>&quot;180.76.5.150&quot;</td><td>&quot;02/Jun/2013:06…</td><td>&quot;GET&quot;</td><td>&quot;/index.php/com…</td><td>&quot;HTTP/1.1&quot;</td><td>200</td><td>8842</td><td>&quot;Mozilla/5.0 (c…</td></tr><tr><td>&quot;190.64.2.162&quot;</td><td>&quot;02/Jun/2013:06…</td><td>&quot;GET&quot;</td><td>&quot;/robots.txt&quot;</td><td>&quot;HTTP/1.0&quot;</td><td>200</td><td>718</td><td>&quot;agesic-crawler…</td></tr></tbody></table></div>"
            ],
            "text/plain": [
              "shape: (5, 8)\n",
              "┌─────────────┬────────────┬────────────┬────────────┬────────────┬────────────┬──────┬────────────┐\n",
              "│ ip          ┆ timestamp  ┆ request_me ┆ url        ┆ http_versi ┆ status_cod ┆ size ┆ user_agent │\n",
              "│ ---         ┆ ---        ┆ thod       ┆ ---        ┆ on         ┆ e          ┆ ---  ┆ ---        │\n",
              "│ str         ┆ str        ┆ ---        ┆ str        ┆ ---        ┆ ---        ┆ i64  ┆ str        │\n",
              "│             ┆            ┆ str        ┆            ┆ str        ┆ i64        ┆      ┆            │\n",
              "╞═════════════╪════════════╪════════════╪════════════╪════════════╪════════════╪══════╪════════════╡\n",
              "│ 127.0.0.1   ┆ 02/Jun/201 ┆ OPTIONS    ┆ *          ┆ HTTP/1.0   ┆ 200        ┆ 167  ┆ Apache/2.2 │\n",
              "│             ┆ 3:06:48:17 ┆            ┆            ┆            ┆            ┆      ┆ .14        │\n",
              "│             ┆ -0300      ┆            ┆            ┆            ┆            ┆      ┆ (Ubuntu)   │\n",
              "│             ┆            ┆            ┆            ┆            ┆            ┆      ┆ (internal… │\n",
              "│ 127.0.0.1   ┆ 02/Jun/201 ┆ OPTIONS    ┆ *          ┆ HTTP/1.0   ┆ 200        ┆ 167  ┆ Apache/2.2 │\n",
              "│             ┆ 3:06:48:17 ┆            ┆            ┆            ┆            ┆      ┆ .14        │\n",
              "│             ┆ -0300      ┆            ┆            ┆            ┆            ┆      ┆ (Ubuntu)   │\n",
              "│             ┆            ┆            ┆            ┆            ┆            ┆      ┆ (internal… │\n",
              "│ 127.0.0.1   ┆ 02/Jun/201 ┆ OPTIONS    ┆ *          ┆ HTTP/1.0   ┆ 200        ┆ 167  ┆ Apache/2.2 │\n",
              "│             ┆ 3:06:48:17 ┆            ┆            ┆            ┆            ┆      ┆ .14        │\n",
              "│             ┆ -0300      ┆            ┆            ┆            ┆            ┆      ┆ (Ubuntu)   │\n",
              "│             ┆            ┆            ┆            ┆            ┆            ┆      ┆ (internal… │\n",
              "│ 180.76.5.15 ┆ 02/Jun/201 ┆ GET        ┆ /index.php ┆ HTTP/1.1   ┆ 200        ┆ 8842 ┆ Mozilla/5. │\n",
              "│ 0           ┆ 3:06:49:39 ┆            ┆ /component ┆            ┆            ┆      ┆ 0 (compati │\n",
              "│             ┆ -0300      ┆            ┆ /jevents/s ┆            ┆            ┆      ┆ ble;       │\n",
              "│             ┆            ┆            ┆ ea…        ┆            ┆            ┆      ┆ Baidusp…   │\n",
              "│ 190.64.2.16 ┆ 02/Jun/201 ┆ GET        ┆ /robots.tx ┆ HTTP/1.0   ┆ 200        ┆ 718  ┆ agesic-cra │\n",
              "│ 2           ┆ 3:06:51:40 ┆            ┆ t          ┆            ┆            ┆      ┆ wler (Ente │\n",
              "│             ┆ -0300      ┆            ┆            ┆            ┆            ┆      ┆ rprise;    │\n",
              "│             ┆            ┆            ┆            ┆            ┆            ┆      ┆ T3-R…      │\n",
              "└─────────────┴────────────┴────────────┴────────────┴────────────┴────────────┴──────┴────────────┘"
            ]
          },
          "execution_count": 238,
          "metadata": {},
          "output_type": "execute_result"
        }
      ],
      "source": [
        "df.head(5)"
      ]
    },
    {
      "cell_type": "markdown",
      "metadata": {
        "id": "i8GlAHVAcYbW"
      },
      "source": [
        "Veremos la cantidad de registros con los que cuenta el dataset"
      ]
    },
    {
      "cell_type": "code",
      "execution_count": null,
      "metadata": {
        "colab": {
          "base_uri": "https://localhost:8080/",
          "height": 129
        },
        "id": "XekRH4tBccdE",
        "outputId": "125de44a-d1f1-48ee-96cc-e1b8ef4dd0cc"
      },
      "outputs": [
        {
          "data": {
            "text/html": [
              "<div><style>\n",
              ".dataframe > thead > tr,\n",
              ".dataframe > tbody > tr {\n",
              "  text-align: right;\n",
              "  white-space: pre-wrap;\n",
              "}\n",
              "</style>\n",
              "<small>shape: (1, 8)</small><table border=\"1\" class=\"dataframe\"><thead><tr><th>ip</th><th>timestamp</th><th>request_method</th><th>url</th><th>http_version</th><th>status_code</th><th>size</th><th>user_agent</th></tr><tr><td>u32</td><td>u32</td><td>u32</td><td>u32</td><td>u32</td><td>u32</td><td>u32</td><td>u32</td></tr></thead><tbody><tr><td>207232</td><td>207232</td><td>206769</td><td>207232</td><td>207232</td><td>206768</td><td>206768</td><td>206768</td></tr></tbody></table></div>"
            ],
            "text/plain": [
              "shape: (1, 8)\n",
              "┌────────┬───────────┬────────────────┬────────┬──────────────┬─────────────┬────────┬────────────┐\n",
              "│ ip     ┆ timestamp ┆ request_method ┆ url    ┆ http_version ┆ status_code ┆ size   ┆ user_agent │\n",
              "│ ---    ┆ ---       ┆ ---            ┆ ---    ┆ ---          ┆ ---         ┆ ---    ┆ ---        │\n",
              "│ u32    ┆ u32       ┆ u32            ┆ u32    ┆ u32          ┆ u32         ┆ u32    ┆ u32        │\n",
              "╞════════╪═══════════╪════════════════╪════════╪══════════════╪═════════════╪════════╪════════════╡\n",
              "│ 207232 ┆ 207232    ┆ 206769         ┆ 207232 ┆ 207232       ┆ 206768      ┆ 206768 ┆ 206768     │\n",
              "└────────┴───────────┴────────────────┴────────┴──────────────┴─────────────┴────────┴────────────┘"
            ]
          },
          "execution_count": 239,
          "metadata": {},
          "output_type": "execute_result"
        }
      ],
      "source": [
        "cantidad_registros = df.select(pl.all().count())\n",
        "cantidad_registros"
      ]
    },
    {
      "cell_type": "markdown",
      "metadata": {
        "id": "zEtMS5iZskfz"
      },
      "source": [
        "Podemos notar que para las columnas de request_method, status_code, size y user_agent se muestra una cantidad de registros menor comparado con las columnas de ip, timestamp, url y http_version.\n",
        "\n",
        "Veremos con que cantidad de valores vacíos nos encontramos en el df, para verificar si esta es la razón de que nos aparezcan registros faltantes."
      ]
    },
    {
      "cell_type": "code",
      "execution_count": null,
      "metadata": {
        "colab": {
          "base_uri": "https://localhost:8080/",
          "height": 129
        },
        "id": "Lq79UfJasoLK",
        "outputId": "80250a8c-ebdf-4efb-ee1c-e7f4d6d096c7"
      },
      "outputs": [
        {
          "data": {
            "text/html": [
              "<div><style>\n",
              ".dataframe > thead > tr,\n",
              ".dataframe > tbody > tr {\n",
              "  text-align: right;\n",
              "  white-space: pre-wrap;\n",
              "}\n",
              "</style>\n",
              "<small>shape: (1, 8)</small><table border=\"1\" class=\"dataframe\"><thead><tr><th>ip</th><th>timestamp</th><th>request_method</th><th>url</th><th>http_version</th><th>status_code</th><th>size</th><th>user_agent</th></tr><tr><td>u32</td><td>u32</td><td>u32</td><td>u32</td><td>u32</td><td>u32</td><td>u32</td><td>u32</td></tr></thead><tbody><tr><td>0</td><td>0</td><td>463</td><td>0</td><td>0</td><td>464</td><td>464</td><td>464</td></tr></tbody></table></div>"
            ],
            "text/plain": [
              "shape: (1, 8)\n",
              "┌─────┬───────────┬────────────────┬─────┬──────────────┬─────────────┬──────┬────────────┐\n",
              "│ ip  ┆ timestamp ┆ request_method ┆ url ┆ http_version ┆ status_code ┆ size ┆ user_agent │\n",
              "│ --- ┆ ---       ┆ ---            ┆ --- ┆ ---          ┆ ---         ┆ ---  ┆ ---        │\n",
              "│ u32 ┆ u32       ┆ u32            ┆ u32 ┆ u32          ┆ u32         ┆ u32  ┆ u32        │\n",
              "╞═════╪═══════════╪════════════════╪═════╪══════════════╪═════════════╪══════╪════════════╡\n",
              "│ 0   ┆ 0         ┆ 463            ┆ 0   ┆ 0            ┆ 464         ┆ 464  ┆ 464        │\n",
              "└─────┴───────────┴────────────────┴─────┴──────────────┴─────────────┴──────┴────────────┘"
            ]
          },
          "execution_count": 240,
          "metadata": {},
          "output_type": "execute_result"
        }
      ],
      "source": [
        "cantidad_nulos = df.null_count()\n",
        "cantidad_nulos"
      ]
    },
    {
      "cell_type": "code",
      "execution_count": null,
      "metadata": {
        "colab": {
          "base_uri": "https://localhost:8080/",
          "height": 129
        },
        "id": "uIO_zxD4X4yT",
        "outputId": "9a8dbf49-d3d9-44b8-bfb6-dcf2b9275410"
      },
      "outputs": [
        {
          "data": {
            "text/html": [
              "<div><style>\n",
              ".dataframe > thead > tr,\n",
              ".dataframe > tbody > tr {\n",
              "  text-align: right;\n",
              "  white-space: pre-wrap;\n",
              "}\n",
              "</style>\n",
              "<small>shape: (1, 8)</small><table border=\"1\" class=\"dataframe\"><thead><tr><th>ip</th><th>timestamp</th><th>request_method</th><th>url</th><th>http_version</th><th>status_code</th><th>size</th><th>user_agent</th></tr><tr><td>u32</td><td>u32</td><td>u32</td><td>u32</td><td>u32</td><td>u32</td><td>u32</td><td>u32</td></tr></thead><tbody><tr><td>207232</td><td>207232</td><td>207232</td><td>207232</td><td>207232</td><td>207232</td><td>207232</td><td>207232</td></tr></tbody></table></div>"
            ],
            "text/plain": [
              "shape: (1, 8)\n",
              "┌────────┬───────────┬────────────────┬────────┬──────────────┬─────────────┬────────┬────────────┐\n",
              "│ ip     ┆ timestamp ┆ request_method ┆ url    ┆ http_version ┆ status_code ┆ size   ┆ user_agent │\n",
              "│ ---    ┆ ---       ┆ ---            ┆ ---    ┆ ---          ┆ ---         ┆ ---    ┆ ---        │\n",
              "│ u32    ┆ u32       ┆ u32            ┆ u32    ┆ u32          ┆ u32         ┆ u32    ┆ u32        │\n",
              "╞════════╪═══════════╪════════════════╪════════╪══════════════╪═════════════╪════════╪════════════╡\n",
              "│ 207232 ┆ 207232    ┆ 207232         ┆ 207232 ┆ 207232       ┆ 207232      ┆ 207232 ┆ 207232     │\n",
              "└────────┴───────────┴────────────────┴────────┴──────────────┴─────────────┴────────┴────────────┘"
            ]
          },
          "execution_count": 241,
          "metadata": {},
          "output_type": "execute_result"
        }
      ],
      "source": [
        "total_registros = cantidad_registros + cantidad_nulos\n",
        "total_registros"
      ]
    },
    {
      "cell_type": "markdown",
      "metadata": {
        "id": "Q6nGUIaddYOy"
      },
      "source": [
        "Como sospechábamos, la diferencia entre las cantidades de registros se debe a los valores en nulo.\n",
        "\n",
        "El porcentaje de valores nulos por columna es el siguiente:"
      ]
    },
    {
      "cell_type": "code",
      "execution_count": null,
      "metadata": {
        "colab": {
          "base_uri": "https://localhost:8080/",
          "height": 129
        },
        "id": "ejxzPaiNXdfD",
        "outputId": "d628d9b7-9302-4dc3-f324-b60e4f03b5a7"
      },
      "outputs": [
        {
          "data": {
            "text/html": [
              "<div><style>\n",
              ".dataframe > thead > tr,\n",
              ".dataframe > tbody > tr {\n",
              "  text-align: right;\n",
              "  white-space: pre-wrap;\n",
              "}\n",
              "</style>\n",
              "<small>shape: (1, 8)</small><table border=\"1\" class=\"dataframe\"><thead><tr><th>ip</th><th>timestamp</th><th>request_method</th><th>url</th><th>http_version</th><th>status_code</th><th>size</th><th>user_agent</th></tr><tr><td>f64</td><td>f64</td><td>f64</td><td>f64</td><td>f64</td><td>f64</td><td>f64</td><td>f64</td></tr></thead><tbody><tr><td>0.0</td><td>0.0</td><td>0.223421</td><td>0.0</td><td>0.0</td><td>0.223904</td><td>0.223904</td><td>0.223904</td></tr></tbody></table></div>"
            ],
            "text/plain": [
              "shape: (1, 8)\n",
              "┌─────┬───────────┬────────────────┬─────┬──────────────┬─────────────┬──────────┬────────────┐\n",
              "│ ip  ┆ timestamp ┆ request_method ┆ url ┆ http_version ┆ status_code ┆ size     ┆ user_agent │\n",
              "│ --- ┆ ---       ┆ ---            ┆ --- ┆ ---          ┆ ---         ┆ ---      ┆ ---        │\n",
              "│ f64 ┆ f64       ┆ f64            ┆ f64 ┆ f64          ┆ f64         ┆ f64      ┆ f64        │\n",
              "╞═════╪═══════════╪════════════════╪═════╪══════════════╪═════════════╪══════════╪════════════╡\n",
              "│ 0.0 ┆ 0.0       ┆ 0.223421       ┆ 0.0 ┆ 0.0          ┆ 0.223904    ┆ 0.223904 ┆ 0.223904   │\n",
              "└─────┴───────────┴────────────────┴─────┴──────────────┴─────────────┴──────────┴────────────┘"
            ]
          },
          "execution_count": 242,
          "metadata": {},
          "output_type": "execute_result"
        }
      ],
      "source": [
        "porcentaje_nulos = (cantidad_nulos / total_registros) * 100\n",
        "porcentaje_nulos"
      ]
    },
    {
      "cell_type": "markdown",
      "metadata": {
        "id": "bsABi-G9vzxb"
      },
      "source": [
        "#### Limpieza de nulos\n",
        "Vemos que hay una gran cantidad de celdas con valores en nulo, por lo que vamos a filtrar las filas que tienen valores vacíos en al menos una columna para poder visualizar algunos casos"
      ]
    },
    {
      "cell_type": "code",
      "execution_count": null,
      "metadata": {
        "colab": {
          "base_uri": "https://localhost:8080/",
          "height": 412
        },
        "id": "sayRovTgvw5d",
        "outputId": "b0f7a41a-f6bc-4ed6-f361-c6782035cf76"
      },
      "outputs": [
        {
          "data": {
            "text/html": [
              "<div><style>\n",
              ".dataframe > thead > tr,\n",
              ".dataframe > tbody > tr {\n",
              "  text-align: right;\n",
              "  white-space: pre-wrap;\n",
              "}\n",
              "</style>\n",
              "<small>shape: (10, 8)</small><table border=\"1\" class=\"dataframe\"><thead><tr><th>ip</th><th>timestamp</th><th>request_method</th><th>url</th><th>http_version</th><th>status_code</th><th>size</th><th>user_agent</th></tr><tr><td>str</td><td>str</td><td>str</td><td>str</td><td>str</td><td>i64</td><td>i64</td><td>str</td></tr></thead><tbody><tr><td>&quot;186.49.154.44&quot;</td><td>&quot;02/Jun/2013:16…</td><td>null</td><td>&quot;408&quot;</td><td>&quot;0&quot;</td><td>null</td><td>null</td><td>null</td></tr><tr><td>&quot;66.249.82.10&quot;</td><td>&quot;02/Jun/2013:16…</td><td>null</td><td>&quot;408&quot;</td><td>&quot;0&quot;</td><td>null</td><td>null</td><td>null</td></tr><tr><td>&quot;186.49.154.44&quot;</td><td>&quot;02/Jun/2013:16…</td><td>null</td><td>&quot;408&quot;</td><td>&quot;0&quot;</td><td>null</td><td>null</td><td>null</td></tr><tr><td>&quot;186.49.13.241&quot;</td><td>&quot;02/Jun/2013:17…</td><td>null</td><td>&quot;408&quot;</td><td>&quot;0&quot;</td><td>null</td><td>null</td><td>null</td></tr><tr><td>&quot;190.233.189.16…</td><td>&quot;02/Jun/2013:17…</td><td>null</td><td>&quot;408&quot;</td><td>&quot;0&quot;</td><td>null</td><td>null</td><td>null</td></tr><tr><td>&quot;190.233.189.16…</td><td>&quot;02/Jun/2013:17…</td><td>null</td><td>&quot;408&quot;</td><td>&quot;0&quot;</td><td>null</td><td>null</td><td>null</td></tr><tr><td>&quot;186.54.145.192…</td><td>&quot;02/Jun/2013:18…</td><td>null</td><td>&quot;408&quot;</td><td>&quot;0&quot;</td><td>null</td><td>null</td><td>null</td></tr><tr><td>&quot;186.54.145.192…</td><td>&quot;02/Jun/2013:18…</td><td>null</td><td>&quot;408&quot;</td><td>&quot;0&quot;</td><td>null</td><td>null</td><td>null</td></tr><tr><td>&quot;186.54.145.192…</td><td>&quot;02/Jun/2013:18…</td><td>null</td><td>&quot;408&quot;</td><td>&quot;0&quot;</td><td>null</td><td>null</td><td>null</td></tr><tr><td>&quot;186.54.145.192…</td><td>&quot;02/Jun/2013:18…</td><td>null</td><td>&quot;408&quot;</td><td>&quot;0&quot;</td><td>null</td><td>null</td><td>null</td></tr></tbody></table></div>"
            ],
            "text/plain": [
              "shape: (10, 8)\n",
              "┌──────────────┬──────────────┬──────────────┬─────┬─────────────┬─────────────┬──────┬────────────┐\n",
              "│ ip           ┆ timestamp    ┆ request_meth ┆ url ┆ http_versio ┆ status_code ┆ size ┆ user_agent │\n",
              "│ ---          ┆ ---          ┆ od           ┆ --- ┆ n           ┆ ---         ┆ ---  ┆ ---        │\n",
              "│ str          ┆ str          ┆ ---          ┆ str ┆ ---         ┆ i64         ┆ i64  ┆ str        │\n",
              "│              ┆              ┆ str          ┆     ┆ str         ┆             ┆      ┆            │\n",
              "╞══════════════╪══════════════╪══════════════╪═════╪═════════════╪═════════════╪══════╪════════════╡\n",
              "│ 186.49.154.4 ┆ 02/Jun/2013: ┆ null         ┆ 408 ┆ 0           ┆ null        ┆ null ┆ null       │\n",
              "│ 4            ┆ 16:24:20     ┆              ┆     ┆             ┆             ┆      ┆            │\n",
              "│              ┆ -0300        ┆              ┆     ┆             ┆             ┆      ┆            │\n",
              "│ 66.249.82.10 ┆ 02/Jun/2013: ┆ null         ┆ 408 ┆ 0           ┆ null        ┆ null ┆ null       │\n",
              "│              ┆ 16:42:06     ┆              ┆     ┆             ┆             ┆      ┆            │\n",
              "│              ┆ -0300        ┆              ┆     ┆             ┆             ┆      ┆            │\n",
              "│ 186.49.154.4 ┆ 02/Jun/2013: ┆ null         ┆ 408 ┆ 0           ┆ null        ┆ null ┆ null       │\n",
              "│ 4            ┆ 16:51:04     ┆              ┆     ┆             ┆             ┆      ┆            │\n",
              "│              ┆ -0300        ┆              ┆     ┆             ┆             ┆      ┆            │\n",
              "│ 186.49.13.24 ┆ 02/Jun/2013: ┆ null         ┆ 408 ┆ 0           ┆ null        ┆ null ┆ null       │\n",
              "│ 1            ┆ 17:13:22     ┆              ┆     ┆             ┆             ┆      ┆            │\n",
              "│              ┆ -0300        ┆              ┆     ┆             ┆             ┆      ┆            │\n",
              "│ …            ┆ …            ┆ …            ┆ …   ┆ …           ┆ …           ┆ …    ┆ …          │\n",
              "│ 186.54.145.1 ┆ 02/Jun/2013: ┆ null         ┆ 408 ┆ 0           ┆ null        ┆ null ┆ null       │\n",
              "│ 92           ┆ 18:27:14     ┆              ┆     ┆             ┆             ┆      ┆            │\n",
              "│              ┆ -0300        ┆              ┆     ┆             ┆             ┆      ┆            │\n",
              "│ 186.54.145.1 ┆ 02/Jun/2013: ┆ null         ┆ 408 ┆ 0           ┆ null        ┆ null ┆ null       │\n",
              "│ 92           ┆ 18:27:14     ┆              ┆     ┆             ┆             ┆      ┆            │\n",
              "│              ┆ -0300        ┆              ┆     ┆             ┆             ┆      ┆            │\n",
              "│ 186.54.145.1 ┆ 02/Jun/2013: ┆ null         ┆ 408 ┆ 0           ┆ null        ┆ null ┆ null       │\n",
              "│ 92           ┆ 18:27:15     ┆              ┆     ┆             ┆             ┆      ┆            │\n",
              "│              ┆ -0300        ┆              ┆     ┆             ┆             ┆      ┆            │\n",
              "│ 186.54.145.1 ┆ 02/Jun/2013: ┆ null         ┆ 408 ┆ 0           ┆ null        ┆ null ┆ null       │\n",
              "│ 92           ┆ 18:28:12     ┆              ┆     ┆             ┆             ┆      ┆            │\n",
              "│              ┆ -0300        ┆              ┆     ┆             ┆             ┆      ┆            │\n",
              "└──────────────┴──────────────┴──────────────┴─────┴─────────────┴─────────────┴──────┴────────────┘"
            ]
          },
          "execution_count": 243,
          "metadata": {},
          "output_type": "execute_result"
        }
      ],
      "source": [
        "from functools import reduce\n",
        "\n",
        "mask = reduce(lambda a, b: a | b, [df[col].is_null() for col in df.columns])\n",
        "rows_con_nulos = df.filter(mask)\n",
        "rows_con_nulos.head(10)"
      ]
    },
    {
      "cell_type": "markdown",
      "metadata": {
        "id": "8NFIBOGd3tMY"
      },
      "source": [
        "Encontramos algo que nos llama la atención y es que están apareciendo algunos status code dentro de la columna de urls, lo podemos verificar con la siguiente consulta:"
      ]
    },
    {
      "cell_type": "code",
      "execution_count": null,
      "metadata": {
        "colab": {
          "base_uri": "https://localhost:8080/"
        },
        "id": "90S2eN5-30nN",
        "outputId": "3a56387a-a53a-4e78-838b-b9b65be76e48"
      },
      "outputs": [
        {
          "name": "stdout",
          "output_type": "stream",
          "text": [
            "shape: (28_677, 1)\n",
            "┌───────────────────────────────────┐\n",
            "│ url                               │\n",
            "│ ---                               │\n",
            "│ str                               │\n",
            "╞═══════════════════════════════════╡\n",
            "│ http://www.sina.com.cn/           │\n",
            "│ 408                               │\n",
            "│ 200                               │\n",
            "│ /wp-content/themes/Bold/timthumb… │\n",
            "│ …                                 │\n",
            "│ //admin/tting.php                 │\n",
            "│ /%7Bphocagallery%20view=category… │\n",
            "│ /                                 │\n",
            "│ *                                 │\n",
            "└───────────────────────────────────┘\n"
          ]
        }
      ],
      "source": [
        "unique_status = df.select(\"url\").unique()\n",
        "print(unique_status.sort(\"url\", descending=True))"
      ]
    },
    {
      "cell_type": "markdown",
      "metadata": {
        "id": "6USnmdth3_FU"
      },
      "source": [
        "Vamos a filtrar las filas que contienen códigos de estado en la columna `url` para que que valores tienen esas filas"
      ]
    },
    {
      "cell_type": "code",
      "execution_count": null,
      "metadata": {
        "colab": {
          "base_uri": "https://localhost:8080/"
        },
        "id": "mq7a-ZG0zcfU",
        "outputId": "d3cb826f-f081-470b-a206-1d8a7839971e"
      },
      "outputs": [
        {
          "name": "stdout",
          "output_type": "stream",
          "text": [
            "shape: (464, 8)\n",
            "┌──────────────┬──────────────┬──────────────┬─────┬─────────────┬─────────────┬──────┬────────────┐\n",
            "│ ip           ┆ timestamp    ┆ request_meth ┆ url ┆ http_versio ┆ status_code ┆ size ┆ user_agent │\n",
            "│ ---          ┆ ---          ┆ od           ┆ --- ┆ n           ┆ ---         ┆ ---  ┆ ---        │\n",
            "│ str          ┆ str          ┆ ---          ┆ str ┆ ---         ┆ i64         ┆ i64  ┆ str        │\n",
            "│              ┆              ┆ str          ┆     ┆ str         ┆             ┆      ┆            │\n",
            "╞══════════════╪══════════════╪══════════════╪═════╪═════════════╪═════════════╪══════╪════════════╡\n",
            "│ 186.49.154.4 ┆ 02/Jun/2013: ┆ null         ┆ 408 ┆ 0           ┆ null        ┆ null ┆ null       │\n",
            "│ 4            ┆ 16:24:20     ┆              ┆     ┆             ┆             ┆      ┆            │\n",
            "│              ┆ -0300        ┆              ┆     ┆             ┆             ┆      ┆            │\n",
            "│ 66.249.82.10 ┆ 02/Jun/2013: ┆ null         ┆ 408 ┆ 0           ┆ null        ┆ null ┆ null       │\n",
            "│              ┆ 16:42:06     ┆              ┆     ┆             ┆             ┆      ┆            │\n",
            "│              ┆ -0300        ┆              ┆     ┆             ┆             ┆      ┆            │\n",
            "│ 186.49.154.4 ┆ 02/Jun/2013: ┆ null         ┆ 408 ┆ 0           ┆ null        ┆ null ┆ null       │\n",
            "│ 4            ┆ 16:51:04     ┆              ┆     ┆             ┆             ┆      ┆            │\n",
            "│              ┆ -0300        ┆              ┆     ┆             ┆             ┆      ┆            │\n",
            "│ 186.49.13.24 ┆ 02/Jun/2013: ┆ null         ┆ 408 ┆ 0           ┆ null        ┆ null ┆ null       │\n",
            "│ 1            ┆ 17:13:22     ┆              ┆     ┆             ┆             ┆      ┆            │\n",
            "│              ┆ -0300        ┆              ┆     ┆             ┆             ┆      ┆            │\n",
            "│ …            ┆ …            ┆ …            ┆ …   ┆ …           ┆ …           ┆ …    ┆ …          │\n",
            "│ 83.35.92.60  ┆ 08/Jun/2013: ┆ null         ┆ 408 ┆ 0           ┆ null        ┆ null ┆ null       │\n",
            "│              ┆ 18:43:11     ┆              ┆     ┆             ┆             ┆      ┆            │\n",
            "│              ┆ -0300        ┆              ┆     ┆             ┆             ┆      ┆            │\n",
            "│ 190.19.162.9 ┆ 08/Jun/2013: ┆ null         ┆ 408 ┆ 0           ┆ null        ┆ null ┆ null       │\n",
            "│              ┆ 22:03:28     ┆              ┆     ┆             ┆             ┆      ┆            │\n",
            "│              ┆ -0300        ┆              ┆     ┆             ┆             ┆      ┆            │\n",
            "│ 190.19.162.9 ┆ 08/Jun/2013: ┆ null         ┆ 408 ┆ 0           ┆ null        ┆ null ┆ null       │\n",
            "│              ┆ 22:03:28     ┆              ┆     ┆             ┆             ┆      ┆            │\n",
            "│              ┆ -0300        ┆              ┆     ┆             ┆             ┆      ┆            │\n",
            "│ 190.135.92.2 ┆ 09/Jun/2013: ┆ null         ┆ 408 ┆ 0           ┆ null        ┆ null ┆ null       │\n",
            "│ 04           ┆ 01:47:20     ┆              ┆     ┆             ┆             ┆      ┆            │\n",
            "│              ┆ -0300        ┆              ┆     ┆             ┆             ┆      ┆            │\n",
            "└──────────────┴──────────────┴──────────────┴─────┴─────────────┴─────────────┴──────┴────────────┘\n"
          ]
        }
      ],
      "source": [
        "status_codes = [\"200\",\"408\"]\n",
        "urls_with_status_codes = df.filter(pl.col(\"url\").is_in(status_codes))\n",
        "\n",
        "print(urls_with_status_codes)"
      ]
    },
    {
      "cell_type": "markdown",
      "metadata": {
        "id": "wBtfN2J1zTxk"
      },
      "source": [
        "Investigando los casos null en profundidad nos encontramos con que son casos borde. Los de status 200 son casos con datos no legibles o anómalos y los de status 408 parecen ser una solicitud incompleta o malformada debido a un timeout en la solicitud, problemas de parte del cliente o error de red o conexión.\n",
        "\n",
        "Este tipo de entradas en los logs a menudo se descartan en análisis de tráfico web ya que no proporcionan datos útiles sobre las solicitudes válidas. Sin embargo, pueden ser útiles para detectar problemas de red o errores en los clientes.\n",
        "\n",
        "Por lo que vamos a filtrar las filas donde la columna `url` contenga los valores `200` o `408`"
      ]
    },
    {
      "cell_type": "code",
      "execution_count": null,
      "metadata": {
        "colab": {
          "base_uri": "https://localhost:8080/"
        },
        "id": "XPeRsiNCIPEV",
        "outputId": "6041a433-2835-4c4a-e0f8-e19020d52d78"
      },
      "outputs": [
        {
          "name": "stdout",
          "output_type": "stream",
          "text": [
            "shape: (203_725, 8)\n",
            "┌─────────────┬────────────┬────────────┬────────────┬────────────┬────────────┬──────┬────────────┐\n",
            "│ ip          ┆ timestamp  ┆ request_me ┆ url        ┆ http_versi ┆ status_cod ┆ size ┆ user_agent │\n",
            "│ ---         ┆ ---        ┆ thod       ┆ ---        ┆ on         ┆ e          ┆ ---  ┆ ---        │\n",
            "│ str         ┆ str        ┆ ---        ┆ str        ┆ ---        ┆ ---        ┆ i64  ┆ str        │\n",
            "│             ┆            ┆ str        ┆            ┆ str        ┆ i64        ┆      ┆            │\n",
            "╞═════════════╪════════════╪════════════╪════════════╪════════════╪════════════╪══════╪════════════╡\n",
            "│ 127.0.0.1   ┆ 02/Jun/201 ┆ OPTIONS    ┆ *          ┆ HTTP/1.0   ┆ 200        ┆ 167  ┆ Apache/2.2 │\n",
            "│             ┆ 3:06:48:17 ┆            ┆            ┆            ┆            ┆      ┆ .14        │\n",
            "│             ┆ -0300      ┆            ┆            ┆            ┆            ┆      ┆ (Ubuntu)   │\n",
            "│             ┆            ┆            ┆            ┆            ┆            ┆      ┆ (internal… │\n",
            "│ 127.0.0.1   ┆ 02/Jun/201 ┆ OPTIONS    ┆ *          ┆ HTTP/1.0   ┆ 200        ┆ 167  ┆ Apache/2.2 │\n",
            "│             ┆ 3:06:48:17 ┆            ┆            ┆            ┆            ┆      ┆ .14        │\n",
            "│             ┆ -0300      ┆            ┆            ┆            ┆            ┆      ┆ (Ubuntu)   │\n",
            "│             ┆            ┆            ┆            ┆            ┆            ┆      ┆ (internal… │\n",
            "│ 127.0.0.1   ┆ 02/Jun/201 ┆ OPTIONS    ┆ *          ┆ HTTP/1.0   ┆ 200        ┆ 167  ┆ Apache/2.2 │\n",
            "│             ┆ 3:06:48:17 ┆            ┆            ┆            ┆            ┆      ┆ .14        │\n",
            "│             ┆ -0300      ┆            ┆            ┆            ┆            ┆      ┆ (Ubuntu)   │\n",
            "│             ┆            ┆            ┆            ┆            ┆            ┆      ┆ (internal… │\n",
            "│ 180.76.5.15 ┆ 02/Jun/201 ┆ GET        ┆ /index.php ┆ HTTP/1.1   ┆ 200        ┆ 8842 ┆ Mozilla/5. │\n",
            "│ 0           ┆ 3:06:49:39 ┆            ┆ /component ┆            ┆            ┆      ┆ 0 (compati │\n",
            "│             ┆ -0300      ┆            ┆ /jevents/s ┆            ┆            ┆      ┆ ble;       │\n",
            "│             ┆            ┆            ┆ ea…        ┆            ┆            ┆      ┆ Baidusp…   │\n",
            "│ …           ┆ …          ┆ …          ┆ …          ┆ …          ┆ …          ┆ …    ┆ …          │\n",
            "│ 127.0.0.1   ┆ 09/Jun/201 ┆ OPTIONS    ┆ *          ┆ HTTP/1.0   ┆ 200        ┆ 167  ┆ Apache/2.2 │\n",
            "│             ┆ 3:06:43:46 ┆            ┆            ┆            ┆            ┆      ┆ .14        │\n",
            "│             ┆ -0300      ┆            ┆            ┆            ┆            ┆      ┆ (Ubuntu)   │\n",
            "│             ┆            ┆            ┆            ┆            ┆            ┆      ┆ (internal… │\n",
            "│ 127.0.0.1   ┆ 09/Jun/201 ┆ OPTIONS    ┆ *          ┆ HTTP/1.0   ┆ 200        ┆ 167  ┆ Apache/2.2 │\n",
            "│             ┆ 3:06:43:46 ┆            ┆            ┆            ┆            ┆      ┆ .14        │\n",
            "│             ┆ -0300      ┆            ┆            ┆            ┆            ┆      ┆ (Ubuntu)   │\n",
            "│             ┆            ┆            ┆            ┆            ┆            ┆      ┆ (internal… │\n",
            "│ 127.0.0.1   ┆ 09/Jun/201 ┆ OPTIONS    ┆ *          ┆ HTTP/1.0   ┆ 200        ┆ 167  ┆ Apache/2.2 │\n",
            "│             ┆ 3:06:43:46 ┆            ┆            ┆            ┆            ┆      ┆ .14        │\n",
            "│             ┆ -0300      ┆            ┆            ┆            ┆            ┆      ┆ (Ubuntu)   │\n",
            "│             ┆            ┆            ┆            ┆            ┆            ┆      ┆ (internal… │\n",
            "│ 190.64.2.16 ┆ 09/Jun/201 ┆ GET        ┆ /index.php ┆ HTTP/1.0   ┆ 200        ┆ 9788 ┆ agesic-cra │\n",
            "│ 2           ┆ 3:06:43:46 ┆            ┆ /instituci ┆            ┆            ┆      ┆ wler (Ente │\n",
            "│             ┆ -0300      ┆            ┆ on/organig ┆            ┆            ┆      ┆ rprise;    │\n",
            "│             ┆            ┆            ┆ ra…        ┆            ┆            ┆      ┆ T2-F…      │\n",
            "└─────────────┴────────────┴────────────┴────────────┴────────────┴────────────┴──────┴────────────┘\n"
          ]
        }
      ],
      "source": [
        "df_sin_nulos = df.filter(\n",
        "    ~pl.col(\"url\").str.contains('200') & ~pl.col(\"url\").str.contains('408')\n",
        ")\n",
        "\n",
        "print(df_sin_nulos)\n",
        "df_sin_nulos.write_csv(\"log_sin_nulos.csv\")"
      ]
    },
    {
      "cell_type": "markdown",
      "metadata": {
        "id": "Q4lD86fjTMaj"
      },
      "source": [
        "Verificamos que ya no hayan más casos de datos nulos"
      ]
    },
    {
      "cell_type": "code",
      "execution_count": null,
      "metadata": {
        "colab": {
          "base_uri": "https://localhost:8080/",
          "height": 129
        },
        "id": "9BjTzPYZTHlo",
        "outputId": "50f67b63-c572-40b9-8cb6-d31468d8324e"
      },
      "outputs": [
        {
          "data": {
            "text/html": [
              "<div><style>\n",
              ".dataframe > thead > tr,\n",
              ".dataframe > tbody > tr {\n",
              "  text-align: right;\n",
              "  white-space: pre-wrap;\n",
              "}\n",
              "</style>\n",
              "<small>shape: (1, 8)</small><table border=\"1\" class=\"dataframe\"><thead><tr><th>ip</th><th>timestamp</th><th>request_method</th><th>url</th><th>http_version</th><th>status_code</th><th>size</th><th>user_agent</th></tr><tr><td>u32</td><td>u32</td><td>u32</td><td>u32</td><td>u32</td><td>u32</td><td>u32</td><td>u32</td></tr></thead><tbody><tr><td>0</td><td>0</td><td>0</td><td>0</td><td>0</td><td>0</td><td>0</td><td>0</td></tr></tbody></table></div>"
            ],
            "text/plain": [
              "shape: (1, 8)\n",
              "┌─────┬───────────┬────────────────┬─────┬──────────────┬─────────────┬──────┬────────────┐\n",
              "│ ip  ┆ timestamp ┆ request_method ┆ url ┆ http_version ┆ status_code ┆ size ┆ user_agent │\n",
              "│ --- ┆ ---       ┆ ---            ┆ --- ┆ ---          ┆ ---         ┆ ---  ┆ ---        │\n",
              "│ u32 ┆ u32       ┆ u32            ┆ u32 ┆ u32          ┆ u32         ┆ u32  ┆ u32        │\n",
              "╞═════╪═══════════╪════════════════╪═════╪══════════════╪═════════════╪══════╪════════════╡\n",
              "│ 0   ┆ 0         ┆ 0              ┆ 0   ┆ 0            ┆ 0           ┆ 0    ┆ 0          │\n",
              "└─────┴───────────┴────────────────┴─────┴──────────────┴─────────────┴──────┴────────────┘"
            ]
          },
          "execution_count": 247,
          "metadata": {},
          "output_type": "execute_result"
        }
      ],
      "source": [
        "cantidad_nulos = df_sin_nulos.null_count()\n",
        "cantidad_nulos"
      ]
    },
    {
      "cell_type": "markdown",
      "metadata": {
        "id": "KhbxLWYQdoBY"
      },
      "source": [
        "#### Limpieza de peticiones internas\n",
        "\n",
        "Es común que el servidor web realice solicitudes internas a sí mismo para verificar su configuración, comprobar capacidades o realizar tareas de mantenimiento. El uso de * en las solicitudes OPTIONS puede estar asociado con estas operaciones internas.\n",
        "\n",
        "La URL * en este contexto se refiere a una solicitud genérica que no está dirigida a una URL específica. En el caso de los métodos OPTIONS, * puede estar siendo usado para indicar que la solicitud no está dirigida a un recurso específico o es un marcador de posición para una solicitud interna del servidor.\n",
        "\n",
        "Dado que las solicitudes provienen de 127.0.0.1 (localhost), parece que estas solicitudes son internas, probablemente generadas por el propio servidor para comprobar su configuración o para otros fines administrativos\n",
        "\n",
        "Antes de eliminar esos registros, veamos cuántas peticiones internas hay en el dataset y qué porcentaje representan sobre la cantidad total de peticiones con los registros nulos ya filtrados."
      ]
    },
    {
      "cell_type": "code",
      "execution_count": null,
      "metadata": {
        "colab": {
          "base_uri": "https://localhost:8080/"
        },
        "id": "rAZB8FU3xUc2",
        "outputId": "316b7083-d8ac-4ae2-a14c-b853773d4bc3"
      },
      "outputs": [
        {
          "name": "stdout",
          "output_type": "stream",
          "text": [
            "Cantidad de peticiones internas: 5386\n",
            "Cantidad de registros (sin nulos): 203725\n",
            "Porcentaje de peticiones internas: 2.64%\n"
          ]
        }
      ],
      "source": [
        "peticiones_internas = df_sin_nulos.filter(\n",
        "    (pl.col(\"ip\") == \"127.0.0.1\") &\n",
        "    (pl.col(\"request_method\") == \"OPTIONS\") &\n",
        "    (pl.col(\"url\") == \"*\")\n",
        ")\n",
        "\n",
        "cantidad_peticiones_internas = peticiones_internas.shape[0]\n",
        "total_registros = df_sin_nulos.shape[0]\n",
        "porcentaje_peticiones_internas = (cantidad_peticiones_internas / total_registros) * 100\n",
        "\n",
        "print(f\"Cantidad de peticiones internas: {cantidad_peticiones_internas}\")\n",
        "print(f\"Cantidad de registros (sin nulos): {total_registros}\")\n",
        "print(f\"Porcentaje de peticiones internas: {porcentaje_peticiones_internas:.2f}%\")"
      ]
    },
    {
      "cell_type": "code",
      "execution_count": null,
      "metadata": {
        "colab": {
          "base_uri": "https://localhost:8080/",
          "height": 882
        },
        "id": "iliCe-7f3IJQ",
        "outputId": "e67cb561-e504-4254-df8a-d155cefd0699"
      },
      "outputs": [
        {
          "data": {
            "text/html": [
              "<div><style>\n",
              ".dataframe > thead > tr,\n",
              ".dataframe > tbody > tr {\n",
              "  text-align: right;\n",
              "  white-space: pre-wrap;\n",
              "}\n",
              "</style>\n",
              "<small>shape: (203_725, 8)</small><table border=\"1\" class=\"dataframe\"><thead><tr><th>ip</th><th>timestamp</th><th>request_method</th><th>url</th><th>http_version</th><th>status_code</th><th>size</th><th>user_agent</th></tr><tr><td>str</td><td>str</td><td>str</td><td>str</td><td>str</td><td>i64</td><td>i64</td><td>str</td></tr></thead><tbody><tr><td>&quot;127.0.0.1&quot;</td><td>&quot;02/Jun/2013:06…</td><td>&quot;OPTIONS&quot;</td><td>&quot;*&quot;</td><td>&quot;HTTP/1.0&quot;</td><td>200</td><td>167</td><td>&quot;Apache/2.2.14 …</td></tr><tr><td>&quot;127.0.0.1&quot;</td><td>&quot;02/Jun/2013:06…</td><td>&quot;OPTIONS&quot;</td><td>&quot;*&quot;</td><td>&quot;HTTP/1.0&quot;</td><td>200</td><td>167</td><td>&quot;Apache/2.2.14 …</td></tr><tr><td>&quot;127.0.0.1&quot;</td><td>&quot;02/Jun/2013:06…</td><td>&quot;OPTIONS&quot;</td><td>&quot;*&quot;</td><td>&quot;HTTP/1.0&quot;</td><td>200</td><td>167</td><td>&quot;Apache/2.2.14 …</td></tr><tr><td>&quot;180.76.5.150&quot;</td><td>&quot;02/Jun/2013:06…</td><td>&quot;GET&quot;</td><td>&quot;/index.php/com…</td><td>&quot;HTTP/1.1&quot;</td><td>200</td><td>8842</td><td>&quot;Mozilla/5.0 (c…</td></tr><tr><td>&quot;190.64.2.162&quot;</td><td>&quot;02/Jun/2013:06…</td><td>&quot;GET&quot;</td><td>&quot;/robots.txt&quot;</td><td>&quot;HTTP/1.0&quot;</td><td>200</td><td>718</td><td>&quot;agesic-crawler…</td></tr><tr><td>&quot;190.64.2.162&quot;</td><td>&quot;02/Jun/2013:06…</td><td>&quot;GET&quot;</td><td>&quot;/index.php/com…</td><td>&quot;HTTP/1.0&quot;</td><td>200</td><td>9471</td><td>&quot;agesic-crawler…</td></tr><tr><td>&quot;190.64.2.162&quot;</td><td>&quot;02/Jun/2013:06…</td><td>&quot;GET&quot;</td><td>&quot;/robots.txt&quot;</td><td>&quot;HTTP/1.0&quot;</td><td>200</td><td>718</td><td>&quot;agesic-crawler…</td></tr><tr><td>&quot;190.64.2.162&quot;</td><td>&quot;02/Jun/2013:06…</td><td>&quot;GET&quot;</td><td>&quot;/index.php/com…</td><td>&quot;HTTP/1.0&quot;</td><td>200</td><td>9518</td><td>&quot;agesic-crawler…</td></tr><tr><td>&quot;190.64.2.162&quot;</td><td>&quot;02/Jun/2013:06…</td><td>&quot;GET&quot;</td><td>&quot;/robots.txt&quot;</td><td>&quot;HTTP/1.0&quot;</td><td>200</td><td>718</td><td>&quot;agesic-crawler…</td></tr><tr><td>&quot;190.64.2.162&quot;</td><td>&quot;02/Jun/2013:06…</td><td>&quot;GET&quot;</td><td>&quot;/index.php/com…</td><td>&quot;HTTP/1.0&quot;</td><td>200</td><td>9476</td><td>&quot;agesic-crawler…</td></tr><tr><td>&quot;190.64.2.162&quot;</td><td>&quot;02/Jun/2013:06…</td><td>&quot;GET&quot;</td><td>&quot;/robots.txt&quot;</td><td>&quot;HTTP/1.0&quot;</td><td>200</td><td>718</td><td>&quot;agesic-crawler…</td></tr><tr><td>&quot;190.64.2.162&quot;</td><td>&quot;02/Jun/2013:06…</td><td>&quot;GET&quot;</td><td>&quot;/index.php/com…</td><td>&quot;HTTP/1.0&quot;</td><td>200</td><td>9490</td><td>&quot;agesic-crawler…</td></tr><tr><td>&hellip;</td><td>&hellip;</td><td>&hellip;</td><td>&hellip;</td><td>&hellip;</td><td>&hellip;</td><td>&hellip;</td><td>&hellip;</td></tr><tr><td>&quot;190.64.2.162&quot;</td><td>&quot;09/Jun/2013:06…</td><td>&quot;GET&quot;</td><td>&quot;/index.php/ins…</td><td>&quot;HTTP/1.0&quot;</td><td>200</td><td>9800</td><td>&quot;agesic-crawler…</td></tr><tr><td>&quot;190.64.2.162&quot;</td><td>&quot;09/Jun/2013:06…</td><td>&quot;GET&quot;</td><td>&quot;/robots.txt&quot;</td><td>&quot;HTTP/1.0&quot;</td><td>200</td><td>718</td><td>&quot;agesic-crawler…</td></tr><tr><td>&quot;127.0.0.1&quot;</td><td>&quot;09/Jun/2013:06…</td><td>&quot;OPTIONS&quot;</td><td>&quot;*&quot;</td><td>&quot;HTTP/1.0&quot;</td><td>200</td><td>167</td><td>&quot;Apache/2.2.14 …</td></tr><tr><td>&quot;127.0.0.1&quot;</td><td>&quot;09/Jun/2013:06…</td><td>&quot;OPTIONS&quot;</td><td>&quot;*&quot;</td><td>&quot;HTTP/1.0&quot;</td><td>200</td><td>167</td><td>&quot;Apache/2.2.14 …</td></tr><tr><td>&quot;127.0.0.1&quot;</td><td>&quot;09/Jun/2013:06…</td><td>&quot;OPTIONS&quot;</td><td>&quot;*&quot;</td><td>&quot;HTTP/1.0&quot;</td><td>200</td><td>167</td><td>&quot;Apache/2.2.14 …</td></tr><tr><td>&quot;127.0.0.1&quot;</td><td>&quot;09/Jun/2013:06…</td><td>&quot;OPTIONS&quot;</td><td>&quot;*&quot;</td><td>&quot;HTTP/1.0&quot;</td><td>200</td><td>167</td><td>&quot;Apache/2.2.14 …</td></tr><tr><td>&quot;127.0.0.1&quot;</td><td>&quot;09/Jun/2013:06…</td><td>&quot;OPTIONS&quot;</td><td>&quot;*&quot;</td><td>&quot;HTTP/1.0&quot;</td><td>200</td><td>167</td><td>&quot;Apache/2.2.14 …</td></tr><tr><td>&quot;127.0.0.1&quot;</td><td>&quot;09/Jun/2013:06…</td><td>&quot;OPTIONS&quot;</td><td>&quot;*&quot;</td><td>&quot;HTTP/1.0&quot;</td><td>200</td><td>167</td><td>&quot;Apache/2.2.14 …</td></tr><tr><td>&quot;127.0.0.1&quot;</td><td>&quot;09/Jun/2013:06…</td><td>&quot;OPTIONS&quot;</td><td>&quot;*&quot;</td><td>&quot;HTTP/1.0&quot;</td><td>200</td><td>167</td><td>&quot;Apache/2.2.14 …</td></tr><tr><td>&quot;127.0.0.1&quot;</td><td>&quot;09/Jun/2013:06…</td><td>&quot;OPTIONS&quot;</td><td>&quot;*&quot;</td><td>&quot;HTTP/1.0&quot;</td><td>200</td><td>167</td><td>&quot;Apache/2.2.14 …</td></tr><tr><td>&quot;127.0.0.1&quot;</td><td>&quot;09/Jun/2013:06…</td><td>&quot;OPTIONS&quot;</td><td>&quot;*&quot;</td><td>&quot;HTTP/1.0&quot;</td><td>200</td><td>167</td><td>&quot;Apache/2.2.14 …</td></tr><tr><td>&quot;190.64.2.162&quot;</td><td>&quot;09/Jun/2013:06…</td><td>&quot;GET&quot;</td><td>&quot;/index.php/ins…</td><td>&quot;HTTP/1.0&quot;</td><td>200</td><td>9788</td><td>&quot;agesic-crawler…</td></tr></tbody></table></div>"
            ],
            "text/plain": [
              "shape: (203_725, 8)\n",
              "┌─────────────┬────────────┬────────────┬────────────┬────────────┬────────────┬──────┬────────────┐\n",
              "│ ip          ┆ timestamp  ┆ request_me ┆ url        ┆ http_versi ┆ status_cod ┆ size ┆ user_agent │\n",
              "│ ---         ┆ ---        ┆ thod       ┆ ---        ┆ on         ┆ e          ┆ ---  ┆ ---        │\n",
              "│ str         ┆ str        ┆ ---        ┆ str        ┆ ---        ┆ ---        ┆ i64  ┆ str        │\n",
              "│             ┆            ┆ str        ┆            ┆ str        ┆ i64        ┆      ┆            │\n",
              "╞═════════════╪════════════╪════════════╪════════════╪════════════╪════════════╪══════╪════════════╡\n",
              "│ 127.0.0.1   ┆ 02/Jun/201 ┆ OPTIONS    ┆ *          ┆ HTTP/1.0   ┆ 200        ┆ 167  ┆ Apache/2.2 │\n",
              "│             ┆ 3:06:48:17 ┆            ┆            ┆            ┆            ┆      ┆ .14        │\n",
              "│             ┆ -0300      ┆            ┆            ┆            ┆            ┆      ┆ (Ubuntu)   │\n",
              "│             ┆            ┆            ┆            ┆            ┆            ┆      ┆ (internal… │\n",
              "│ 127.0.0.1   ┆ 02/Jun/201 ┆ OPTIONS    ┆ *          ┆ HTTP/1.0   ┆ 200        ┆ 167  ┆ Apache/2.2 │\n",
              "│             ┆ 3:06:48:17 ┆            ┆            ┆            ┆            ┆      ┆ .14        │\n",
              "│             ┆ -0300      ┆            ┆            ┆            ┆            ┆      ┆ (Ubuntu)   │\n",
              "│             ┆            ┆            ┆            ┆            ┆            ┆      ┆ (internal… │\n",
              "│ 127.0.0.1   ┆ 02/Jun/201 ┆ OPTIONS    ┆ *          ┆ HTTP/1.0   ┆ 200        ┆ 167  ┆ Apache/2.2 │\n",
              "│             ┆ 3:06:48:17 ┆            ┆            ┆            ┆            ┆      ┆ .14        │\n",
              "│             ┆ -0300      ┆            ┆            ┆            ┆            ┆      ┆ (Ubuntu)   │\n",
              "│             ┆            ┆            ┆            ┆            ┆            ┆      ┆ (internal… │\n",
              "│ 180.76.5.15 ┆ 02/Jun/201 ┆ GET        ┆ /index.php ┆ HTTP/1.1   ┆ 200        ┆ 8842 ┆ Mozilla/5. │\n",
              "│ 0           ┆ 3:06:49:39 ┆            ┆ /component ┆            ┆            ┆      ┆ 0 (compati │\n",
              "│             ┆ -0300      ┆            ┆ /jevents/s ┆            ┆            ┆      ┆ ble;       │\n",
              "│             ┆            ┆            ┆ ea…        ┆            ┆            ┆      ┆ Baidusp…   │\n",
              "│ …           ┆ …          ┆ …          ┆ …          ┆ …          ┆ …          ┆ …    ┆ …          │\n",
              "│ 127.0.0.1   ┆ 09/Jun/201 ┆ OPTIONS    ┆ *          ┆ HTTP/1.0   ┆ 200        ┆ 167  ┆ Apache/2.2 │\n",
              "│             ┆ 3:06:43:46 ┆            ┆            ┆            ┆            ┆      ┆ .14        │\n",
              "│             ┆ -0300      ┆            ┆            ┆            ┆            ┆      ┆ (Ubuntu)   │\n",
              "│             ┆            ┆            ┆            ┆            ┆            ┆      ┆ (internal… │\n",
              "│ 127.0.0.1   ┆ 09/Jun/201 ┆ OPTIONS    ┆ *          ┆ HTTP/1.0   ┆ 200        ┆ 167  ┆ Apache/2.2 │\n",
              "│             ┆ 3:06:43:46 ┆            ┆            ┆            ┆            ┆      ┆ .14        │\n",
              "│             ┆ -0300      ┆            ┆            ┆            ┆            ┆      ┆ (Ubuntu)   │\n",
              "│             ┆            ┆            ┆            ┆            ┆            ┆      ┆ (internal… │\n",
              "│ 127.0.0.1   ┆ 09/Jun/201 ┆ OPTIONS    ┆ *          ┆ HTTP/1.0   ┆ 200        ┆ 167  ┆ Apache/2.2 │\n",
              "│             ┆ 3:06:43:46 ┆            ┆            ┆            ┆            ┆      ┆ .14        │\n",
              "│             ┆ -0300      ┆            ┆            ┆            ┆            ┆      ┆ (Ubuntu)   │\n",
              "│             ┆            ┆            ┆            ┆            ┆            ┆      ┆ (internal… │\n",
              "│ 190.64.2.16 ┆ 09/Jun/201 ┆ GET        ┆ /index.php ┆ HTTP/1.0   ┆ 200        ┆ 9788 ┆ agesic-cra │\n",
              "│ 2           ┆ 3:06:43:46 ┆            ┆ /instituci ┆            ┆            ┆      ┆ wler (Ente │\n",
              "│             ┆ -0300      ┆            ┆ on/organig ┆            ┆            ┆      ┆ rprise;    │\n",
              "│             ┆            ┆            ┆ ra…        ┆            ┆            ┆      ┆ T2-F…      │\n",
              "└─────────────┴────────────┴────────────┴────────────┴────────────┴────────────┴──────┴────────────┘"
            ]
          },
          "execution_count": 249,
          "metadata": {},
          "output_type": "execute_result"
        }
      ],
      "source": [
        "df_sin_nulos"
      ]
    },
    {
      "cell_type": "code",
      "execution_count": null,
      "metadata": {
        "colab": {
          "base_uri": "https://localhost:8080/",
          "height": 412
        },
        "id": "4TP1-mQAdyut",
        "outputId": "dc7208d4-96d1-45a3-b30c-b675f4ba4b84"
      },
      "outputs": [
        {
          "data": {
            "text/html": [
              "<div><style>\n",
              ".dataframe > thead > tr,\n",
              ".dataframe > tbody > tr {\n",
              "  text-align: right;\n",
              "  white-space: pre-wrap;\n",
              "}\n",
              "</style>\n",
              "<small>shape: (10, 8)</small><table border=\"1\" class=\"dataframe\"><thead><tr><th>ip</th><th>timestamp</th><th>request_method</th><th>url</th><th>http_version</th><th>status_code</th><th>size</th><th>user_agent</th></tr><tr><td>str</td><td>str</td><td>str</td><td>str</td><td>str</td><td>i64</td><td>i64</td><td>str</td></tr></thead><tbody><tr><td>&quot;180.76.5.150&quot;</td><td>&quot;02/Jun/2013:06…</td><td>&quot;GET&quot;</td><td>&quot;/index.php/com…</td><td>&quot;HTTP/1.1&quot;</td><td>200</td><td>8842</td><td>&quot;Mozilla/5.0 (c…</td></tr><tr><td>&quot;190.64.2.162&quot;</td><td>&quot;02/Jun/2013:06…</td><td>&quot;GET&quot;</td><td>&quot;/robots.txt&quot;</td><td>&quot;HTTP/1.0&quot;</td><td>200</td><td>718</td><td>&quot;agesic-crawler…</td></tr><tr><td>&quot;190.64.2.162&quot;</td><td>&quot;02/Jun/2013:06…</td><td>&quot;GET&quot;</td><td>&quot;/index.php/com…</td><td>&quot;HTTP/1.0&quot;</td><td>200</td><td>9471</td><td>&quot;agesic-crawler…</td></tr><tr><td>&quot;190.64.2.162&quot;</td><td>&quot;02/Jun/2013:06…</td><td>&quot;GET&quot;</td><td>&quot;/robots.txt&quot;</td><td>&quot;HTTP/1.0&quot;</td><td>200</td><td>718</td><td>&quot;agesic-crawler…</td></tr><tr><td>&quot;190.64.2.162&quot;</td><td>&quot;02/Jun/2013:06…</td><td>&quot;GET&quot;</td><td>&quot;/index.php/com…</td><td>&quot;HTTP/1.0&quot;</td><td>200</td><td>9518</td><td>&quot;agesic-crawler…</td></tr><tr><td>&quot;190.64.2.162&quot;</td><td>&quot;02/Jun/2013:06…</td><td>&quot;GET&quot;</td><td>&quot;/robots.txt&quot;</td><td>&quot;HTTP/1.0&quot;</td><td>200</td><td>718</td><td>&quot;agesic-crawler…</td></tr><tr><td>&quot;190.64.2.162&quot;</td><td>&quot;02/Jun/2013:06…</td><td>&quot;GET&quot;</td><td>&quot;/index.php/com…</td><td>&quot;HTTP/1.0&quot;</td><td>200</td><td>9476</td><td>&quot;agesic-crawler…</td></tr><tr><td>&quot;190.64.2.162&quot;</td><td>&quot;02/Jun/2013:06…</td><td>&quot;GET&quot;</td><td>&quot;/robots.txt&quot;</td><td>&quot;HTTP/1.0&quot;</td><td>200</td><td>718</td><td>&quot;agesic-crawler…</td></tr><tr><td>&quot;190.64.2.162&quot;</td><td>&quot;02/Jun/2013:06…</td><td>&quot;GET&quot;</td><td>&quot;/index.php/com…</td><td>&quot;HTTP/1.0&quot;</td><td>200</td><td>9490</td><td>&quot;agesic-crawler…</td></tr><tr><td>&quot;190.64.2.162&quot;</td><td>&quot;02/Jun/2013:06…</td><td>&quot;GET&quot;</td><td>&quot;/robots.txt&quot;</td><td>&quot;HTTP/1.0&quot;</td><td>200</td><td>718</td><td>&quot;agesic-crawler…</td></tr></tbody></table></div>"
            ],
            "text/plain": [
              "shape: (10, 8)\n",
              "┌─────────────┬────────────┬────────────┬────────────┬────────────┬────────────┬──────┬────────────┐\n",
              "│ ip          ┆ timestamp  ┆ request_me ┆ url        ┆ http_versi ┆ status_cod ┆ size ┆ user_agent │\n",
              "│ ---         ┆ ---        ┆ thod       ┆ ---        ┆ on         ┆ e          ┆ ---  ┆ ---        │\n",
              "│ str         ┆ str        ┆ ---        ┆ str        ┆ ---        ┆ ---        ┆ i64  ┆ str        │\n",
              "│             ┆            ┆ str        ┆            ┆ str        ┆ i64        ┆      ┆            │\n",
              "╞═════════════╪════════════╪════════════╪════════════╪════════════╪════════════╪══════╪════════════╡\n",
              "│ 180.76.5.15 ┆ 02/Jun/201 ┆ GET        ┆ /index.php ┆ HTTP/1.1   ┆ 200        ┆ 8842 ┆ Mozilla/5. │\n",
              "│ 0           ┆ 3:06:49:39 ┆            ┆ /component ┆            ┆            ┆      ┆ 0 (compati │\n",
              "│             ┆ -0300      ┆            ┆ /jevents/s ┆            ┆            ┆      ┆ ble;       │\n",
              "│             ┆            ┆            ┆ ea…        ┆            ┆            ┆      ┆ Baidusp…   │\n",
              "│ 190.64.2.16 ┆ 02/Jun/201 ┆ GET        ┆ /robots.tx ┆ HTTP/1.0   ┆ 200        ┆ 718  ┆ agesic-cra │\n",
              "│ 2           ┆ 3:06:51:40 ┆            ┆ t          ┆            ┆            ┆      ┆ wler (Ente │\n",
              "│             ┆ -0300      ┆            ┆            ┆            ┆            ┆      ┆ rprise;    │\n",
              "│             ┆            ┆            ┆            ┆            ┆            ┆      ┆ T3-R…      │\n",
              "│ 190.64.2.16 ┆ 02/Jun/201 ┆ GET        ┆ /index.php ┆ HTTP/1.0   ┆ 200        ┆ 9471 ┆ agesic-cra │\n",
              "│ 2           ┆ 3:06:51:40 ┆            ┆ /component ┆            ┆            ┆      ┆ wler (Ente │\n",
              "│             ┆ -0300      ┆            ┆ /jevents/m ┆            ┆            ┆      ┆ rprise;    │\n",
              "│             ┆            ┆            ┆ on…        ┆            ┆            ┆      ┆ T3-R…      │\n",
              "│ 190.64.2.16 ┆ 02/Jun/201 ┆ GET        ┆ /robots.tx ┆ HTTP/1.0   ┆ 200        ┆ 718  ┆ agesic-cra │\n",
              "│ 2           ┆ 3:06:51:42 ┆            ┆ t          ┆            ┆            ┆      ┆ wler (Ente │\n",
              "│             ┆ -0300      ┆            ┆            ┆            ┆            ┆      ┆ rprise;    │\n",
              "│             ┆            ┆            ┆            ┆            ┆            ┆      ┆ T3-R…      │\n",
              "│ …           ┆ …          ┆ …          ┆ …          ┆ …          ┆ …          ┆ …    ┆ …          │\n",
              "│ 190.64.2.16 ┆ 02/Jun/201 ┆ GET        ┆ /index.php ┆ HTTP/1.0   ┆ 200        ┆ 9476 ┆ agesic-cra │\n",
              "│ 2           ┆ 3:06:51:44 ┆            ┆ /component ┆            ┆            ┆      ┆ wler (Ente │\n",
              "│             ┆ -0300      ┆            ┆ /jevents/m ┆            ┆            ┆      ┆ rprise;    │\n",
              "│             ┆            ┆            ┆ on…        ┆            ┆            ┆      ┆ T3-R…      │\n",
              "│ 190.64.2.16 ┆ 02/Jun/201 ┆ GET        ┆ /robots.tx ┆ HTTP/1.0   ┆ 200        ┆ 718  ┆ agesic-cra │\n",
              "│ 2           ┆ 3:06:51:48 ┆            ┆ t          ┆            ┆            ┆      ┆ wler (Ente │\n",
              "│             ┆ -0300      ┆            ┆            ┆            ┆            ┆      ┆ rprise;    │\n",
              "│             ┆            ┆            ┆            ┆            ┆            ┆      ┆ T3-R…      │\n",
              "│ 190.64.2.16 ┆ 02/Jun/201 ┆ GET        ┆ /index.php ┆ HTTP/1.0   ┆ 200        ┆ 9490 ┆ agesic-cra │\n",
              "│ 2           ┆ 3:06:51:48 ┆            ┆ /component ┆            ┆            ┆      ┆ wler (Ente │\n",
              "│             ┆ -0300      ┆            ┆ /jevents/m ┆            ┆            ┆      ┆ rprise;    │\n",
              "│             ┆            ┆            ┆ on…        ┆            ┆            ┆      ┆ T3-R…      │\n",
              "│ 190.64.2.16 ┆ 02/Jun/201 ┆ GET        ┆ /robots.tx ┆ HTTP/1.0   ┆ 200        ┆ 718  ┆ agesic-cra │\n",
              "│ 2           ┆ 3:06:51:50 ┆            ┆ t          ┆            ┆            ┆      ┆ wler (Ente │\n",
              "│             ┆ -0300      ┆            ┆            ┆            ┆            ┆      ┆ rprise;    │\n",
              "│             ┆            ┆            ┆            ┆            ┆            ┆      ┆ T3-R…      │\n",
              "└─────────────┴────────────┴────────────┴────────────┴────────────┴────────────┴──────┴────────────┘"
            ]
          },
          "execution_count": 250,
          "metadata": {},
          "output_type": "execute_result"
        }
      ],
      "source": [
        "df_no_peticiones_internas = df_sin_nulos.filter(\n",
        "    ~((pl.col(\"ip\") == \"127.0.0.1\") & (pl.col(\"request_method\") == \"OPTIONS\") & (pl.col(\"url\") == \"*\"))\n",
        ")\n",
        "\n",
        "df_no_peticiones_internas.head(10)"
      ]
    },
    {
      "cell_type": "markdown",
      "metadata": {
        "id": "oBbBrVqlSx14"
      },
      "source": [
        "#### Limpieza de datos estáticos\n",
        "Los archivos estáticos como .css o .png a menudo no contienen información crítica para el análisis de tráfico web o para la detección de problemas específicos en el comportamiento del usuario. Además muchas veces, los archivos estáticos son solicitados por bots o sistemas automatizados.\n",
        "\n",
        "Datos innecesarios o erróneos pueden aumentar el tamaño de los datasets, haciendo que el procesamiento sea más lento. Limpiar los datos reduce el tamaño y mejora la eficiencia del procesamiento."
      ]
    },
    {
      "cell_type": "code",
      "execution_count": null,
      "metadata": {
        "colab": {
          "base_uri": "https://localhost:8080/"
        },
        "id": "Z2OOMJuo4eWS",
        "outputId": "82eead57-8f80-455e-91eb-9436a82989db"
      },
      "outputs": [
        {
          "name": "stdout",
          "output_type": "stream",
          "text": [
            "Registros 'jcemediabox': 5279 (2.55%)\n",
            "Registros '.css': 18955 (9.15%)\n",
            "Registros '.js': 22506 (10.86%)\n",
            "Registros '.png': 22554 (10.88%)\n",
            "Registros '.jpg': 7305 (3.53%)\n",
            "Registros '.gif': 1859 (0.90%)\n",
            "Registros 'favicon.ico': 892 (0.43%)\n"
          ]
        }
      ],
      "source": [
        "df_filtrado_datos_estaticos = filtrar_datos(df_no_peticiones_internas)"
      ]
    },
    {
      "cell_type": "markdown",
      "metadata": {
        "id": "Ejxvw9Os75lz"
      },
      "source": [
        "#### Limpieza de robots"
      ]
    },
    {
      "cell_type": "code",
      "execution_count": null,
      "metadata": {
        "colab": {
          "base_uri": "https://localhost:8080/"
        },
        "id": "_TcBn2kp8oQV",
        "outputId": "f4a1777d-2f79-41ea-cd5d-fa6e7e3a1e4b"
      },
      "outputs": [
        {
          "name": "stdout",
          "output_type": "stream",
          "text": [
            "Registros 'Googlebot': 1840 (0.89%)\n",
            "Registros 'Baiduspider': 1994 (0.96%)\n",
            "Registros 'agesic-crawler': 28790 (13.89%)\n"
          ]
        }
      ],
      "source": [
        "df_filtrado_robots = filtrar_robots_y_crawlers(df_filtrado_datos_estaticos)"
      ]
    },
    {
      "cell_type": "markdown",
      "metadata": {
        "id": "ZbOzJlvZ9wYu"
      },
      "source": [
        "#### Limpieza de servicios de mapas"
      ]
    },
    {
      "cell_type": "code",
      "execution_count": null,
      "metadata": {
        "colab": {
          "base_uri": "https://localhost:8080/"
        },
        "id": "q4WpWQ6v9zfA",
        "outputId": "fcac9a8f-f605-4804-e328-2b92d285e3c6"
      },
      "outputs": [
        {
          "name": "stdout",
          "output_type": "stream",
          "text": [
            "Registros '/wfsPCN1000.cgi': 9024 (4.35%)\n",
            "Registros 'SERVICE=WMS': 66143 (31.92%)\n"
          ]
        }
      ],
      "source": [
        "df_filtrado = filtrar_solicitudes_servicios_mapas(df_filtrado_robots)"
      ]
    },
    {
      "cell_type": "code",
      "execution_count": null,
      "metadata": {
        "colab": {
          "base_uri": "https://localhost:8080/",
          "height": 129
        },
        "id": "O0BgagaJYwo1",
        "outputId": "f800e04d-e3ee-4c2c-9c0c-a9b12e0d1ec0"
      },
      "outputs": [
        {
          "data": {
            "text/html": [
              "<div><style>\n",
              ".dataframe > thead > tr,\n",
              ".dataframe > tbody > tr {\n",
              "  text-align: right;\n",
              "  white-space: pre-wrap;\n",
              "}\n",
              "</style>\n",
              "<small>shape: (1, 8)</small><table border=\"1\" class=\"dataframe\"><thead><tr><th>ip</th><th>timestamp</th><th>request_method</th><th>url</th><th>http_version</th><th>status_code</th><th>size</th><th>user_agent</th></tr><tr><td>u32</td><td>u32</td><td>u32</td><td>u32</td><td>u32</td><td>u32</td><td>u32</td><td>u32</td></tr></thead><tbody><tr><td>12654</td><td>12654</td><td>12654</td><td>12654</td><td>12654</td><td>12654</td><td>12654</td><td>12654</td></tr></tbody></table></div>"
            ],
            "text/plain": [
              "shape: (1, 8)\n",
              "┌───────┬───────────┬────────────────┬───────┬──────────────┬─────────────┬───────┬────────────┐\n",
              "│ ip    ┆ timestamp ┆ request_method ┆ url   ┆ http_version ┆ status_code ┆ size  ┆ user_agent │\n",
              "│ ---   ┆ ---       ┆ ---            ┆ ---   ┆ ---          ┆ ---         ┆ ---   ┆ ---        │\n",
              "│ u32   ┆ u32       ┆ u32            ┆ u32   ┆ u32          ┆ u32         ┆ u32   ┆ u32        │\n",
              "╞═══════╪═══════════╪════════════════╪═══════╪══════════════╪═════════════╪═══════╪════════════╡\n",
              "│ 12654 ┆ 12654     ┆ 12654          ┆ 12654 ┆ 12654        ┆ 12654       ┆ 12654 ┆ 12654      │\n",
              "└───────┴───────────┴────────────────┴───────┴──────────────┴─────────────┴───────┴────────────┘"
            ]
          },
          "execution_count": 260,
          "metadata": {},
          "output_type": "execute_result"
        }
      ],
      "source": [
        "cantidad_registros = df_filtrado.select(pl.all().count())\n",
        "cantidad_registros"
      ]
    },
    {
      "cell_type": "markdown",
      "metadata": {
        "id": "ihL43Zj281AX"
      },
      "source": [
        "### Normalización"
      ]
    },
    {
      "cell_type": "code",
      "execution_count": null,
      "metadata": {
        "colab": {
          "base_uri": "https://localhost:8080/",
          "height": 882
        },
        "id": "sXuH9BMa80hu",
        "outputId": "ad0100e6-d47a-4d6b-ab6d-9e75e0aa4277"
      },
      "outputs": [
        {
          "data": {
            "text/html": [
              "<div><style>\n",
              ".dataframe > thead > tr,\n",
              ".dataframe > tbody > tr {\n",
              "  text-align: right;\n",
              "  white-space: pre-wrap;\n",
              "}\n",
              "</style>\n",
              "<small>shape: (12_654, 8)</small><table border=\"1\" class=\"dataframe\"><thead><tr><th>ip</th><th>timestamp</th><th>request_method</th><th>url</th><th>http_version</th><th>status_code</th><th>size</th><th>user_agent</th></tr><tr><td>str</td><td>str</td><td>str</td><td>str</td><td>str</td><td>i64</td><td>i64</td><td>str</td></tr></thead><tbody><tr><td>&quot;208.115.113.83…</td><td>&quot;02-06-2013 10:…</td><td>&quot;GET&quot;</td><td>&quot;/robots.txt&quot;</td><td>&quot;HTTP/1.1&quot;</td><td>200</td><td>1151</td><td>&quot;Mozilla/5.0 (c…</td></tr><tr><td>&quot;86.106.32.198&quot;</td><td>&quot;02-06-2013 10:…</td><td>&quot;GET&quot;</td><td>&quot;/&quot;</td><td>&quot;HTTP/1.1&quot;</td><td>200</td><td>48548</td><td>&quot;-&quot;\n",
              "&quot;</td></tr><tr><td>&quot;157.55.36.37&quot;</td><td>&quot;02-06-2013 10:…</td><td>&quot;GET&quot;</td><td>&quot;/robots.txt&quot;</td><td>&quot;HTTP/1.1&quot;</td><td>200</td><td>1208</td><td>&quot;Mozilla/5.0 (c…</td></tr><tr><td>&quot;157.55.36.37&quot;</td><td>&quot;02-06-2013 10:…</td><td>&quot;GET&quot;</td><td>&quot;/&quot;</td><td>&quot;HTTP/1.1&quot;</td><td>200</td><td>12030</td><td>&quot;Mozilla/5.0 (c…</td></tr><tr><td>&quot;157.55.36.37&quot;</td><td>&quot;02-06-2013 10:…</td><td>&quot;GET&quot;</td><td>&quot;/index.php/ser…</td><td>&quot;HTTP/1.1&quot;</td><td>200</td><td>8786</td><td>&quot;Mozilla/5.0 (c…</td></tr><tr><td>&quot;157.55.36.37&quot;</td><td>&quot;02-06-2013 10:…</td><td>&quot;GET&quot;</td><td>&quot;/index.php/inf…</td><td>&quot;HTTP/1.1&quot;</td><td>200</td><td>8523</td><td>&quot;Mozilla/5.0 (c…</td></tr><tr><td>&quot;152.61.128.66&quot;</td><td>&quot;02-06-2013 10:…</td><td>&quot;HEAD&quot;</td><td>&quot;/&quot;</td><td>&quot;HTTP/1.1&quot;</td><td>403</td><td>163</td><td>&quot;Mozilla/5.0 (W…</td></tr><tr><td>&quot;152.61.193.99&quot;</td><td>&quot;02-06-2013 10:…</td><td>&quot;HEAD&quot;</td><td>&quot;/&quot;</td><td>&quot;HTTP/1.1&quot;</td><td>403</td><td>163</td><td>&quot;Mozilla/5.0 (W…</td></tr><tr><td>&quot;152.61.128.66&quot;</td><td>&quot;02-06-2013 10:…</td><td>&quot;GET&quot;</td><td>&quot;/UYRV.cgi?VERS…</td><td>&quot;HTTP/1.1&quot;</td><td>200</td><td>3059</td><td>&quot;Mozilla/5.0 (W…</td></tr><tr><td>&quot;152.61.128.66&quot;</td><td>&quot;02-06-2013 10:…</td><td>&quot;HEAD&quot;</td><td>&quot;/&quot;</td><td>&quot;HTTP/1.1&quot;</td><td>403</td><td>163</td><td>&quot;Mozilla/5.0 (W…</td></tr><tr><td>&quot;152.61.193.99&quot;</td><td>&quot;02-06-2013 10:…</td><td>&quot;GET&quot;</td><td>&quot;/UYCA.cgi?VERS…</td><td>&quot;HTTP/1.1&quot;</td><td>200</td><td>4196</td><td>&quot;Mozilla/5.0 (W…</td></tr><tr><td>&quot;152.61.128.66&quot;</td><td>&quot;02-06-2013 10:…</td><td>&quot;GET&quot;</td><td>&quot;/UYSO.cgi?VERS…</td><td>&quot;HTTP/1.1&quot;</td><td>200</td><td>11172</td><td>&quot;Mozilla/5.0 (W…</td></tr><tr><td>&hellip;</td><td>&hellip;</td><td>&hellip;</td><td>&hellip;</td><td>&hellip;</td><td>&hellip;</td><td>&hellip;</td><td>&hellip;</td></tr><tr><td>&quot;201.217.148.67…</td><td>&quot;09-06-2013 09:…</td><td>&quot;GET&quot;</td><td>&quot;/&quot;</td><td>&quot;HTTP/1.1&quot;</td><td>302</td><td>288</td><td>&quot;Mozilla/5.0 (C…</td></tr><tr><td>&quot;201.217.148.67…</td><td>&quot;09-06-2013 09:…</td><td>&quot;GET&quot;</td><td>&quot;/map.phtml&quot;</td><td>&quot;HTTP/1.1&quot;</td><td>200</td><td>16593</td><td>&quot;Mozilla/5.0 (C…</td></tr><tr><td>&quot;201.217.148.67…</td><td>&quot;09-06-2013 09:…</td><td>&quot;GET&quot;</td><td>&quot;/&quot;</td><td>&quot;HTTP/1.1&quot;</td><td>302</td><td>288</td><td>&quot;Mozilla/5.0 (C…</td></tr><tr><td>&quot;201.217.148.67…</td><td>&quot;09-06-2013 09:…</td><td>&quot;GET&quot;</td><td>&quot;/map.phtml&quot;</td><td>&quot;HTTP/1.1&quot;</td><td>200</td><td>16592</td><td>&quot;Mozilla/5.0 (C…</td></tr><tr><td>&quot;201.217.148.67…</td><td>&quot;09-06-2013 09:…</td><td>&quot;GET&quot;</td><td>&quot;/&quot;</td><td>&quot;HTTP/1.1&quot;</td><td>302</td><td>288</td><td>&quot;Mozilla/5.0 (C…</td></tr><tr><td>&quot;201.217.148.67…</td><td>&quot;09-06-2013 09:…</td><td>&quot;GET&quot;</td><td>&quot;/map.phtml&quot;</td><td>&quot;HTTP/1.1&quot;</td><td>200</td><td>16586</td><td>&quot;Mozilla/5.0 (C…</td></tr><tr><td>&quot;213.37.25.210&quot;</td><td>&quot;09-06-2013 09:…</td><td>&quot;GET&quot;</td><td>&quot;/index.php/inf…</td><td>&quot;HTTP/1.1&quot;</td><td>200</td><td>9061</td><td>&quot;Mozilla/5.0 (W…</td></tr><tr><td>&quot;201.217.148.67…</td><td>&quot;09-06-2013 09:…</td><td>&quot;GET&quot;</td><td>&quot;/&quot;</td><td>&quot;HTTP/1.1&quot;</td><td>302</td><td>288</td><td>&quot;Mozilla/5.0 (C…</td></tr><tr><td>&quot;201.217.148.67…</td><td>&quot;09-06-2013 09:…</td><td>&quot;GET&quot;</td><td>&quot;/map.phtml&quot;</td><td>&quot;HTTP/1.1&quot;</td><td>200</td><td>16619</td><td>&quot;Mozilla/5.0 (C…</td></tr><tr><td>&quot;201.217.148.67…</td><td>&quot;09-06-2013 09:…</td><td>&quot;GET&quot;</td><td>&quot;/&quot;</td><td>&quot;HTTP/1.1&quot;</td><td>302</td><td>288</td><td>&quot;Mozilla/5.0 (C…</td></tr><tr><td>&quot;201.217.148.67…</td><td>&quot;09-06-2013 09:…</td><td>&quot;GET&quot;</td><td>&quot;/map.phtml&quot;</td><td>&quot;HTTP/1.1&quot;</td><td>200</td><td>16593</td><td>&quot;Mozilla/5.0 (C…</td></tr><tr><td>&quot;173.199.119.15…</td><td>&quot;09-06-2013 09:…</td><td>&quot;GET&quot;</td><td>&quot;/index.php/doc…</td><td>&quot;HTTP/1.1&quot;</td><td>200</td><td>12312</td><td>&quot;Mozilla/5.0 (c…</td></tr></tbody></table></div>"
            ],
            "text/plain": [
              "shape: (12_654, 8)\n",
              "┌────────────┬────────────┬────────────┬────────────┬────────────┬────────────┬───────┬────────────┐\n",
              "│ ip         ┆ timestamp  ┆ request_me ┆ url        ┆ http_versi ┆ status_cod ┆ size  ┆ user_agent │\n",
              "│ ---        ┆ ---        ┆ thod       ┆ ---        ┆ on         ┆ e          ┆ ---   ┆ ---        │\n",
              "│ str        ┆ str        ┆ ---        ┆ str        ┆ ---        ┆ ---        ┆ i64   ┆ str        │\n",
              "│            ┆            ┆ str        ┆            ┆ str        ┆ i64        ┆       ┆            │\n",
              "╞════════════╪════════════╪════════════╪════════════╪════════════╪════════════╪═══════╪════════════╡\n",
              "│ 208.115.11 ┆ 02-06-2013 ┆ GET        ┆ /robots.tx ┆ HTTP/1.1   ┆ 200        ┆ 1151  ┆ Mozilla/5. │\n",
              "│ 3.83       ┆ 10:16:29   ┆            ┆ t          ┆            ┆            ┆       ┆ 0 (compati │\n",
              "│            ┆            ┆            ┆            ┆            ┆            ┆       ┆ ble;       │\n",
              "│            ┆            ┆            ┆            ┆            ┆            ┆       ┆ Ezooms/…   │\n",
              "│ 86.106.32. ┆ 02-06-2013 ┆ GET        ┆ /          ┆ HTTP/1.1   ┆ 200        ┆ 48548 ┆ -\"         │\n",
              "│ 198        ┆ 10:19:25   ┆            ┆            ┆            ┆            ┆       ┆            │\n",
              "│ 157.55.36. ┆ 02-06-2013 ┆ GET        ┆ /robots.tx ┆ HTTP/1.1   ┆ 200        ┆ 1208  ┆ Mozilla/5. │\n",
              "│ 37         ┆ 10:24:49   ┆            ┆ t          ┆            ┆            ┆       ┆ 0 (compati │\n",
              "│            ┆            ┆            ┆            ┆            ┆            ┆       ┆ ble;       │\n",
              "│            ┆            ┆            ┆            ┆            ┆            ┆       ┆ bingbot…   │\n",
              "│ 157.55.36. ┆ 02-06-2013 ┆ GET        ┆ /          ┆ HTTP/1.1   ┆ 200        ┆ 12030 ┆ Mozilla/5. │\n",
              "│ 37         ┆ 10:27:12   ┆            ┆            ┆            ┆            ┆       ┆ 0 (compati │\n",
              "│            ┆            ┆            ┆            ┆            ┆            ┆       ┆ ble;       │\n",
              "│            ┆            ┆            ┆            ┆            ┆            ┆       ┆ bingbot…   │\n",
              "│ …          ┆ …          ┆ …          ┆ …          ┆ …          ┆ …          ┆ …     ┆ …          │\n",
              "│ 201.217.14 ┆ 09-06-2013 ┆ GET        ┆ /map.phtml ┆ HTTP/1.1   ┆ 200        ┆ 16619 ┆ Mozilla/5. │\n",
              "│ 8.67       ┆ 09:37:33   ┆            ┆            ┆            ┆            ┆       ┆ 0 (CERTuy  │\n",
              "│            ┆            ┆            ┆            ┆            ┆            ┆       ┆ -          │\n",
              "│            ┆            ┆            ┆            ┆            ┆            ┆       ┆ Monitoreo  │\n",
              "│            ┆            ┆            ┆            ┆            ┆            ┆       ┆ …          │\n",
              "│ 201.217.14 ┆ 09-06-2013 ┆ GET        ┆ /          ┆ HTTP/1.1   ┆ 302        ┆ 288   ┆ Mozilla/5. │\n",
              "│ 8.67       ┆ 09:37:36   ┆            ┆            ┆            ┆            ┆       ┆ 0 (CERTuy  │\n",
              "│            ┆            ┆            ┆            ┆            ┆            ┆       ┆ -          │\n",
              "│            ┆            ┆            ┆            ┆            ┆            ┆       ┆ Monitoreo  │\n",
              "│            ┆            ┆            ┆            ┆            ┆            ┆       ┆ …          │\n",
              "│ 201.217.14 ┆ 09-06-2013 ┆ GET        ┆ /map.phtml ┆ HTTP/1.1   ┆ 200        ┆ 16593 ┆ Mozilla/5. │\n",
              "│ 8.67       ┆ 09:37:36   ┆            ┆            ┆            ┆            ┆       ┆ 0 (CERTuy  │\n",
              "│            ┆            ┆            ┆            ┆            ┆            ┆       ┆ -          │\n",
              "│            ┆            ┆            ┆            ┆            ┆            ┆       ┆ Monitoreo  │\n",
              "│            ┆            ┆            ┆            ┆            ┆            ┆       ┆ …          │\n",
              "│ 173.199.11 ┆ 09-06-2013 ┆ GET        ┆ /index.php ┆ HTTP/1.1   ┆ 200        ┆ 12312 ┆ Mozilla/5. │\n",
              "│ 9.155      ┆ 09:42:33   ┆            ┆ /documento ┆            ┆            ┆       ┆ 0 (compati │\n",
              "│            ┆            ┆            ┆ s/doc_down ┆            ┆            ┆       ┆ ble;       │\n",
              "│            ┆            ┆            ┆ lo…        ┆            ┆            ┆       ┆ AhrefsB…   │\n",
              "└────────────┴────────────┴────────────┴────────────┴────────────┴────────────┴───────┴────────────┘"
            ]
          },
          "execution_count": 265,
          "metadata": {},
          "output_type": "execute_result"
        }
      ],
      "source": [
        "df_limpio = formatear_fecha(df_filtrado)\n",
        "#print(df_cleaned) # .glimpse() para ver string completo\n",
        "\n",
        "df_limpio.write_csv(\"log_limpio.csv\")\n",
        "df_limpio"
      ]
    },
    {
      "cell_type": "markdown",
      "metadata": {
        "id": "GsmU_7v_Zfph"
      },
      "source": [
        "### Métricas"
      ]
    },
    {
      "cell_type": "markdown",
      "metadata": {
        "id": "al-PXsJshAXW"
      },
      "source": [
        "**Páginas más visitadas**"
      ]
    },
    {
      "cell_type": "code",
      "execution_count": null,
      "metadata": {
        "id": "DCW8rmViZio3"
      },
      "outputs": [],
      "source": [
        "def filtrar_URLs_vacias(df):\n",
        "    return df.filter(pl.col(\"url\").is_not_null())\n",
        "\n",
        "def count_frecuencia_url(df):\n",
        "    return df.group_by(\"url\").agg(pl.col(\"url\").count().alias(\"visit_count\"))\n",
        "\n",
        "df_frecuencia_url_ordenado = count_frecuencia_url(filtrar_URLs_vacias(df_limpio)).sort(\"visit_count\", descending=True)\n",
        "df_frecuencia_url_ordenado.head(10)\n",
        "\n",
        "df_frecuencia_url_ordenado.write_csv(\"frecuencia_paginas_visitadas.csv\")\n",
        "#df_frecuencia_url_ordenado.top_k(10, by=\"visit_count\")"
      ]
    },
    {
      "cell_type": "markdown",
      "metadata": {
        "id": "D7x0Fu7Zkcwp"
      },
      "source": [
        "**Correlación entre códigos de error y variables**\n",
        "\n",
        "Primero obtengo un listado de los códigos de error de la familia 400 y 500 que encontramos en nuestros logs.\n",
        "\n",
        "Luego, sabiendo dicho listado, procedemos a trabajar con ellos. La correlación se realiza entre variables numéricas, así que debido a que tenemos variables categóricas fue necesario aplicar one hot encoding, que es una técnica para convertir una variable categórica a numérica."
      ]
    },
    {
      "cell_type": "code",
      "execution_count": null,
      "metadata": {
        "id": "uktJb9IunXHo"
      },
      "outputs": [],
      "source": [
        "# Voy a tener que eliminar algunas variables, como user agent e ip porque sino son muchos datos que se le hace one hot encoding.\n",
        "# Pensar alguna forma de buscar la correlación entre la url y los códigos de error."
      ]
    },
    {
      "cell_type": "code",
      "execution_count": null,
      "metadata": {
        "colab": {
          "base_uri": "https://localhost:8080/"
        },
        "id": "gM6Yz9xBADFc",
        "outputId": "172cbf7e-d752-4943-88c7-b3fdd49adddd"
      },
      "outputs": [
        {
          "name": "stdout",
          "output_type": "stream",
          "text": [
            "shape: (8, 8)\n",
            "┌────────────┬────────────┬────────────┬───────────┬───────────┬───────────┬───────────┬───────────┐\n",
            "│ ip_numeric ┆ timestamp_ ┆ request_me ┆ url_numer ┆ http_vers ┆ status_co ┆ size      ┆ user_agen │\n",
            "│ ---        ┆ numeric    ┆ thod_numer ┆ ic        ┆ ion_numer ┆ de        ┆ ---       ┆ t_numeric │\n",
            "│ f64        ┆ ---        ┆ ic         ┆ ---       ┆ ic        ┆ ---       ┆ f64       ┆ ---       │\n",
            "│            ┆ f64        ┆ ---        ┆ f64       ┆ ---       ┆ f64       ┆           ┆ f64       │\n",
            "│            ┆            ┆ f64        ┆           ┆ f64       ┆           ┆           ┆           │\n",
            "╞════════════╪════════════╪════════════╪═══════════╪═══════════╪═══════════╪═══════════╪═══════════╡\n",
            "│ 1.0        ┆ 0.012274   ┆ -0.240348  ┆ -0.024278 ┆ -0.153088 ┆ -0.267893 ┆ -0.332695 ┆ -0.321627 │\n",
            "│ 0.012274   ┆ 1.0        ┆ 0.03244    ┆ 0.017779  ┆ -0.003145 ┆ 0.012645  ┆ -0.009215 ┆ 0.023555  │\n",
            "│ -0.240348  ┆ 0.03244    ┆ 1.0        ┆ 0.264456  ┆ 0.1804    ┆ 0.202927  ┆ 0.622906  ┆ 0.633479  │\n",
            "│ -0.024278  ┆ 0.017779   ┆ 0.264456   ┆ 1.0       ┆ 0.0493    ┆ -0.048071 ┆ 0.132126  ┆ 0.147239  │\n",
            "│ -0.153088  ┆ -0.003145  ┆ 0.1804     ┆ 0.0493    ┆ 1.0       ┆ 0.589199  ┆ 0.658503  ┆ 0.448076  │\n",
            "│ -0.267893  ┆ 0.012645   ┆ 0.202927   ┆ -0.048071 ┆ 0.589199  ┆ 1.0       ┆ 0.629539  ┆ 0.487814  │\n",
            "│ -0.332695  ┆ -0.009215  ┆ 0.622906   ┆ 0.132126  ┆ 0.658503  ┆ 0.629539  ┆ 1.0       ┆ 0.768645  │\n",
            "│ -0.321627  ┆ 0.023555   ┆ 0.633479   ┆ 0.147239  ┆ 0.448076  ┆ 0.487814  ┆ 0.768645  ┆ 1.0       │\n",
            "└────────────┴────────────┴────────────┴───────────┴───────────┴───────────┴───────────┴───────────┘\n"
          ]
        }
      ],
      "source": [
        "import polars as pl\n",
        "\n",
        "# Filtrar el dataframe para status_code 400 o 500\n",
        "df_errores = df_limpio.filter(pl.col(\"status_code\").str.contains(r\"^4|^5\"))\n",
        "\n",
        "# Convertir columnas categóricas a numéricas para análisis de correlación\n",
        "# Esto es necesario porque la correlación sólo se puede calcular entre variables numéricas\n",
        "# Puedes usar diferentes métodos para codificar, aquí se usa factorization\n",
        "df_numeric = df_errores.select([\n",
        "    pl.col('ip').cast(pl.Utf8).hash().alias('ip_numeric'),\n",
        "    pl.col('timestamp').cast(pl.Utf8).hash().alias('timestamp_numeric'),\n",
        "    pl.col('request_method').cast(pl.Utf8).hash().alias('request_method_numeric'),\n",
        "    pl.col('url').cast(pl.Utf8).hash().alias('url_numeric'),\n",
        "    pl.col('http_version').cast(pl.Utf8).hash().alias('http_version_numeric'),\n",
        "    pl.col('status_code'),\n",
        "    pl.col('size'),\n",
        "    pl.col('user_agent').cast(pl.Utf8).hash().alias('user_agent_numeric')\n",
        "])\n",
        "\n",
        "# Calcular la correlación entre todas las columnas numéricas\n",
        "correlation_matrix = df_numeric.corr()\n",
        "\n",
        "# Mostrar la matriz de correlación\n",
        "print(correlation_matrix)\n"
      ]
    },
    {
      "cell_type": "code",
      "execution_count": null,
      "metadata": {
        "colab": {
          "base_uri": "https://localhost:8080/",
          "height": 820
        },
        "id": "1_2GSr8iBUKo",
        "outputId": "b13258b6-edca-48df-dc4e-ed44c6119b4a"
      },
      "outputs": [
        {
          "data": {
            "image/png": "[encoded data removed]",
            "text/plain": [
              "<Figure size 1000x800 with 2 Axes>"
            ]
          },
          "metadata": {},
          "output_type": "display_data"
        }
      ],
      "source": [
        "import matplotlib.pyplot as plt # type: ignore\n",
        "import seaborn as sns # type: ignore\n",
        "\n",
        "plt.figure(figsize=(10, 8))\n",
        "sns.heatmap(correlation_matrix.to_pandas(), annot=True, fmt=\".2f\", cmap='coolwarm', linewidths=.5)\n",
        "\n",
        "plt.title('Matriz de Correlación')\n",
        "plt.yticks(rotation=0)\n",
        "plt.xticks(rotation=45, ha='right')\n",
        "\n",
        "plt.show()"
      ]
    },
    {
      "cell_type": "code",
      "execution_count": null,
      "metadata": {
        "colab": {
          "base_uri": "https://localhost:8080/",
          "height": 532
        },
        "id": "8BxNXFy5C6-J",
        "outputId": "a793f8cb-f652-402d-d042-627436835acd"
      },
      "outputs": [
        {
          "name": "stdout",
          "output_type": "stream",
          "text": [
            "Requirement already satisfied: scikit-learn in /usr/local/lib/python3.10/dist-packages (1.3.2)\n",
            "Requirement already satisfied: numpy<2.0,>=1.17.3 in /usr/local/lib/python3.10/dist-packages (from scikit-learn) (1.26.4)\n",
            "Requirement already satisfied: scipy>=1.5.0 in /usr/local/lib/python3.10/dist-packages (from scikit-learn) (1.13.1)\n",
            "Requirement already satisfied: joblib>=1.1.1 in /usr/local/lib/python3.10/dist-packages (from scikit-learn) (1.4.2)\n",
            "Requirement already satisfied: threadpoolctl>=2.0.0 in /usr/local/lib/python3.10/dist-packages (from scikit-learn) (3.5.0)\n"
          ]
        },
        {
          "name": "stderr",
          "output_type": "stream",
          "text": [
            "/usr/local/lib/python3.10/dist-packages/sklearn/preprocessing/_encoders.py:975: FutureWarning: `sparse` was renamed to `sparse_output` in version 1.2 and will be removed in 1.4. `sparse_output` is ignored unless you leave `sparse` to its default value.\n",
            "  warnings.warn(\n"
          ]
        },
        {
          "ename": "TypeError",
          "evalue": "invalid input for `col`\n\nExpected `str` or `DataType`, got 'int'.",
          "output_type": "error",
          "traceback": [
            "\u001b[0;31m---------------------------------------------------------------------------\u001b[0m",
            "\u001b[0;31mTypeError\u001b[0m                                 Traceback (most recent call last)",
            "\u001b[0;32m<ipython-input-259-b1b0e9ae072a>\u001b[0m in \u001b[0;36m<cell line: 30>\u001b[0;34m()\u001b[0m\n\u001b[1;32m     28\u001b[0m \u001b[0;34m\u001b[0m\u001b[0m\n\u001b[1;32m     29\u001b[0m \u001b[0;31m# Asignar los nombres de las columnas\u001b[0m\u001b[0;34m\u001b[0m\u001b[0;34m\u001b[0m\u001b[0m\n\u001b[0;32m---> 30\u001b[0;31m df_encoded = df_encoded.with_columns([\n\u001b[0m\u001b[1;32m     31\u001b[0m     \u001b[0mpl\u001b[0m\u001b[0;34m.\u001b[0m\u001b[0mcol\u001b[0m\u001b[0;34m(\u001b[0m\u001b[0mi\u001b[0m\u001b[0;34m)\u001b[0m\u001b[0;34m.\u001b[0m\u001b[0malias\u001b[0m\u001b[0;34m(\u001b[0m\u001b[0mname\u001b[0m\u001b[0;34m)\u001b[0m \u001b[0;32mfor\u001b[0m \u001b[0mi\u001b[0m\u001b[0;34m,\u001b[0m \u001b[0mname\u001b[0m \u001b[0;32min\u001b[0m \u001b[0menumerate\u001b[0m\u001b[0;34m(\u001b[0m\u001b[0mencoder\u001b[0m\u001b[0;34m.\u001b[0m\u001b[0mget_feature_names_out\u001b[0m\u001b[0;34m(\u001b[0m\u001b[0;34m)\u001b[0m\u001b[0;34m.\u001b[0m\u001b[0mtolist\u001b[0m\u001b[0;34m(\u001b[0m\u001b[0;34m)\u001b[0m \u001b[0;34m+\u001b[0m \u001b[0mnumerical_cols\u001b[0m\u001b[0;34m)\u001b[0m\u001b[0;34m\u001b[0m\u001b[0;34m\u001b[0m\u001b[0m\n\u001b[1;32m     32\u001b[0m ])\n",
            "\u001b[0;32m<ipython-input-259-b1b0e9ae072a>\u001b[0m in \u001b[0;36m<listcomp>\u001b[0;34m(.0)\u001b[0m\n\u001b[1;32m     29\u001b[0m \u001b[0;31m# Asignar los nombres de las columnas\u001b[0m\u001b[0;34m\u001b[0m\u001b[0;34m\u001b[0m\u001b[0m\n\u001b[1;32m     30\u001b[0m df_encoded = df_encoded.with_columns([\n\u001b[0;32m---> 31\u001b[0;31m     \u001b[0mpl\u001b[0m\u001b[0;34m.\u001b[0m\u001b[0mcol\u001b[0m\u001b[0;34m(\u001b[0m\u001b[0mi\u001b[0m\u001b[0;34m)\u001b[0m\u001b[0;34m.\u001b[0m\u001b[0malias\u001b[0m\u001b[0;34m(\u001b[0m\u001b[0mname\u001b[0m\u001b[0;34m)\u001b[0m \u001b[0;32mfor\u001b[0m \u001b[0mi\u001b[0m\u001b[0;34m,\u001b[0m \u001b[0mname\u001b[0m \u001b[0;32min\u001b[0m \u001b[0menumerate\u001b[0m\u001b[0;34m(\u001b[0m\u001b[0mencoder\u001b[0m\u001b[0;34m.\u001b[0m\u001b[0mget_feature_names_out\u001b[0m\u001b[0;34m(\u001b[0m\u001b[0;34m)\u001b[0m\u001b[0;34m.\u001b[0m\u001b[0mtolist\u001b[0m\u001b[0;34m(\u001b[0m\u001b[0;34m)\u001b[0m \u001b[0;34m+\u001b[0m \u001b[0mnumerical_cols\u001b[0m\u001b[0;34m)\u001b[0m\u001b[0;34m\u001b[0m\u001b[0;34m\u001b[0m\u001b[0m\n\u001b[0m\u001b[1;32m     32\u001b[0m ])\n\u001b[1;32m     33\u001b[0m \u001b[0;34m\u001b[0m\u001b[0m\n",
            "\u001b[0;32m/usr/local/lib/python3.10/dist-packages/polars/functions/col.py\u001b[0m in \u001b[0;36m__new__\u001b[0;34m(cls, name, *more_names)\u001b[0m\n\u001b[1;32m    285\u001b[0m \u001b[0;34m\u001b[0m\u001b[0m\n\u001b[1;32m    286\u001b[0m         \"\"\"\n\u001b[0;32m--> 287\u001b[0;31m         \u001b[0;32mreturn\u001b[0m \u001b[0m_create_col\u001b[0m\u001b[0;34m(\u001b[0m\u001b[0mname\u001b[0m\u001b[0;34m,\u001b[0m \u001b[0;34m*\u001b[0m\u001b[0mmore_names\u001b[0m\u001b[0;34m)\u001b[0m\u001b[0;34m\u001b[0m\u001b[0;34m\u001b[0m\u001b[0m\n\u001b[0m\u001b[1;32m    288\u001b[0m \u001b[0;34m\u001b[0m\u001b[0m\n\u001b[1;32m    289\u001b[0m     \u001b[0;31m# appease sphinx; we actually use '__new__'\u001b[0m\u001b[0;34m\u001b[0m\u001b[0;34m\u001b[0m\u001b[0m\n",
            "\u001b[0;32m/usr/local/lib/python3.10/dist-packages/polars/functions/col.py\u001b[0m in \u001b[0;36m_create_col\u001b[0;34m(name, *more_names)\u001b[0m\n\u001b[1;32m     59\u001b[0m             )\n\u001b[1;32m     60\u001b[0m     \u001b[0;32melse\u001b[0m\u001b[0;34m:\u001b[0m\u001b[0;34m\u001b[0m\u001b[0;34m\u001b[0m\u001b[0m\n\u001b[0;32m---> 61\u001b[0;31m         raise TypeError(\n\u001b[0m\u001b[1;32m     62\u001b[0m             \u001b[0;34m\"invalid input for `col`\"\u001b[0m\u001b[0;34m\u001b[0m\u001b[0;34m\u001b[0m\u001b[0m\n\u001b[1;32m     63\u001b[0m             \u001b[0;34mf\"\\n\\nExpected `str` or `DataType`, got {type(name).__name__!r}.\"\u001b[0m\u001b[0;34m\u001b[0m\u001b[0;34m\u001b[0m\u001b[0m\n",
            "\u001b[0;31mTypeError\u001b[0m: invalid input for `col`\n\nExpected `str` or `DataType`, got 'int'."
          ]
        }
      ],
      "source": [
        "## INTENTO 2\n",
        "%pip install scikit-learn\n",
        "\n",
        "from sklearn.preprocessing import OneHotEncoder # type: ignore\n",
        "import numpy as np # type: ignore\n",
        "import matplotlib.pyplot as plt # type: ignore\n",
        "import seaborn as sns # type: ignore\n",
        "\n",
        "df_selected = df_limpio.select([\n",
        "    'request_method', 'url', 'http_version', 'status_code', 'size'\n",
        "])\n",
        "\n",
        "# Columnas categóricas y numéricas\n",
        "categorical_cols = ['request_method', 'url', 'http_version']\n",
        "numerical_cols = ['status_code', 'size']\n",
        "\n",
        "# Crear y aplicar el encoder\n",
        "encoder = OneHotEncoder(sparse=False)\n",
        "categorical_data = encoder.fit_transform(df_selected.select(categorical_cols).to_numpy())\n",
        "\n",
        "# Concatenar los datos numéricos y categóricos\n",
        "encoded_data = np.concatenate(\n",
        "    [categorical_data, df_selected.select(numerical_cols).to_numpy()], axis=1\n",
        ")\n",
        "\n",
        "# Crear el DataFrame de Polars sin especificar columnas inicialmente\n",
        "df_encoded = pl.DataFrame(encoded_data)\n",
        "\n",
        "# Asignar los nombres de las columnas\n",
        "df_encoded = df_encoded.with_columns([\n",
        "    pl.col(i).alias(name) for i, name in enumerate(encoder.get_feature_names_out().tolist() + numerical_cols)\n",
        "])\n",
        "\n",
        "# Calcular la matriz de correlación\n",
        "correlation_matrix = df_encoded.corr()\n",
        "\n",
        "# Convertir a DataFrame de pandas para visualización\n",
        "correlation_matrix_pandas = correlation_matrix.to_pandas()\n",
        "\n",
        "# Visualizar la matriz de correlación\n",
        "plt.figure(figsize=(12, 8))\n",
        "sns.heatmap(correlation_matrix_pandas, annot=True, fmt=\".2f\", cmap='coolwarm')\n",
        "plt.title(\"Correlation Matrix\")\n",
        "plt.show()\n"
      ]
    }
  ],
  "metadata": {
    "colab": {
      "collapsed_sections": [
        "BaowLSgwzrz2"
      ],
      "provenance": []
    },
    "kernelspec": {
      "display_name": "Python 3",
      "name": "python3"
    },
    "language_info": {
      "name": "python",
      "version": "3.12.5"
    }
  },
  "nbformat": 4,
  "nbformat_minor": 0
}
