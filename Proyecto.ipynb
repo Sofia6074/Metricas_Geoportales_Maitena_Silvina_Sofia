{
  "cells": [
    {
      "cell_type": "code",
      "execution_count": 20,
      "metadata": {
        "id": "9XwjwNoKv2Tv"
      },
      "outputs": [],
      "source": [
        "import polars as pl;\n",
        "import csv;"
      ]
    },
    {
      "cell_type": "markdown",
      "metadata": {
        "id": "y8gzd3hfzgMa"
      },
      "source": [
        "Carga de datos desde Drive"
      ]
    },
    {
      "cell_type": "code",
      "execution_count": 21,
      "metadata": {
        "colab": {
          "base_uri": "https://localhost:8080/"
        },
        "id": "J0srswPzwmPo",
        "outputId": "3f1386f2-3f4b-4a7f-df80-ea60397f7185"
      },
      "outputs": [
        {
          "name": "stdout",
          "output_type": "stream",
          "text": [
            "Drive already mounted at /content/drive; to attempt to forcibly remount, call drive.mount(\"/content/drive\", force_remount=True).\n"
          ]
        }
      ],
      "source": [
        "\n",
        "from google.colab import drive, files\n",
        "\n",
        "drive.mount('/content/drive')\n",
        "log_file_path = '/content/drive/My Drive/Colab_Folder/access.log'\n",
        "csv_file_path = '/content/drive/My Drive/Colab_Folder/archivo.csv'"
      ]
    },
    {
      "cell_type": "markdown",
      "metadata": {
        "id": "GUmUaxlqpaol"
      },
      "source": [
        "Carga de datos desde Kaggle"
      ]
    },
    {
      "cell_type": "code",
      "execution_count": 22,
      "metadata": {
        "colab": {
          "base_uri": "https://localhost:8080/"
        },
        "id": "CHi7TdWgpZ2L",
        "outputId": "4318a968-ca1d-4756-8840-2950603212b9"
      },
      "outputs": [
        {
          "name": "stdout",
          "output_type": "stream",
          "text": [
            "403 - Forbidden - Permission 'datasets.get' was denied\n",
            "unzip:  cannot find or open filebeat-geoportal-access.csv.zip, filebeat-geoportal-access.csv.zip.zip or filebeat-geoportal-access.csv.zip.ZIP.\n"
          ]
        }
      ],
      "source": [
        "from google.colab import userdata\n",
        "import os\n",
        "!pip install -U -q kaggle\n",
        "\n",
        "os.environ[\"KAGGLE_KEY\"] = userdata.get('KAGGLE_KEY')\n",
        "os.environ[\"KAGGLE_USER\"] = userdata.get('KAGGLE_USER')\n",
        "\n",
        "!mkdir -p ~/.kaggle\n",
        "!kaggle datasets download -d sofiamartinez222324/infraestructura-de-datos-espaciales-uy\n",
        "!unzip filebeat-geoportal-access.csv.zip"
      ]
    },
    {
      "cell_type": "markdown",
      "metadata": {
        "id": "7dIkrMPozXR6"
      },
      "source": [
        "Convertir archivos .logs a .csv para poder trabajar con Polars"
      ]
    },
    {
      "cell_type": "code",
      "execution_count": 23,
      "metadata": {
        "id": "jdoXIs5PxogQ"
      },
      "outputs": [],
      "source": [
        "# Abro el archivo original .log\n",
        "with open(log_file_path, 'r') as file:\n",
        "    log_data = file.readlines()\n",
        "\n",
        "# Los encabezados para el archivo .csv\n",
        "headers = [\"ip\", \"timestamp\", \"request_method\", \"url\", \"http_version\", \"status_code\", \"size\", \"user_agent\"]\n",
        "\n",
        "# Lo leo linea por linea y voy guardando la info en el archivo.csv\n",
        "with open(csv_file_path, 'w', newline='') as csvfile:\n",
        "    csvwriter = csv.writer(csvfile)\n",
        "    csvwriter.writerow(headers)\n",
        "\n",
        "    for line in log_data:\n",
        "        parts = line.split(' ')\n",
        "\n",
        "        try:\n",
        "            ip = parts[0]\n",
        "            timestamp = ' '.join(parts[3:5]).strip('[]')\n",
        "            request_method = parts[5].strip('\"') if parts[5] != '\"-\"' else None\n",
        "            url = parts[6] if len(parts) > 6 else None\n",
        "            http_version = parts[7].strip('\"') if len(parts) > 7 else None\n",
        "            status_code = int(parts[8]) if len(parts) > 8 and parts[8].isdigit() else None\n",
        "            size = int(parts[9]) if len(parts) > 9 and parts[9].isdigit() else None\n",
        "            user_agent = ' '.join(parts[11:]).strip('\"') if len(parts) > 11 else None\n",
        "\n",
        "            csvwriter.writerow([ip, timestamp, request_method, url, http_version, status_code, size, user_agent])\n",
        "\n",
        "        except (IndexError, ValueError) as e:\n",
        "            print(f\"Error procesando la línea: {line.strip()} - Error: {e}\")\n",
        "            csvwriter.writerow([ip, timestamp, None, None, None, None, None, None])"
      ]
    },
    {
      "cell_type": "markdown",
      "metadata": {
        "id": "BaowLSgwzrz2"
      },
      "source": [
        "## Funciones Auxiliares\n",
        "\n",
        "#### **filtrar_jcemediabox:**\n",
        "Estas URLs están asociadas con JCEMediaBox, un plugin de Joomla que facilita la incorporación de lightboxes para mostrar imágenes, vídeos y otros tipos de medios de una manera atractiva y funcional. Los archivos .js contienen el código JavaScript necesario para hacer funcionar el lightbox, mientras que los archivos .css contienen los estilos que determinan la apariencia del lightbox en la página web.\n",
        "\n",
        "---\n",
        "\n",
        "#### **filtrar_css y filtrar_js:**\n",
        "El objetivo de nuestro análisis es entender el tráfico relacionado con la funcionalidad del sitio y excluir contenido estático como .css y .js. Por lo que decidimos filtrar estos archivos. Si quisiéramos hacer un análisis más completo del tráfico, deberíamos mantener estos archivos.\n",
        "\n",
        "Pero los archivos .css y .js son muy frecuentes en los logs y filtrarlos puede reducir el \"ruido\" en los datos, permitiéndonos enfocarnos en las solicitudes más relevantes.\n"
      ]
    },
    {
      "cell_type": "code",
      "execution_count": 24,
      "metadata": {
        "id": "56awTJGcv-16"
      },
      "outputs": [],
      "source": [
        "##### Funciones auxiliares - Limpieza de datos\n",
        "def obtener_total_registros():\n",
        "    return df.height\n",
        "\n",
        "def contar_registros_url(df, regex):\n",
        "    return df.filter(pl.col(\"url\").str.contains(regex)).height\n",
        "\n",
        "def contar_registros_user_agent(df, regex):\n",
        "    return df.filter(pl.col(\"user_agent\").str.contains(regex)).height\n",
        "\n",
        "\n",
        "# Robos y Crawlers\n",
        "def contar_filtros_robots(df):\n",
        "    total_registros = obtener_total_registros()\n",
        "\n",
        "    registros_googlebot = contar_registros_user_agent(df, 'Googlebot')\n",
        "    registros_baiduspider = contar_registros_user_agent(df, 'Baiduspider')\n",
        "    registros_agesic_crawler = contar_registros_user_agent(df, 'agesic-crawler')\n",
        "\n",
        "    porcentaje_googlebot = (registros_googlebot / total_registros) * 100\n",
        "    porcentaje_baiduspider = (registros_baiduspider / total_registros) * 100\n",
        "    porcentaje_agesic_crawler = (registros_agesic_crawler / total_registros) * 100\n",
        "\n",
        "    print(f\"Registros 'Googlebot': {registros_googlebot} ({porcentaje_googlebot:.2f}%)\")\n",
        "    print(f\"Registros 'Baiduspider': {registros_baiduspider} ({porcentaje_baiduspider:.2f}%)\")\n",
        "    print(f\"Registros 'agesic-crawler': {registros_agesic_crawler} ({porcentaje_agesic_crawler:.2f}%)\")\n",
        "\n",
        "def filtrar_googlebot(df):\n",
        "    return df.filter(~pl.col(\"user_agent\").str.contains('Googlebot'))\n",
        "\n",
        "def filtrar_baiduspider(df):\n",
        "    return df.filter(~pl.col(\"user_agent\").str.contains('Baiduspider'))\n",
        "\n",
        "def filtrar_agesic_crawler(df):\n",
        "    return df.filter(~pl.col(\"user_agent\").str.contains('agesic-crawler'))\n",
        "\n",
        "def filtrar_robots_y_crawlers(df):\n",
        "    contar_filtros_robots(df)\n",
        "    df = filtrar_googlebot(df)\n",
        "    df = filtrar_baiduspider(df)\n",
        "    df = filtrar_agesic_crawler(df)\n",
        "    return df\n",
        "\n",
        "\n",
        "# Archivos estáticos\n",
        "def contar_filtros_archivos_estaticos(df):\n",
        "    total_registros = obtener_total_registros()\n",
        "\n",
        "    registros_jcemediabox = contar_registros_url(df, '/plugins/system/jcemediabox/')\n",
        "    registros_css = contar_registros_url(df, r'\\.css$')\n",
        "    registros_js = contar_registros_url(df, r'\\.js$')\n",
        "    registros_png = contar_registros_url(df, r'\\.png$')\n",
        "    registros_jpg = contar_registros_url(df, r'\\.jpg$')\n",
        "    registros_gif = contar_registros_url(df, r'\\.gif$')\n",
        "    registros_favicon = contar_registros_url(df, r'favicon\\.ico$')\n",
        "\n",
        "    porcentaje_jcemediabox = (registros_jcemediabox / total_registros) * 100\n",
        "    porcentaje_css = (registros_css / total_registros) * 100\n",
        "    porcentaje_js = (registros_js / total_registros) * 100\n",
        "    porcentaje_png = (registros_png / total_registros) * 100\n",
        "    porcentaje_jpg = (registros_jpg / total_registros) * 100\n",
        "    porcentaje_gif = (registros_gif / total_registros) * 100\n",
        "    porcentaje_favicon = (registros_favicon / total_registros) * 100\n",
        "\n",
        "    print(f\"Registros 'jcemediabox': {registros_jcemediabox} ({porcentaje_jcemediabox:.2f}%)\")\n",
        "    print(f\"Registros '.css': {registros_css} ({porcentaje_css:.2f}%)\")\n",
        "    print(f\"Registros '.js': {registros_js} ({porcentaje_js:.2f}%)\")\n",
        "    print(f\"Registros '.png': {registros_png} ({porcentaje_png:.2f}%)\")\n",
        "    print(f\"Registros '.jpg': {registros_jpg} ({porcentaje_jpg:.2f}%)\")\n",
        "    print(f\"Registros '.gif': {registros_gif} ({porcentaje_gif:.2f}%)\")\n",
        "    print(f\"Registros 'favicon.ico': {registros_favicon} ({porcentaje_favicon:.2f}%)\")\n",
        "\n",
        "def filtar_jcemediabox(df):\n",
        "    return df.filter(~pl.col(\"url\").str.contains('/plugins/system/jcemediabox/'))\n",
        "\n",
        "def filtrar_css(df):\n",
        "    regex = r'\\.css$'\n",
        "    return df.filter(~pl.col(\"url\").str.contains(regex))\n",
        "\n",
        "def filtrar_js(df):\n",
        "    regex = r'\\.js$'\n",
        "    return df.filter(~pl.col(\"url\").str.contains(regex))\n",
        "\n",
        "def filtrar_png(df):\n",
        "    regex = r'\\.png$'\n",
        "    return df.filter(~pl.col(\"url\").str.contains(regex))\n",
        "\n",
        "def filtrar_jpg(df):\n",
        "    regex = r'\\.jpg$'\n",
        "    return df.filter(~pl.col(\"url\").str.contains(regex))\n",
        "\n",
        "def filtrar_gif(df):\n",
        "    regex = r'\\.gif$'\n",
        "    return df.filter(~pl.col(\"url\").str.contains(r'\\.gif$'))\n",
        "\n",
        "def filtrar_favicon(df):\n",
        "    regex = r'favicon\\.ico$'\n",
        "    return df.filter(~pl.col(\"url\").str.contains(r'favicon\\.ico$'))\n",
        "\n",
        "def filtrar_datos(df):\n",
        "    contar_filtros_archivos_estaticos(df)\n",
        "    df = filtar_jcemediabox(df)\n",
        "    df = filtrar_css(df)\n",
        "    df = filtrar_js(df)\n",
        "    df = filtrar_png(df)\n",
        "    df = filtrar_jpg(df)\n",
        "    df = filtrar_gif(df)\n",
        "    df = filtrar_favicon(df)\n",
        "    return df\n",
        "\n",
        "def formatear_fecha(df):\n",
        "    return df.with_columns([pl.col(\"timestamp\").str.strptime(pl.Datetime, \"%d/%b/%Y:%H:%M:%S %z\", strict=False).dt.strftime(\"%d-%m-%Y %H:%M:%S\").alias(\"timestamp\")])"
      ]
    },
    {
      "cell_type": "markdown",
      "metadata": {
        "id": "o5x339Hi0E1t"
      },
      "source": [
        "## Main"
      ]
    },
    {
      "cell_type": "code",
      "execution_count": 25,
      "metadata": {
        "id": "P1uzJ-9rwFvG"
      },
      "outputs": [],
      "source": [
        "df = pl.read_csv(csv_file_path)"
      ]
    },
    {
      "cell_type": "markdown",
      "metadata": {
        "id": "Ia6RqdFcrQVI"
      },
      "source": [
        "#### Reconocimiento del data frame\n",
        "Veamos cómo está compuesto el dataframe"
      ]
    },
    {
      "cell_type": "code",
      "execution_count": 26,
      "metadata": {
        "colab": {
          "base_uri": "https://localhost:8080/"
        },
        "id": "1CXd953pq3Ci",
        "outputId": "b9f9b993-3e0f-4cbc-9df5-682a3f9642cd"
      },
      "outputs": [
        {
          "data": {
            "text/plain": [
              "Schema([('ip', String),\n",
              "        ('timestamp', String),\n",
              "        ('request_method', String),\n",
              "        ('url', String),\n",
              "        ('http_version', String),\n",
              "        ('status_code', Int64),\n",
              "        ('size', Int64),\n",
              "        ('user_agent', String)])"
            ]
          },
          "execution_count": 26,
          "metadata": {},
          "output_type": "execute_result"
        }
      ],
      "source": [
        "df.schema"
      ]
    },
    {
      "cell_type": "markdown",
      "metadata": {
        "id": "XLHZH3dnqqyh"
      },
      "source": [
        "Mostramos las primeras 5 filas del dataframe"
      ]
    },
    {
      "cell_type": "code",
      "execution_count": 27,
      "metadata": {
        "colab": {
          "base_uri": "https://localhost:8080/",
          "height": 255
        },
        "id": "hzCLgyokqtN9",
        "outputId": "ac52243d-f895-44d2-8e01-de979dd71923"
      },
      "outputs": [
        {
          "data": {
            "text/html": [
              "<div><style>\n",
              ".dataframe > thead > tr,\n",
              ".dataframe > tbody > tr {\n",
              "  text-align: right;\n",
              "  white-space: pre-wrap;\n",
              "}\n",
              "</style>\n",
              "<small>shape: (5, 8)</small><table border=\"1\" class=\"dataframe\"><thead><tr><th>ip</th><th>timestamp</th><th>request_method</th><th>url</th><th>http_version</th><th>status_code</th><th>size</th><th>user_agent</th></tr><tr><td>str</td><td>str</td><td>str</td><td>str</td><td>str</td><td>i64</td><td>i64</td><td>str</td></tr></thead><tbody><tr><td>&quot;127.0.0.1&quot;</td><td>&quot;02/Jun/2013:06:48:17 -0300&quot;</td><td>&quot;OPTIONS&quot;</td><td>&quot;*&quot;</td><td>&quot;HTTP/1.0&quot;</td><td>200</td><td>167</td><td>&quot;Apache/2.2.14 (Ubuntu) (intern…</td></tr><tr><td>&quot;127.0.0.1&quot;</td><td>&quot;02/Jun/2013:06:48:17 -0300&quot;</td><td>&quot;OPTIONS&quot;</td><td>&quot;*&quot;</td><td>&quot;HTTP/1.0&quot;</td><td>200</td><td>167</td><td>&quot;Apache/2.2.14 (Ubuntu) (intern…</td></tr><tr><td>&quot;127.0.0.1&quot;</td><td>&quot;02/Jun/2013:06:48:17 -0300&quot;</td><td>&quot;OPTIONS&quot;</td><td>&quot;*&quot;</td><td>&quot;HTTP/1.0&quot;</td><td>200</td><td>167</td><td>&quot;Apache/2.2.14 (Ubuntu) (intern…</td></tr><tr><td>&quot;180.76.5.150&quot;</td><td>&quot;02/Jun/2013:06:49:39 -0300&quot;</td><td>&quot;GET&quot;</td><td>&quot;/index.php/component/jevents/s…</td><td>&quot;HTTP/1.1&quot;</td><td>200</td><td>8842</td><td>&quot;Mozilla/5.0 (compatible; Baidu…</td></tr><tr><td>&quot;190.64.2.162&quot;</td><td>&quot;02/Jun/2013:06:51:40 -0300&quot;</td><td>&quot;GET&quot;</td><td>&quot;/robots.txt&quot;</td><td>&quot;HTTP/1.0&quot;</td><td>200</td><td>718</td><td>&quot;agesic-crawler (Enterprise; T3…</td></tr></tbody></table></div>"
            ],
            "text/plain": [
              "shape: (5, 8)\n",
              "┌─────────────┬────────────┬────────────┬────────────┬────────────┬────────────┬──────┬────────────┐\n",
              "│ ip          ┆ timestamp  ┆ request_me ┆ url        ┆ http_versi ┆ status_cod ┆ size ┆ user_agent │\n",
              "│ ---         ┆ ---        ┆ thod       ┆ ---        ┆ on         ┆ e          ┆ ---  ┆ ---        │\n",
              "│ str         ┆ str        ┆ ---        ┆ str        ┆ ---        ┆ ---        ┆ i64  ┆ str        │\n",
              "│             ┆            ┆ str        ┆            ┆ str        ┆ i64        ┆      ┆            │\n",
              "╞═════════════╪════════════╪════════════╪════════════╪════════════╪════════════╪══════╪════════════╡\n",
              "│ 127.0.0.1   ┆ 02/Jun/201 ┆ OPTIONS    ┆ *          ┆ HTTP/1.0   ┆ 200        ┆ 167  ┆ Apache/2.2 │\n",
              "│             ┆ 3:06:48:17 ┆            ┆            ┆            ┆            ┆      ┆ .14        │\n",
              "│             ┆ -0300      ┆            ┆            ┆            ┆            ┆      ┆ (Ubuntu)   │\n",
              "│             ┆            ┆            ┆            ┆            ┆            ┆      ┆ (intern…   │\n",
              "│ 127.0.0.1   ┆ 02/Jun/201 ┆ OPTIONS    ┆ *          ┆ HTTP/1.0   ┆ 200        ┆ 167  ┆ Apache/2.2 │\n",
              "│             ┆ 3:06:48:17 ┆            ┆            ┆            ┆            ┆      ┆ .14        │\n",
              "│             ┆ -0300      ┆            ┆            ┆            ┆            ┆      ┆ (Ubuntu)   │\n",
              "│             ┆            ┆            ┆            ┆            ┆            ┆      ┆ (intern…   │\n",
              "│ 127.0.0.1   ┆ 02/Jun/201 ┆ OPTIONS    ┆ *          ┆ HTTP/1.0   ┆ 200        ┆ 167  ┆ Apache/2.2 │\n",
              "│             ┆ 3:06:48:17 ┆            ┆            ┆            ┆            ┆      ┆ .14        │\n",
              "│             ┆ -0300      ┆            ┆            ┆            ┆            ┆      ┆ (Ubuntu)   │\n",
              "│             ┆            ┆            ┆            ┆            ┆            ┆      ┆ (intern…   │\n",
              "│ 180.76.5.15 ┆ 02/Jun/201 ┆ GET        ┆ /index.php ┆ HTTP/1.1   ┆ 200        ┆ 8842 ┆ Mozilla/5. │\n",
              "│ 0           ┆ 3:06:49:39 ┆            ┆ /component ┆            ┆            ┆      ┆ 0 (compati │\n",
              "│             ┆ -0300      ┆            ┆ /jevents/s ┆            ┆            ┆      ┆ ble;       │\n",
              "│             ┆            ┆            ┆ …          ┆            ┆            ┆      ┆ Baidu…     │\n",
              "│ 190.64.2.16 ┆ 02/Jun/201 ┆ GET        ┆ /robots.tx ┆ HTTP/1.0   ┆ 200        ┆ 718  ┆ agesic-cra │\n",
              "│ 2           ┆ 3:06:51:40 ┆            ┆ t          ┆            ┆            ┆      ┆ wler (Ente │\n",
              "│             ┆ -0300      ┆            ┆            ┆            ┆            ┆      ┆ rprise;    │\n",
              "│             ┆            ┆            ┆            ┆            ┆            ┆      ┆ T3…        │\n",
              "└─────────────┴────────────┴────────────┴────────────┴────────────┴────────────┴──────┴────────────┘"
            ]
          },
          "execution_count": 27,
          "metadata": {},
          "output_type": "execute_result"
        }
      ],
      "source": [
        "df.head(5)"
      ]
    },
    {
      "cell_type": "markdown",
      "metadata": {
        "id": "i8GlAHVAcYbW"
      },
      "source": [
        "Veremos la cantidad de registros con los que cuenta el dataset"
      ]
    },
    {
      "cell_type": "code",
      "execution_count": 28,
      "metadata": {
        "colab": {
          "base_uri": "https://localhost:8080/",
          "height": 129
        },
        "id": "XekRH4tBccdE",
        "outputId": "fd08ce90-9bca-409c-d257-128560c02882"
      },
      "outputs": [
        {
          "data": {
            "text/html": [
              "<div><style>\n",
              ".dataframe > thead > tr,\n",
              ".dataframe > tbody > tr {\n",
              "  text-align: right;\n",
              "  white-space: pre-wrap;\n",
              "}\n",
              "</style>\n",
              "<small>shape: (1, 8)</small><table border=\"1\" class=\"dataframe\"><thead><tr><th>ip</th><th>timestamp</th><th>request_method</th><th>url</th><th>http_version</th><th>status_code</th><th>size</th><th>user_agent</th></tr><tr><td>u32</td><td>u32</td><td>u32</td><td>u32</td><td>u32</td><td>u32</td><td>u32</td><td>u32</td></tr></thead><tbody><tr><td>207232</td><td>207232</td><td>206769</td><td>207232</td><td>207232</td><td>206768</td><td>206768</td><td>206768</td></tr></tbody></table></div>"
            ],
            "text/plain": [
              "shape: (1, 8)\n",
              "┌────────┬───────────┬────────────────┬────────┬──────────────┬─────────────┬────────┬────────────┐\n",
              "│ ip     ┆ timestamp ┆ request_method ┆ url    ┆ http_version ┆ status_code ┆ size   ┆ user_agent │\n",
              "│ ---    ┆ ---       ┆ ---            ┆ ---    ┆ ---          ┆ ---         ┆ ---    ┆ ---        │\n",
              "│ u32    ┆ u32       ┆ u32            ┆ u32    ┆ u32          ┆ u32         ┆ u32    ┆ u32        │\n",
              "╞════════╪═══════════╪════════════════╪════════╪══════════════╪═════════════╪════════╪════════════╡\n",
              "│ 207232 ┆ 207232    ┆ 206769         ┆ 207232 ┆ 207232       ┆ 206768      ┆ 206768 ┆ 206768     │\n",
              "└────────┴───────────┴────────────────┴────────┴──────────────┴─────────────┴────────┴────────────┘"
            ]
          },
          "execution_count": 28,
          "metadata": {},
          "output_type": "execute_result"
        }
      ],
      "source": [
        "cantidad_registros = df.select(pl.all().count())\n",
        "cantidad_registros"
      ]
    },
    {
      "cell_type": "markdown",
      "metadata": {
        "id": "zEtMS5iZskfz"
      },
      "source": [
        "Podemos notar que para las columnas de request_method, status_code, size y user_agent se muestra una cantidad de registros menor comparado con las columnas de ip, timestamp, url y http_version.\n",
        "\n",
        "Veremos con que cantidad de valores vacíos nos encontramos en el df, para verificar si esta es la razón de que nos aparezcan registros faltantes."
      ]
    },
    {
      "cell_type": "code",
      "execution_count": 29,
      "metadata": {
        "colab": {
          "base_uri": "https://localhost:8080/",
          "height": 129
        },
        "id": "Lq79UfJasoLK",
        "outputId": "03b9bf73-5d3e-4a45-c852-d04f352f8135"
      },
      "outputs": [
        {
          "data": {
            "text/html": [
              "<div><style>\n",
              ".dataframe > thead > tr,\n",
              ".dataframe > tbody > tr {\n",
              "  text-align: right;\n",
              "  white-space: pre-wrap;\n",
              "}\n",
              "</style>\n",
              "<small>shape: (1, 8)</small><table border=\"1\" class=\"dataframe\"><thead><tr><th>ip</th><th>timestamp</th><th>request_method</th><th>url</th><th>http_version</th><th>status_code</th><th>size</th><th>user_agent</th></tr><tr><td>u32</td><td>u32</td><td>u32</td><td>u32</td><td>u32</td><td>u32</td><td>u32</td><td>u32</td></tr></thead><tbody><tr><td>0</td><td>0</td><td>463</td><td>0</td><td>0</td><td>464</td><td>464</td><td>464</td></tr></tbody></table></div>"
            ],
            "text/plain": [
              "shape: (1, 8)\n",
              "┌─────┬───────────┬────────────────┬─────┬──────────────┬─────────────┬──────┬────────────┐\n",
              "│ ip  ┆ timestamp ┆ request_method ┆ url ┆ http_version ┆ status_code ┆ size ┆ user_agent │\n",
              "│ --- ┆ ---       ┆ ---            ┆ --- ┆ ---          ┆ ---         ┆ ---  ┆ ---        │\n",
              "│ u32 ┆ u32       ┆ u32            ┆ u32 ┆ u32          ┆ u32         ┆ u32  ┆ u32        │\n",
              "╞═════╪═══════════╪════════════════╪═════╪══════════════╪═════════════╪══════╪════════════╡\n",
              "│ 0   ┆ 0         ┆ 463            ┆ 0   ┆ 0            ┆ 464         ┆ 464  ┆ 464        │\n",
              "└─────┴───────────┴────────────────┴─────┴──────────────┴─────────────┴──────┴────────────┘"
            ]
          },
          "execution_count": 29,
          "metadata": {},
          "output_type": "execute_result"
        }
      ],
      "source": [
        "cantidad_nulos = df.null_count()\n",
        "cantidad_nulos"
      ]
    },
    {
      "cell_type": "code",
      "execution_count": 30,
      "metadata": {
        "colab": {
          "base_uri": "https://localhost:8080/",
          "height": 129
        },
        "id": "uIO_zxD4X4yT",
        "outputId": "95a5378a-6a3d-49c8-faba-7be64ccd981d"
      },
      "outputs": [
        {
          "data": {
            "text/html": [
              "<div><style>\n",
              ".dataframe > thead > tr,\n",
              ".dataframe > tbody > tr {\n",
              "  text-align: right;\n",
              "  white-space: pre-wrap;\n",
              "}\n",
              "</style>\n",
              "<small>shape: (1, 8)</small><table border=\"1\" class=\"dataframe\"><thead><tr><th>ip</th><th>timestamp</th><th>request_method</th><th>url</th><th>http_version</th><th>status_code</th><th>size</th><th>user_agent</th></tr><tr><td>u32</td><td>u32</td><td>u32</td><td>u32</td><td>u32</td><td>u32</td><td>u32</td><td>u32</td></tr></thead><tbody><tr><td>207232</td><td>207232</td><td>207232</td><td>207232</td><td>207232</td><td>207232</td><td>207232</td><td>207232</td></tr></tbody></table></div>"
            ],
            "text/plain": [
              "shape: (1, 8)\n",
              "┌────────┬───────────┬────────────────┬────────┬──────────────┬─────────────┬────────┬────────────┐\n",
              "│ ip     ┆ timestamp ┆ request_method ┆ url    ┆ http_version ┆ status_code ┆ size   ┆ user_agent │\n",
              "│ ---    ┆ ---       ┆ ---            ┆ ---    ┆ ---          ┆ ---         ┆ ---    ┆ ---        │\n",
              "│ u32    ┆ u32       ┆ u32            ┆ u32    ┆ u32          ┆ u32         ┆ u32    ┆ u32        │\n",
              "╞════════╪═══════════╪════════════════╪════════╪══════════════╪═════════════╪════════╪════════════╡\n",
              "│ 207232 ┆ 207232    ┆ 207232         ┆ 207232 ┆ 207232       ┆ 207232      ┆ 207232 ┆ 207232     │\n",
              "└────────┴───────────┴────────────────┴────────┴──────────────┴─────────────┴────────┴────────────┘"
            ]
          },
          "execution_count": 30,
          "metadata": {},
          "output_type": "execute_result"
        }
      ],
      "source": [
        "total_registros = cantidad_registros + cantidad_nulos\n",
        "total_registros"
      ]
    },
    {
      "cell_type": "markdown",
      "metadata": {
        "id": "Q6nGUIaddYOy"
      },
      "source": [
        "Como sospechábamos, la diferencia entre las cantidades de registros se debe a los valores en nulo.\n",
        "\n",
        "El porcentaje de valores nulos por columna es el siguiente:"
      ]
    },
    {
      "cell_type": "code",
      "execution_count": 31,
      "metadata": {
        "colab": {
          "base_uri": "https://localhost:8080/",
          "height": 129
        },
        "id": "ejxzPaiNXdfD",
        "outputId": "c5020d59-e1ef-4d49-b98d-971a6fdff5b0"
      },
      "outputs": [
        {
          "data": {
            "text/html": [
              "<div><style>\n",
              ".dataframe > thead > tr,\n",
              ".dataframe > tbody > tr {\n",
              "  text-align: right;\n",
              "  white-space: pre-wrap;\n",
              "}\n",
              "</style>\n",
              "<small>shape: (1, 8)</small><table border=\"1\" class=\"dataframe\"><thead><tr><th>ip</th><th>timestamp</th><th>request_method</th><th>url</th><th>http_version</th><th>status_code</th><th>size</th><th>user_agent</th></tr><tr><td>f64</td><td>f64</td><td>f64</td><td>f64</td><td>f64</td><td>f64</td><td>f64</td><td>f64</td></tr></thead><tbody><tr><td>0.0</td><td>0.0</td><td>0.223421</td><td>0.0</td><td>0.0</td><td>0.223904</td><td>0.223904</td><td>0.223904</td></tr></tbody></table></div>"
            ],
            "text/plain": [
              "shape: (1, 8)\n",
              "┌─────┬───────────┬────────────────┬─────┬──────────────┬─────────────┬──────────┬────────────┐\n",
              "│ ip  ┆ timestamp ┆ request_method ┆ url ┆ http_version ┆ status_code ┆ size     ┆ user_agent │\n",
              "│ --- ┆ ---       ┆ ---            ┆ --- ┆ ---          ┆ ---         ┆ ---      ┆ ---        │\n",
              "│ f64 ┆ f64       ┆ f64            ┆ f64 ┆ f64          ┆ f64         ┆ f64      ┆ f64        │\n",
              "╞═════╪═══════════╪════════════════╪═════╪══════════════╪═════════════╪══════════╪════════════╡\n",
              "│ 0.0 ┆ 0.0       ┆ 0.223421       ┆ 0.0 ┆ 0.0          ┆ 0.223904    ┆ 0.223904 ┆ 0.223904   │\n",
              "└─────┴───────────┴────────────────┴─────┴──────────────┴─────────────┴──────────┴────────────┘"
            ]
          },
          "execution_count": 31,
          "metadata": {},
          "output_type": "execute_result"
        }
      ],
      "source": [
        "porcentaje_nulos = (cantidad_nulos / total_registros) * 100\n",
        "porcentaje_nulos"
      ]
    },
    {
      "cell_type": "markdown",
      "metadata": {
        "id": "bsABi-G9vzxb"
      },
      "source": [
        "#### Limpieza de nulos\n",
        "Vemos que hay una gran cantidad de celdas con valores en nulo, por lo que vamos a filtrar las filas que tienen valores vacíos en al menos una columna para poder visualizar algunos casos"
      ]
    },
    {
      "cell_type": "code",
      "execution_count": 32,
      "metadata": {
        "colab": {
          "base_uri": "https://localhost:8080/",
          "height": 412
        },
        "id": "sayRovTgvw5d",
        "outputId": "aec8caaa-ae03-488e-e5c2-7f1acde1e943"
      },
      "outputs": [
        {
          "data": {
            "text/html": [
              "<div><style>\n",
              ".dataframe > thead > tr,\n",
              ".dataframe > tbody > tr {\n",
              "  text-align: right;\n",
              "  white-space: pre-wrap;\n",
              "}\n",
              "</style>\n",
              "<small>shape: (10, 8)</small><table border=\"1\" class=\"dataframe\"><thead><tr><th>ip</th><th>timestamp</th><th>request_method</th><th>url</th><th>http_version</th><th>status_code</th><th>size</th><th>user_agent</th></tr><tr><td>str</td><td>str</td><td>str</td><td>str</td><td>str</td><td>i64</td><td>i64</td><td>str</td></tr></thead><tbody><tr><td>&quot;186.49.154.44&quot;</td><td>&quot;02/Jun/2013:16:24:20 -0300&quot;</td><td>null</td><td>&quot;408&quot;</td><td>&quot;0&quot;</td><td>null</td><td>null</td><td>null</td></tr><tr><td>&quot;66.249.82.10&quot;</td><td>&quot;02/Jun/2013:16:42:06 -0300&quot;</td><td>null</td><td>&quot;408&quot;</td><td>&quot;0&quot;</td><td>null</td><td>null</td><td>null</td></tr><tr><td>&quot;186.49.154.44&quot;</td><td>&quot;02/Jun/2013:16:51:04 -0300&quot;</td><td>null</td><td>&quot;408&quot;</td><td>&quot;0&quot;</td><td>null</td><td>null</td><td>null</td></tr><tr><td>&quot;186.49.13.241&quot;</td><td>&quot;02/Jun/2013:17:13:22 -0300&quot;</td><td>null</td><td>&quot;408&quot;</td><td>&quot;0&quot;</td><td>null</td><td>null</td><td>null</td></tr><tr><td>&quot;190.233.189.163&quot;</td><td>&quot;02/Jun/2013:17:59:33 -0300&quot;</td><td>null</td><td>&quot;408&quot;</td><td>&quot;0&quot;</td><td>null</td><td>null</td><td>null</td></tr><tr><td>&quot;190.233.189.163&quot;</td><td>&quot;02/Jun/2013:17:59:34 -0300&quot;</td><td>null</td><td>&quot;408&quot;</td><td>&quot;0&quot;</td><td>null</td><td>null</td><td>null</td></tr><tr><td>&quot;186.54.145.192&quot;</td><td>&quot;02/Jun/2013:18:27:14 -0300&quot;</td><td>null</td><td>&quot;408&quot;</td><td>&quot;0&quot;</td><td>null</td><td>null</td><td>null</td></tr><tr><td>&quot;186.54.145.192&quot;</td><td>&quot;02/Jun/2013:18:27:14 -0300&quot;</td><td>null</td><td>&quot;408&quot;</td><td>&quot;0&quot;</td><td>null</td><td>null</td><td>null</td></tr><tr><td>&quot;186.54.145.192&quot;</td><td>&quot;02/Jun/2013:18:27:15 -0300&quot;</td><td>null</td><td>&quot;408&quot;</td><td>&quot;0&quot;</td><td>null</td><td>null</td><td>null</td></tr><tr><td>&quot;186.54.145.192&quot;</td><td>&quot;02/Jun/2013:18:28:12 -0300&quot;</td><td>null</td><td>&quot;408&quot;</td><td>&quot;0&quot;</td><td>null</td><td>null</td><td>null</td></tr></tbody></table></div>"
            ],
            "text/plain": [
              "shape: (10, 8)\n",
              "┌──────────────┬──────────────┬──────────────┬─────┬─────────────┬─────────────┬──────┬────────────┐\n",
              "│ ip           ┆ timestamp    ┆ request_meth ┆ url ┆ http_versio ┆ status_code ┆ size ┆ user_agent │\n",
              "│ ---          ┆ ---          ┆ od           ┆ --- ┆ n           ┆ ---         ┆ ---  ┆ ---        │\n",
              "│ str          ┆ str          ┆ ---          ┆ str ┆ ---         ┆ i64         ┆ i64  ┆ str        │\n",
              "│              ┆              ┆ str          ┆     ┆ str         ┆             ┆      ┆            │\n",
              "╞══════════════╪══════════════╪══════════════╪═════╪═════════════╪═════════════╪══════╪════════════╡\n",
              "│ 186.49.154.4 ┆ 02/Jun/2013: ┆ null         ┆ 408 ┆ 0           ┆ null        ┆ null ┆ null       │\n",
              "│ 4            ┆ 16:24:20     ┆              ┆     ┆             ┆             ┆      ┆            │\n",
              "│              ┆ -0300        ┆              ┆     ┆             ┆             ┆      ┆            │\n",
              "│ 66.249.82.10 ┆ 02/Jun/2013: ┆ null         ┆ 408 ┆ 0           ┆ null        ┆ null ┆ null       │\n",
              "│              ┆ 16:42:06     ┆              ┆     ┆             ┆             ┆      ┆            │\n",
              "│              ┆ -0300        ┆              ┆     ┆             ┆             ┆      ┆            │\n",
              "│ 186.49.154.4 ┆ 02/Jun/2013: ┆ null         ┆ 408 ┆ 0           ┆ null        ┆ null ┆ null       │\n",
              "│ 4            ┆ 16:51:04     ┆              ┆     ┆             ┆             ┆      ┆            │\n",
              "│              ┆ -0300        ┆              ┆     ┆             ┆             ┆      ┆            │\n",
              "│ 186.49.13.24 ┆ 02/Jun/2013: ┆ null         ┆ 408 ┆ 0           ┆ null        ┆ null ┆ null       │\n",
              "│ 1            ┆ 17:13:22     ┆              ┆     ┆             ┆             ┆      ┆            │\n",
              "│              ┆ -0300        ┆              ┆     ┆             ┆             ┆      ┆            │\n",
              "│ 190.233.189. ┆ 02/Jun/2013: ┆ null         ┆ 408 ┆ 0           ┆ null        ┆ null ┆ null       │\n",
              "│ 163          ┆ 17:59:33     ┆              ┆     ┆             ┆             ┆      ┆            │\n",
              "│              ┆ -0300        ┆              ┆     ┆             ┆             ┆      ┆            │\n",
              "│ 190.233.189. ┆ 02/Jun/2013: ┆ null         ┆ 408 ┆ 0           ┆ null        ┆ null ┆ null       │\n",
              "│ 163          ┆ 17:59:34     ┆              ┆     ┆             ┆             ┆      ┆            │\n",
              "│              ┆ -0300        ┆              ┆     ┆             ┆             ┆      ┆            │\n",
              "│ 186.54.145.1 ┆ 02/Jun/2013: ┆ null         ┆ 408 ┆ 0           ┆ null        ┆ null ┆ null       │\n",
              "│ 92           ┆ 18:27:14     ┆              ┆     ┆             ┆             ┆      ┆            │\n",
              "│              ┆ -0300        ┆              ┆     ┆             ┆             ┆      ┆            │\n",
              "│ 186.54.145.1 ┆ 02/Jun/2013: ┆ null         ┆ 408 ┆ 0           ┆ null        ┆ null ┆ null       │\n",
              "│ 92           ┆ 18:27:14     ┆              ┆     ┆             ┆             ┆      ┆            │\n",
              "│              ┆ -0300        ┆              ┆     ┆             ┆             ┆      ┆            │\n",
              "│ 186.54.145.1 ┆ 02/Jun/2013: ┆ null         ┆ 408 ┆ 0           ┆ null        ┆ null ┆ null       │\n",
              "│ 92           ┆ 18:27:15     ┆              ┆     ┆             ┆             ┆      ┆            │\n",
              "│              ┆ -0300        ┆              ┆     ┆             ┆             ┆      ┆            │\n",
              "│ 186.54.145.1 ┆ 02/Jun/2013: ┆ null         ┆ 408 ┆ 0           ┆ null        ┆ null ┆ null       │\n",
              "│ 92           ┆ 18:28:12     ┆              ┆     ┆             ┆             ┆      ┆            │\n",
              "│              ┆ -0300        ┆              ┆     ┆             ┆             ┆      ┆            │\n",
              "└──────────────┴──────────────┴──────────────┴─────┴─────────────┴─────────────┴──────┴────────────┘"
            ]
          },
          "execution_count": 32,
          "metadata": {},
          "output_type": "execute_result"
        }
      ],
      "source": [
        "from functools import reduce\n",
        "\n",
        "mask = reduce(lambda a, b: a | b, [df[col].is_null() for col in df.columns])\n",
        "rows_con_nulos = df.filter(mask)\n",
        "rows_con_nulos.head(10)"
      ]
    },
    {
      "cell_type": "markdown",
      "metadata": {
        "id": "8NFIBOGd3tMY"
      },
      "source": [
        "Encontramos algo que nos llama la atención y es que están apareciendo algunos status code dentro de la columna de urls, lo podemos verificar con la siguiente consulta:"
      ]
    },
    {
      "cell_type": "code",
      "execution_count": 33,
      "metadata": {
        "colab": {
          "base_uri": "https://localhost:8080/"
        },
        "id": "90S2eN5-30nN",
        "outputId": "a671cf26-8da9-4c62-b3bf-70e20f695667"
      },
      "outputs": [
        {
          "name": "stdout",
          "output_type": "stream",
          "text": [
            "shape: (28_677, 1)\n",
            "┌─────────────────────────────────┐\n",
            "│ url                             │\n",
            "│ ---                             │\n",
            "│ str                             │\n",
            "╞═════════════════════════════════╡\n",
            "│ http://www.sina.com.cn/         │\n",
            "│ 408                             │\n",
            "│ 200                             │\n",
            "│ /wp-content/themes/Bold/timthu… │\n",
            "│ /wp-conf.php                    │\n",
            "│ …                               │\n",
            "│ //modules/mod_btslideshow/imag… │\n",
            "│ //admin/tting.php               │\n",
            "│ /%7Bphocagallery%20view=catego… │\n",
            "│ /                               │\n",
            "│ *                               │\n",
            "└─────────────────────────────────┘\n"
          ]
        }
      ],
      "source": [
        "unique_status = df.select(\"url\").unique()\n",
        "print(unique_status.sort(\"url\", descending=True))"
      ]
    },
    {
      "cell_type": "markdown",
      "metadata": {
        "id": "6USnmdth3_FU"
      },
      "source": [
        "Vamos a filtrar las filas que contienen códigos de estado en la columna `url` para que que valores tienen esas filas"
      ]
    },
    {
      "cell_type": "code",
      "execution_count": 34,
      "metadata": {
        "colab": {
          "base_uri": "https://localhost:8080/"
        },
        "id": "mq7a-ZG0zcfU",
        "outputId": "58cdf6c9-e7cd-48f1-bd57-d96aa22e8a6a"
      },
      "outputs": [
        {
          "name": "stdout",
          "output_type": "stream",
          "text": [
            "shape: (464, 8)\n",
            "┌──────────────┬──────────────┬──────────────┬─────┬─────────────┬─────────────┬──────┬────────────┐\n",
            "│ ip           ┆ timestamp    ┆ request_meth ┆ url ┆ http_versio ┆ status_code ┆ size ┆ user_agent │\n",
            "│ ---          ┆ ---          ┆ od           ┆ --- ┆ n           ┆ ---         ┆ ---  ┆ ---        │\n",
            "│ str          ┆ str          ┆ ---          ┆ str ┆ ---         ┆ i64         ┆ i64  ┆ str        │\n",
            "│              ┆              ┆ str          ┆     ┆ str         ┆             ┆      ┆            │\n",
            "╞══════════════╪══════════════╪══════════════╪═════╪═════════════╪═════════════╪══════╪════════════╡\n",
            "│ 186.49.154.4 ┆ 02/Jun/2013: ┆ null         ┆ 408 ┆ 0           ┆ null        ┆ null ┆ null       │\n",
            "│ 4            ┆ 16:24:20     ┆              ┆     ┆             ┆             ┆      ┆            │\n",
            "│              ┆ -0300        ┆              ┆     ┆             ┆             ┆      ┆            │\n",
            "│ 66.249.82.10 ┆ 02/Jun/2013: ┆ null         ┆ 408 ┆ 0           ┆ null        ┆ null ┆ null       │\n",
            "│              ┆ 16:42:06     ┆              ┆     ┆             ┆             ┆      ┆            │\n",
            "│              ┆ -0300        ┆              ┆     ┆             ┆             ┆      ┆            │\n",
            "│ 186.49.154.4 ┆ 02/Jun/2013: ┆ null         ┆ 408 ┆ 0           ┆ null        ┆ null ┆ null       │\n",
            "│ 4            ┆ 16:51:04     ┆              ┆     ┆             ┆             ┆      ┆            │\n",
            "│              ┆ -0300        ┆              ┆     ┆             ┆             ┆      ┆            │\n",
            "│ 186.49.13.24 ┆ 02/Jun/2013: ┆ null         ┆ 408 ┆ 0           ┆ null        ┆ null ┆ null       │\n",
            "│ 1            ┆ 17:13:22     ┆              ┆     ┆             ┆             ┆      ┆            │\n",
            "│              ┆ -0300        ┆              ┆     ┆             ┆             ┆      ┆            │\n",
            "│ 190.233.189. ┆ 02/Jun/2013: ┆ null         ┆ 408 ┆ 0           ┆ null        ┆ null ┆ null       │\n",
            "│ 163          ┆ 17:59:33     ┆              ┆     ┆             ┆             ┆      ┆            │\n",
            "│              ┆ -0300        ┆              ┆     ┆             ┆             ┆      ┆            │\n",
            "│ …            ┆ …            ┆ …            ┆ …   ┆ …           ┆ …           ┆ …    ┆ …          │\n",
            "│ 83.35.92.60  ┆ 08/Jun/2013: ┆ null         ┆ 408 ┆ 0           ┆ null        ┆ null ┆ null       │\n",
            "│              ┆ 18:43:11     ┆              ┆     ┆             ┆             ┆      ┆            │\n",
            "│              ┆ -0300        ┆              ┆     ┆             ┆             ┆      ┆            │\n",
            "│ 83.35.92.60  ┆ 08/Jun/2013: ┆ null         ┆ 408 ┆ 0           ┆ null        ┆ null ┆ null       │\n",
            "│              ┆ 18:43:11     ┆              ┆     ┆             ┆             ┆      ┆            │\n",
            "│              ┆ -0300        ┆              ┆     ┆             ┆             ┆      ┆            │\n",
            "│ 190.19.162.9 ┆ 08/Jun/2013: ┆ null         ┆ 408 ┆ 0           ┆ null        ┆ null ┆ null       │\n",
            "│              ┆ 22:03:28     ┆              ┆     ┆             ┆             ┆      ┆            │\n",
            "│              ┆ -0300        ┆              ┆     ┆             ┆             ┆      ┆            │\n",
            "│ 190.19.162.9 ┆ 08/Jun/2013: ┆ null         ┆ 408 ┆ 0           ┆ null        ┆ null ┆ null       │\n",
            "│              ┆ 22:03:28     ┆              ┆     ┆             ┆             ┆      ┆            │\n",
            "│              ┆ -0300        ┆              ┆     ┆             ┆             ┆      ┆            │\n",
            "│ 190.135.92.2 ┆ 09/Jun/2013: ┆ null         ┆ 408 ┆ 0           ┆ null        ┆ null ┆ null       │\n",
            "│ 04           ┆ 01:47:20     ┆              ┆     ┆             ┆             ┆      ┆            │\n",
            "│              ┆ -0300        ┆              ┆     ┆             ┆             ┆      ┆            │\n",
            "└──────────────┴──────────────┴──────────────┴─────┴─────────────┴─────────────┴──────┴────────────┘\n"
          ]
        }
      ],
      "source": [
        "status_codes = [\"200\",\"408\"]\n",
        "urls_with_status_codes = df.filter(pl.col(\"url\").is_in(status_codes))\n",
        "\n",
        "print(urls_with_status_codes)"
      ]
    },
    {
      "cell_type": "markdown",
      "metadata": {
        "id": "wBtfN2J1zTxk"
      },
      "source": [
        "Investigando los casos null en profundidad nos encontramos con que son casos borde. Los de status 200 son casos con datos no legibles o anómalos y los de status 408 parecen ser una solicitud incompleta o malformada debido a un timeout en la solicitud, problemas de parte del cliente o error de red o conexión.\n",
        "\n",
        "Este tipo de entradas en los logs a menudo se descartan en análisis de tráfico web ya que no proporcionan datos útiles sobre las solicitudes válidas. Sin embargo, pueden ser útiles para detectar problemas de red o errores en los clientes.\n",
        "\n",
        "Por lo que vamos a filtrar las filas donde la columna `url` contenga los valores `200` o `408`"
      ]
    },
    {
      "cell_type": "code",
      "execution_count": 35,
      "metadata": {
        "colab": {
          "base_uri": "https://localhost:8080/"
        },
        "id": "XPeRsiNCIPEV",
        "outputId": "df768e3d-409f-45cf-fa86-0155dc4ed688"
      },
      "outputs": [
        {
          "name": "stdout",
          "output_type": "stream",
          "text": [
            "shape: (203_725, 8)\n",
            "┌─────────────┬────────────┬────────────┬────────────┬────────────┬────────────┬──────┬────────────┐\n",
            "│ ip          ┆ timestamp  ┆ request_me ┆ url        ┆ http_versi ┆ status_cod ┆ size ┆ user_agent │\n",
            "│ ---         ┆ ---        ┆ thod       ┆ ---        ┆ on         ┆ e          ┆ ---  ┆ ---        │\n",
            "│ str         ┆ str        ┆ ---        ┆ str        ┆ ---        ┆ ---        ┆ i64  ┆ str        │\n",
            "│             ┆            ┆ str        ┆            ┆ str        ┆ i64        ┆      ┆            │\n",
            "╞═════════════╪════════════╪════════════╪════════════╪════════════╪════════════╪══════╪════════════╡\n",
            "│ 127.0.0.1   ┆ 02/Jun/201 ┆ OPTIONS    ┆ *          ┆ HTTP/1.0   ┆ 200        ┆ 167  ┆ Apache/2.2 │\n",
            "│             ┆ 3:06:48:17 ┆            ┆            ┆            ┆            ┆      ┆ .14        │\n",
            "│             ┆ -0300      ┆            ┆            ┆            ┆            ┆      ┆ (Ubuntu)   │\n",
            "│             ┆            ┆            ┆            ┆            ┆            ┆      ┆ (intern…   │\n",
            "│ 127.0.0.1   ┆ 02/Jun/201 ┆ OPTIONS    ┆ *          ┆ HTTP/1.0   ┆ 200        ┆ 167  ┆ Apache/2.2 │\n",
            "│             ┆ 3:06:48:17 ┆            ┆            ┆            ┆            ┆      ┆ .14        │\n",
            "│             ┆ -0300      ┆            ┆            ┆            ┆            ┆      ┆ (Ubuntu)   │\n",
            "│             ┆            ┆            ┆            ┆            ┆            ┆      ┆ (intern…   │\n",
            "│ 127.0.0.1   ┆ 02/Jun/201 ┆ OPTIONS    ┆ *          ┆ HTTP/1.0   ┆ 200        ┆ 167  ┆ Apache/2.2 │\n",
            "│             ┆ 3:06:48:17 ┆            ┆            ┆            ┆            ┆      ┆ .14        │\n",
            "│             ┆ -0300      ┆            ┆            ┆            ┆            ┆      ┆ (Ubuntu)   │\n",
            "│             ┆            ┆            ┆            ┆            ┆            ┆      ┆ (intern…   │\n",
            "│ 180.76.5.15 ┆ 02/Jun/201 ┆ GET        ┆ /index.php ┆ HTTP/1.1   ┆ 200        ┆ 8842 ┆ Mozilla/5. │\n",
            "│ 0           ┆ 3:06:49:39 ┆            ┆ /component ┆            ┆            ┆      ┆ 0 (compati │\n",
            "│             ┆ -0300      ┆            ┆ /jevents/s ┆            ┆            ┆      ┆ ble;       │\n",
            "│             ┆            ┆            ┆ …          ┆            ┆            ┆      ┆ Baidu…     │\n",
            "│ 190.64.2.16 ┆ 02/Jun/201 ┆ GET        ┆ /robots.tx ┆ HTTP/1.0   ┆ 200        ┆ 718  ┆ agesic-cra │\n",
            "│ 2           ┆ 3:06:51:40 ┆            ┆ t          ┆            ┆            ┆      ┆ wler (Ente │\n",
            "│             ┆ -0300      ┆            ┆            ┆            ┆            ┆      ┆ rprise;    │\n",
            "│             ┆            ┆            ┆            ┆            ┆            ┆      ┆ T3…        │\n",
            "│ …           ┆ …          ┆ …          ┆ …          ┆ …          ┆ …          ┆ …    ┆ …          │\n",
            "│ 127.0.0.1   ┆ 09/Jun/201 ┆ OPTIONS    ┆ *          ┆ HTTP/1.0   ┆ 200        ┆ 167  ┆ Apache/2.2 │\n",
            "│             ┆ 3:06:43:46 ┆            ┆            ┆            ┆            ┆      ┆ .14        │\n",
            "│             ┆ -0300      ┆            ┆            ┆            ┆            ┆      ┆ (Ubuntu)   │\n",
            "│             ┆            ┆            ┆            ┆            ┆            ┆      ┆ (intern…   │\n",
            "│ 127.0.0.1   ┆ 09/Jun/201 ┆ OPTIONS    ┆ *          ┆ HTTP/1.0   ┆ 200        ┆ 167  ┆ Apache/2.2 │\n",
            "│             ┆ 3:06:43:46 ┆            ┆            ┆            ┆            ┆      ┆ .14        │\n",
            "│             ┆ -0300      ┆            ┆            ┆            ┆            ┆      ┆ (Ubuntu)   │\n",
            "│             ┆            ┆            ┆            ┆            ┆            ┆      ┆ (intern…   │\n",
            "│ 127.0.0.1   ┆ 09/Jun/201 ┆ OPTIONS    ┆ *          ┆ HTTP/1.0   ┆ 200        ┆ 167  ┆ Apache/2.2 │\n",
            "│             ┆ 3:06:43:46 ┆            ┆            ┆            ┆            ┆      ┆ .14        │\n",
            "│             ┆ -0300      ┆            ┆            ┆            ┆            ┆      ┆ (Ubuntu)   │\n",
            "│             ┆            ┆            ┆            ┆            ┆            ┆      ┆ (intern…   │\n",
            "│ 127.0.0.1   ┆ 09/Jun/201 ┆ OPTIONS    ┆ *          ┆ HTTP/1.0   ┆ 200        ┆ 167  ┆ Apache/2.2 │\n",
            "│             ┆ 3:06:43:46 ┆            ┆            ┆            ┆            ┆      ┆ .14        │\n",
            "│             ┆ -0300      ┆            ┆            ┆            ┆            ┆      ┆ (Ubuntu)   │\n",
            "│             ┆            ┆            ┆            ┆            ┆            ┆      ┆ (intern…   │\n",
            "│ 190.64.2.16 ┆ 09/Jun/201 ┆ GET        ┆ /index.php ┆ HTTP/1.0   ┆ 200        ┆ 9788 ┆ agesic-cra │\n",
            "│ 2           ┆ 3:06:43:46 ┆            ┆ /instituci ┆            ┆            ┆      ┆ wler (Ente │\n",
            "│             ┆ -0300      ┆            ┆ on/organig ┆            ┆            ┆      ┆ rprise;    │\n",
            "│             ┆            ┆            ┆ …          ┆            ┆            ┆      ┆ T2…        │\n",
            "└─────────────┴────────────┴────────────┴────────────┴────────────┴────────────┴──────┴────────────┘\n"
          ]
        }
      ],
      "source": [
        "df_sin_nulos = df.filter(\n",
        "    ~pl.col(\"url\").str.contains('200') & ~pl.col(\"url\").str.contains('408')\n",
        ")\n",
        "\n",
        "print(df_sin_nulos)\n",
        "df_sin_nulos.write_csv(\"log_sin_nulos.csv\")"
      ]
    },
    {
      "cell_type": "markdown",
      "metadata": {
        "id": "Q4lD86fjTMaj"
      },
      "source": [
        "Verificamos que ya no hayan más casos de datos nulos"
      ]
    },
    {
      "cell_type": "code",
      "execution_count": 36,
      "metadata": {
        "colab": {
          "base_uri": "https://localhost:8080/",
          "height": 129
        },
        "id": "9BjTzPYZTHlo",
        "outputId": "7e26a73b-8010-4490-a40f-5d6b0655ae17"
      },
      "outputs": [
        {
          "data": {
            "text/html": [
              "<div><style>\n",
              ".dataframe > thead > tr,\n",
              ".dataframe > tbody > tr {\n",
              "  text-align: right;\n",
              "  white-space: pre-wrap;\n",
              "}\n",
              "</style>\n",
              "<small>shape: (1, 8)</small><table border=\"1\" class=\"dataframe\"><thead><tr><th>ip</th><th>timestamp</th><th>request_method</th><th>url</th><th>http_version</th><th>status_code</th><th>size</th><th>user_agent</th></tr><tr><td>u32</td><td>u32</td><td>u32</td><td>u32</td><td>u32</td><td>u32</td><td>u32</td><td>u32</td></tr></thead><tbody><tr><td>0</td><td>0</td><td>0</td><td>0</td><td>0</td><td>0</td><td>0</td><td>0</td></tr></tbody></table></div>"
            ],
            "text/plain": [
              "shape: (1, 8)\n",
              "┌─────┬───────────┬────────────────┬─────┬──────────────┬─────────────┬──────┬────────────┐\n",
              "│ ip  ┆ timestamp ┆ request_method ┆ url ┆ http_version ┆ status_code ┆ size ┆ user_agent │\n",
              "│ --- ┆ ---       ┆ ---            ┆ --- ┆ ---          ┆ ---         ┆ ---  ┆ ---        │\n",
              "│ u32 ┆ u32       ┆ u32            ┆ u32 ┆ u32          ┆ u32         ┆ u32  ┆ u32        │\n",
              "╞═════╪═══════════╪════════════════╪═════╪══════════════╪═════════════╪══════╪════════════╡\n",
              "│ 0   ┆ 0         ┆ 0              ┆ 0   ┆ 0            ┆ 0           ┆ 0    ┆ 0          │\n",
              "└─────┴───────────┴────────────────┴─────┴──────────────┴─────────────┴──────┴────────────┘"
            ]
          },
          "execution_count": 36,
          "metadata": {},
          "output_type": "execute_result"
        }
      ],
      "source": [
        "cantidad_nulos = df_sin_nulos.null_count()\n",
        "cantidad_nulos"
      ]
    },
    {
      "cell_type": "markdown",
      "metadata": {
        "id": "KhbxLWYQdoBY"
      },
      "source": [
        "#### Limpieza de peticiones internas\n",
        "\n",
        "Es común que el servidor web realice solicitudes internas a sí mismo para verificar su configuración, comprobar capacidades o realizar tareas de mantenimiento. El uso de * en las solicitudes OPTIONS puede estar asociado con estas operaciones internas.\n",
        "\n",
        "La URL * en este contexto se refiere a una solicitud genérica que no está dirigida a una URL específica. En el caso de los métodos OPTIONS, * puede estar siendo usado para indicar que la solicitud no está dirigida a un recurso específico o es un marcador de posición para una solicitud interna del servidor.\n",
        "\n",
        "Dado que las solicitudes provienen de 127.0.0.1 (localhost), parece que estas solicitudes son internas, probablemente generadas por el propio servidor para comprobar su configuración o para otros fines administrativos\n",
        "\n",
        "Antes de eliminar esos registros, veamos cuántas peticiones internas hay en el dataset y qué porcentaje representan sobre la cantidad total de peticiones con los registros nulos ya filtrados."
      ]
    },
    {
      "cell_type": "code",
      "execution_count": 37,
      "metadata": {
        "colab": {
          "base_uri": "https://localhost:8080/"
        },
        "id": "rAZB8FU3xUc2",
        "outputId": "ce0b4329-32dc-48c1-bbbc-e424c98a9d6f"
      },
      "outputs": [
        {
          "name": "stdout",
          "output_type": "stream",
          "text": [
            "Cantidad de peticiones internas: 5386\n",
            "Cantidad de registros (sin nulos): 203725\n",
            "Porcentaje de peticiones internas: 2.64%\n"
          ]
        }
      ],
      "source": [
        "peticiones_internas = df_sin_nulos.filter(\n",
        "    (pl.col(\"ip\") == \"127.0.0.1\") &\n",
        "    (pl.col(\"request_method\") == \"OPTIONS\") &\n",
        "    (pl.col(\"url\") == \"*\")\n",
        ")\n",
        "\n",
        "cantidad_peticiones_internas = peticiones_internas.shape[0]\n",
        "total_registros = df_sin_nulos.shape[0]\n",
        "porcentaje_peticiones_internas = (cantidad_peticiones_internas / total_registros) * 100\n",
        "\n",
        "print(f\"Cantidad de peticiones internas: {cantidad_peticiones_internas}\")\n",
        "print(f\"Cantidad de registros (sin nulos): {total_registros}\")\n",
        "print(f\"Porcentaje de peticiones internas: {porcentaje_peticiones_internas:.2f}%\")"
      ]
    },
    {
      "cell_type": "code",
      "execution_count": 38,
      "metadata": {
        "colab": {
          "base_uri": "https://localhost:8080/",
          "height": 443
        },
        "id": "iliCe-7f3IJQ",
        "outputId": "ad76e998-8f57-4252-e901-6b6de57f62ce"
      },
      "outputs": [
        {
          "data": {
            "text/html": [
              "<div><style>\n",
              ".dataframe > thead > tr,\n",
              ".dataframe > tbody > tr {\n",
              "  text-align: right;\n",
              "  white-space: pre-wrap;\n",
              "}\n",
              "</style>\n",
              "<small>shape: (203_725, 8)</small><table border=\"1\" class=\"dataframe\"><thead><tr><th>ip</th><th>timestamp</th><th>request_method</th><th>url</th><th>http_version</th><th>status_code</th><th>size</th><th>user_agent</th></tr><tr><td>str</td><td>str</td><td>str</td><td>str</td><td>str</td><td>i64</td><td>i64</td><td>str</td></tr></thead><tbody><tr><td>&quot;127.0.0.1&quot;</td><td>&quot;02/Jun/2013:06:48:17 -0300&quot;</td><td>&quot;OPTIONS&quot;</td><td>&quot;*&quot;</td><td>&quot;HTTP/1.0&quot;</td><td>200</td><td>167</td><td>&quot;Apache/2.2.14 (Ubuntu) (intern…</td></tr><tr><td>&quot;127.0.0.1&quot;</td><td>&quot;02/Jun/2013:06:48:17 -0300&quot;</td><td>&quot;OPTIONS&quot;</td><td>&quot;*&quot;</td><td>&quot;HTTP/1.0&quot;</td><td>200</td><td>167</td><td>&quot;Apache/2.2.14 (Ubuntu) (intern…</td></tr><tr><td>&quot;127.0.0.1&quot;</td><td>&quot;02/Jun/2013:06:48:17 -0300&quot;</td><td>&quot;OPTIONS&quot;</td><td>&quot;*&quot;</td><td>&quot;HTTP/1.0&quot;</td><td>200</td><td>167</td><td>&quot;Apache/2.2.14 (Ubuntu) (intern…</td></tr><tr><td>&quot;180.76.5.150&quot;</td><td>&quot;02/Jun/2013:06:49:39 -0300&quot;</td><td>&quot;GET&quot;</td><td>&quot;/index.php/component/jevents/s…</td><td>&quot;HTTP/1.1&quot;</td><td>200</td><td>8842</td><td>&quot;Mozilla/5.0 (compatible; Baidu…</td></tr><tr><td>&quot;190.64.2.162&quot;</td><td>&quot;02/Jun/2013:06:51:40 -0300&quot;</td><td>&quot;GET&quot;</td><td>&quot;/robots.txt&quot;</td><td>&quot;HTTP/1.0&quot;</td><td>200</td><td>718</td><td>&quot;agesic-crawler (Enterprise; T3…</td></tr><tr><td>&hellip;</td><td>&hellip;</td><td>&hellip;</td><td>&hellip;</td><td>&hellip;</td><td>&hellip;</td><td>&hellip;</td><td>&hellip;</td></tr><tr><td>&quot;127.0.0.1&quot;</td><td>&quot;09/Jun/2013:06:43:46 -0300&quot;</td><td>&quot;OPTIONS&quot;</td><td>&quot;*&quot;</td><td>&quot;HTTP/1.0&quot;</td><td>200</td><td>167</td><td>&quot;Apache/2.2.14 (Ubuntu) (intern…</td></tr><tr><td>&quot;127.0.0.1&quot;</td><td>&quot;09/Jun/2013:06:43:46 -0300&quot;</td><td>&quot;OPTIONS&quot;</td><td>&quot;*&quot;</td><td>&quot;HTTP/1.0&quot;</td><td>200</td><td>167</td><td>&quot;Apache/2.2.14 (Ubuntu) (intern…</td></tr><tr><td>&quot;127.0.0.1&quot;</td><td>&quot;09/Jun/2013:06:43:46 -0300&quot;</td><td>&quot;OPTIONS&quot;</td><td>&quot;*&quot;</td><td>&quot;HTTP/1.0&quot;</td><td>200</td><td>167</td><td>&quot;Apache/2.2.14 (Ubuntu) (intern…</td></tr><tr><td>&quot;127.0.0.1&quot;</td><td>&quot;09/Jun/2013:06:43:46 -0300&quot;</td><td>&quot;OPTIONS&quot;</td><td>&quot;*&quot;</td><td>&quot;HTTP/1.0&quot;</td><td>200</td><td>167</td><td>&quot;Apache/2.2.14 (Ubuntu) (intern…</td></tr><tr><td>&quot;190.64.2.162&quot;</td><td>&quot;09/Jun/2013:06:43:46 -0300&quot;</td><td>&quot;GET&quot;</td><td>&quot;/index.php/institucion/organig…</td><td>&quot;HTTP/1.0&quot;</td><td>200</td><td>9788</td><td>&quot;agesic-crawler (Enterprise; T2…</td></tr></tbody></table></div>"
            ],
            "text/plain": [
              "shape: (203_725, 8)\n",
              "┌─────────────┬────────────┬────────────┬────────────┬────────────┬────────────┬──────┬────────────┐\n",
              "│ ip          ┆ timestamp  ┆ request_me ┆ url        ┆ http_versi ┆ status_cod ┆ size ┆ user_agent │\n",
              "│ ---         ┆ ---        ┆ thod       ┆ ---        ┆ on         ┆ e          ┆ ---  ┆ ---        │\n",
              "│ str         ┆ str        ┆ ---        ┆ str        ┆ ---        ┆ ---        ┆ i64  ┆ str        │\n",
              "│             ┆            ┆ str        ┆            ┆ str        ┆ i64        ┆      ┆            │\n",
              "╞═════════════╪════════════╪════════════╪════════════╪════════════╪════════════╪══════╪════════════╡\n",
              "│ 127.0.0.1   ┆ 02/Jun/201 ┆ OPTIONS    ┆ *          ┆ HTTP/1.0   ┆ 200        ┆ 167  ┆ Apache/2.2 │\n",
              "│             ┆ 3:06:48:17 ┆            ┆            ┆            ┆            ┆      ┆ .14        │\n",
              "│             ┆ -0300      ┆            ┆            ┆            ┆            ┆      ┆ (Ubuntu)   │\n",
              "│             ┆            ┆            ┆            ┆            ┆            ┆      ┆ (intern…   │\n",
              "│ 127.0.0.1   ┆ 02/Jun/201 ┆ OPTIONS    ┆ *          ┆ HTTP/1.0   ┆ 200        ┆ 167  ┆ Apache/2.2 │\n",
              "│             ┆ 3:06:48:17 ┆            ┆            ┆            ┆            ┆      ┆ .14        │\n",
              "│             ┆ -0300      ┆            ┆            ┆            ┆            ┆      ┆ (Ubuntu)   │\n",
              "│             ┆            ┆            ┆            ┆            ┆            ┆      ┆ (intern…   │\n",
              "│ 127.0.0.1   ┆ 02/Jun/201 ┆ OPTIONS    ┆ *          ┆ HTTP/1.0   ┆ 200        ┆ 167  ┆ Apache/2.2 │\n",
              "│             ┆ 3:06:48:17 ┆            ┆            ┆            ┆            ┆      ┆ .14        │\n",
              "│             ┆ -0300      ┆            ┆            ┆            ┆            ┆      ┆ (Ubuntu)   │\n",
              "│             ┆            ┆            ┆            ┆            ┆            ┆      ┆ (intern…   │\n",
              "│ 180.76.5.15 ┆ 02/Jun/201 ┆ GET        ┆ /index.php ┆ HTTP/1.1   ┆ 200        ┆ 8842 ┆ Mozilla/5. │\n",
              "│ 0           ┆ 3:06:49:39 ┆            ┆ /component ┆            ┆            ┆      ┆ 0 (compati │\n",
              "│             ┆ -0300      ┆            ┆ /jevents/s ┆            ┆            ┆      ┆ ble;       │\n",
              "│             ┆            ┆            ┆ …          ┆            ┆            ┆      ┆ Baidu…     │\n",
              "│ 190.64.2.16 ┆ 02/Jun/201 ┆ GET        ┆ /robots.tx ┆ HTTP/1.0   ┆ 200        ┆ 718  ┆ agesic-cra │\n",
              "│ 2           ┆ 3:06:51:40 ┆            ┆ t          ┆            ┆            ┆      ┆ wler (Ente │\n",
              "│             ┆ -0300      ┆            ┆            ┆            ┆            ┆      ┆ rprise;    │\n",
              "│             ┆            ┆            ┆            ┆            ┆            ┆      ┆ T3…        │\n",
              "│ …           ┆ …          ┆ …          ┆ …          ┆ …          ┆ …          ┆ …    ┆ …          │\n",
              "│ 127.0.0.1   ┆ 09/Jun/201 ┆ OPTIONS    ┆ *          ┆ HTTP/1.0   ┆ 200        ┆ 167  ┆ Apache/2.2 │\n",
              "│             ┆ 3:06:43:46 ┆            ┆            ┆            ┆            ┆      ┆ .14        │\n",
              "│             ┆ -0300      ┆            ┆            ┆            ┆            ┆      ┆ (Ubuntu)   │\n",
              "│             ┆            ┆            ┆            ┆            ┆            ┆      ┆ (intern…   │\n",
              "│ 127.0.0.1   ┆ 09/Jun/201 ┆ OPTIONS    ┆ *          ┆ HTTP/1.0   ┆ 200        ┆ 167  ┆ Apache/2.2 │\n",
              "│             ┆ 3:06:43:46 ┆            ┆            ┆            ┆            ┆      ┆ .14        │\n",
              "│             ┆ -0300      ┆            ┆            ┆            ┆            ┆      ┆ (Ubuntu)   │\n",
              "│             ┆            ┆            ┆            ┆            ┆            ┆      ┆ (intern…   │\n",
              "│ 127.0.0.1   ┆ 09/Jun/201 ┆ OPTIONS    ┆ *          ┆ HTTP/1.0   ┆ 200        ┆ 167  ┆ Apache/2.2 │\n",
              "│             ┆ 3:06:43:46 ┆            ┆            ┆            ┆            ┆      ┆ .14        │\n",
              "│             ┆ -0300      ┆            ┆            ┆            ┆            ┆      ┆ (Ubuntu)   │\n",
              "│             ┆            ┆            ┆            ┆            ┆            ┆      ┆ (intern…   │\n",
              "│ 127.0.0.1   ┆ 09/Jun/201 ┆ OPTIONS    ┆ *          ┆ HTTP/1.0   ┆ 200        ┆ 167  ┆ Apache/2.2 │\n",
              "│             ┆ 3:06:43:46 ┆            ┆            ┆            ┆            ┆      ┆ .14        │\n",
              "│             ┆ -0300      ┆            ┆            ┆            ┆            ┆      ┆ (Ubuntu)   │\n",
              "│             ┆            ┆            ┆            ┆            ┆            ┆      ┆ (intern…   │\n",
              "│ 190.64.2.16 ┆ 09/Jun/201 ┆ GET        ┆ /index.php ┆ HTTP/1.0   ┆ 200        ┆ 9788 ┆ agesic-cra │\n",
              "│ 2           ┆ 3:06:43:46 ┆            ┆ /instituci ┆            ┆            ┆      ┆ wler (Ente │\n",
              "│             ┆ -0300      ┆            ┆ on/organig ┆            ┆            ┆      ┆ rprise;    │\n",
              "│             ┆            ┆            ┆ …          ┆            ┆            ┆      ┆ T2…        │\n",
              "└─────────────┴────────────┴────────────┴────────────┴────────────┴────────────┴──────┴────────────┘"
            ]
          },
          "execution_count": 38,
          "metadata": {},
          "output_type": "execute_result"
        }
      ],
      "source": [
        "df_sin_nulos"
      ]
    },
    {
      "cell_type": "code",
      "execution_count": 39,
      "metadata": {
        "colab": {
          "base_uri": "https://localhost:8080/",
          "height": 412
        },
        "id": "4TP1-mQAdyut",
        "outputId": "74bbe8ab-7b7a-45f4-fdcf-70361734b8b1"
      },
      "outputs": [
        {
          "data": {
            "text/html": [
              "<div><style>\n",
              ".dataframe > thead > tr,\n",
              ".dataframe > tbody > tr {\n",
              "  text-align: right;\n",
              "  white-space: pre-wrap;\n",
              "}\n",
              "</style>\n",
              "<small>shape: (10, 8)</small><table border=\"1\" class=\"dataframe\"><thead><tr><th>ip</th><th>timestamp</th><th>request_method</th><th>url</th><th>http_version</th><th>status_code</th><th>size</th><th>user_agent</th></tr><tr><td>str</td><td>str</td><td>str</td><td>str</td><td>str</td><td>i64</td><td>i64</td><td>str</td></tr></thead><tbody><tr><td>&quot;180.76.5.150&quot;</td><td>&quot;02/Jun/2013:06:49:39 -0300&quot;</td><td>&quot;GET&quot;</td><td>&quot;/index.php/component/jevents/s…</td><td>&quot;HTTP/1.1&quot;</td><td>200</td><td>8842</td><td>&quot;Mozilla/5.0 (compatible; Baidu…</td></tr><tr><td>&quot;190.64.2.162&quot;</td><td>&quot;02/Jun/2013:06:51:40 -0300&quot;</td><td>&quot;GET&quot;</td><td>&quot;/robots.txt&quot;</td><td>&quot;HTTP/1.0&quot;</td><td>200</td><td>718</td><td>&quot;agesic-crawler (Enterprise; T3…</td></tr><tr><td>&quot;190.64.2.162&quot;</td><td>&quot;02/Jun/2013:06:51:40 -0300&quot;</td><td>&quot;GET&quot;</td><td>&quot;/index.php/component/jevents/m…</td><td>&quot;HTTP/1.0&quot;</td><td>200</td><td>9471</td><td>&quot;agesic-crawler (Enterprise; T3…</td></tr><tr><td>&quot;190.64.2.162&quot;</td><td>&quot;02/Jun/2013:06:51:42 -0300&quot;</td><td>&quot;GET&quot;</td><td>&quot;/robots.txt&quot;</td><td>&quot;HTTP/1.0&quot;</td><td>200</td><td>718</td><td>&quot;agesic-crawler (Enterprise; T3…</td></tr><tr><td>&quot;190.64.2.162&quot;</td><td>&quot;02/Jun/2013:06:51:42 -0300&quot;</td><td>&quot;GET&quot;</td><td>&quot;/index.php/component/jevents/m…</td><td>&quot;HTTP/1.0&quot;</td><td>200</td><td>9518</td><td>&quot;agesic-crawler (Enterprise; T3…</td></tr><tr><td>&quot;190.64.2.162&quot;</td><td>&quot;02/Jun/2013:06:51:44 -0300&quot;</td><td>&quot;GET&quot;</td><td>&quot;/robots.txt&quot;</td><td>&quot;HTTP/1.0&quot;</td><td>200</td><td>718</td><td>&quot;agesic-crawler (Enterprise; T3…</td></tr><tr><td>&quot;190.64.2.162&quot;</td><td>&quot;02/Jun/2013:06:51:44 -0300&quot;</td><td>&quot;GET&quot;</td><td>&quot;/index.php/component/jevents/m…</td><td>&quot;HTTP/1.0&quot;</td><td>200</td><td>9476</td><td>&quot;agesic-crawler (Enterprise; T3…</td></tr><tr><td>&quot;190.64.2.162&quot;</td><td>&quot;02/Jun/2013:06:51:48 -0300&quot;</td><td>&quot;GET&quot;</td><td>&quot;/robots.txt&quot;</td><td>&quot;HTTP/1.0&quot;</td><td>200</td><td>718</td><td>&quot;agesic-crawler (Enterprise; T3…</td></tr><tr><td>&quot;190.64.2.162&quot;</td><td>&quot;02/Jun/2013:06:51:48 -0300&quot;</td><td>&quot;GET&quot;</td><td>&quot;/index.php/component/jevents/m…</td><td>&quot;HTTP/1.0&quot;</td><td>200</td><td>9490</td><td>&quot;agesic-crawler (Enterprise; T3…</td></tr><tr><td>&quot;190.64.2.162&quot;</td><td>&quot;02/Jun/2013:06:51:50 -0300&quot;</td><td>&quot;GET&quot;</td><td>&quot;/robots.txt&quot;</td><td>&quot;HTTP/1.0&quot;</td><td>200</td><td>718</td><td>&quot;agesic-crawler (Enterprise; T3…</td></tr></tbody></table></div>"
            ],
            "text/plain": [
              "shape: (10, 8)\n",
              "┌─────────────┬────────────┬────────────┬────────────┬────────────┬────────────┬──────┬────────────┐\n",
              "│ ip          ┆ timestamp  ┆ request_me ┆ url        ┆ http_versi ┆ status_cod ┆ size ┆ user_agent │\n",
              "│ ---         ┆ ---        ┆ thod       ┆ ---        ┆ on         ┆ e          ┆ ---  ┆ ---        │\n",
              "│ str         ┆ str        ┆ ---        ┆ str        ┆ ---        ┆ ---        ┆ i64  ┆ str        │\n",
              "│             ┆            ┆ str        ┆            ┆ str        ┆ i64        ┆      ┆            │\n",
              "╞═════════════╪════════════╪════════════╪════════════╪════════════╪════════════╪══════╪════════════╡\n",
              "│ 180.76.5.15 ┆ 02/Jun/201 ┆ GET        ┆ /index.php ┆ HTTP/1.1   ┆ 200        ┆ 8842 ┆ Mozilla/5. │\n",
              "│ 0           ┆ 3:06:49:39 ┆            ┆ /component ┆            ┆            ┆      ┆ 0 (compati │\n",
              "│             ┆ -0300      ┆            ┆ /jevents/s ┆            ┆            ┆      ┆ ble;       │\n",
              "│             ┆            ┆            ┆ …          ┆            ┆            ┆      ┆ Baidu…     │\n",
              "│ 190.64.2.16 ┆ 02/Jun/201 ┆ GET        ┆ /robots.tx ┆ HTTP/1.0   ┆ 200        ┆ 718  ┆ agesic-cra │\n",
              "│ 2           ┆ 3:06:51:40 ┆            ┆ t          ┆            ┆            ┆      ┆ wler (Ente │\n",
              "│             ┆ -0300      ┆            ┆            ┆            ┆            ┆      ┆ rprise;    │\n",
              "│             ┆            ┆            ┆            ┆            ┆            ┆      ┆ T3…        │\n",
              "│ 190.64.2.16 ┆ 02/Jun/201 ┆ GET        ┆ /index.php ┆ HTTP/1.0   ┆ 200        ┆ 9471 ┆ agesic-cra │\n",
              "│ 2           ┆ 3:06:51:40 ┆            ┆ /component ┆            ┆            ┆      ┆ wler (Ente │\n",
              "│             ┆ -0300      ┆            ┆ /jevents/m ┆            ┆            ┆      ┆ rprise;    │\n",
              "│             ┆            ┆            ┆ …          ┆            ┆            ┆      ┆ T3…        │\n",
              "│ 190.64.2.16 ┆ 02/Jun/201 ┆ GET        ┆ /robots.tx ┆ HTTP/1.0   ┆ 200        ┆ 718  ┆ agesic-cra │\n",
              "│ 2           ┆ 3:06:51:42 ┆            ┆ t          ┆            ┆            ┆      ┆ wler (Ente │\n",
              "│             ┆ -0300      ┆            ┆            ┆            ┆            ┆      ┆ rprise;    │\n",
              "│             ┆            ┆            ┆            ┆            ┆            ┆      ┆ T3…        │\n",
              "│ 190.64.2.16 ┆ 02/Jun/201 ┆ GET        ┆ /index.php ┆ HTTP/1.0   ┆ 200        ┆ 9518 ┆ agesic-cra │\n",
              "│ 2           ┆ 3:06:51:42 ┆            ┆ /component ┆            ┆            ┆      ┆ wler (Ente │\n",
              "│             ┆ -0300      ┆            ┆ /jevents/m ┆            ┆            ┆      ┆ rprise;    │\n",
              "│             ┆            ┆            ┆ …          ┆            ┆            ┆      ┆ T3…        │\n",
              "│ 190.64.2.16 ┆ 02/Jun/201 ┆ GET        ┆ /robots.tx ┆ HTTP/1.0   ┆ 200        ┆ 718  ┆ agesic-cra │\n",
              "│ 2           ┆ 3:06:51:44 ┆            ┆ t          ┆            ┆            ┆      ┆ wler (Ente │\n",
              "│             ┆ -0300      ┆            ┆            ┆            ┆            ┆      ┆ rprise;    │\n",
              "│             ┆            ┆            ┆            ┆            ┆            ┆      ┆ T3…        │\n",
              "│ 190.64.2.16 ┆ 02/Jun/201 ┆ GET        ┆ /index.php ┆ HTTP/1.0   ┆ 200        ┆ 9476 ┆ agesic-cra │\n",
              "│ 2           ┆ 3:06:51:44 ┆            ┆ /component ┆            ┆            ┆      ┆ wler (Ente │\n",
              "│             ┆ -0300      ┆            ┆ /jevents/m ┆            ┆            ┆      ┆ rprise;    │\n",
              "│             ┆            ┆            ┆ …          ┆            ┆            ┆      ┆ T3…        │\n",
              "│ 190.64.2.16 ┆ 02/Jun/201 ┆ GET        ┆ /robots.tx ┆ HTTP/1.0   ┆ 200        ┆ 718  ┆ agesic-cra │\n",
              "│ 2           ┆ 3:06:51:48 ┆            ┆ t          ┆            ┆            ┆      ┆ wler (Ente │\n",
              "│             ┆ -0300      ┆            ┆            ┆            ┆            ┆      ┆ rprise;    │\n",
              "│             ┆            ┆            ┆            ┆            ┆            ┆      ┆ T3…        │\n",
              "│ 190.64.2.16 ┆ 02/Jun/201 ┆ GET        ┆ /index.php ┆ HTTP/1.0   ┆ 200        ┆ 9490 ┆ agesic-cra │\n",
              "│ 2           ┆ 3:06:51:48 ┆            ┆ /component ┆            ┆            ┆      ┆ wler (Ente │\n",
              "│             ┆ -0300      ┆            ┆ /jevents/m ┆            ┆            ┆      ┆ rprise;    │\n",
              "│             ┆            ┆            ┆ …          ┆            ┆            ┆      ┆ T3…        │\n",
              "│ 190.64.2.16 ┆ 02/Jun/201 ┆ GET        ┆ /robots.tx ┆ HTTP/1.0   ┆ 200        ┆ 718  ┆ agesic-cra │\n",
              "│ 2           ┆ 3:06:51:50 ┆            ┆ t          ┆            ┆            ┆      ┆ wler (Ente │\n",
              "│             ┆ -0300      ┆            ┆            ┆            ┆            ┆      ┆ rprise;    │\n",
              "│             ┆            ┆            ┆            ┆            ┆            ┆      ┆ T3…        │\n",
              "└─────────────┴────────────┴────────────┴────────────┴────────────┴────────────┴──────┴────────────┘"
            ]
          },
          "execution_count": 39,
          "metadata": {},
          "output_type": "execute_result"
        }
      ],
      "source": [
        "df_no_peticiones_internas = df_sin_nulos.filter(\n",
        "    ~((pl.col(\"ip\") == \"127.0.0.1\") & (pl.col(\"request_method\") == \"OPTIONS\") & (pl.col(\"url\") == \"*\"))\n",
        ")\n",
        "\n",
        "df_no_peticiones_internas.head(10)"
      ]
    },
    {
      "cell_type": "markdown",
      "metadata": {
        "id": "oBbBrVqlSx14"
      },
      "source": [
        "#### Limpieza de datos estáticos\n",
        "Los archivos estáticos como .css o .png a menudo no contienen información crítica para el análisis de tráfico web o para la detección de problemas específicos en el comportamiento del usuario. Además muchas veces, los archivos estáticos son solicitados por bots o sistemas automatizados.\n",
        "\n",
        "Datos innecesarios o erróneos pueden aumentar el tamaño de los datasets, haciendo que el procesamiento sea más lento. Limpiar los datos reduce el tamaño y mejora la eficiencia del procesamiento."
      ]
    },
    {
      "cell_type": "code",
      "execution_count": 40,
      "metadata": {
        "colab": {
          "base_uri": "https://localhost:8080/"
        },
        "id": "Z2OOMJuo4eWS",
        "outputId": "61c2c2fc-52d3-44d5-aab8-e0b7b54b0a1b"
      },
      "outputs": [
        {
          "name": "stdout",
          "output_type": "stream",
          "text": [
            "Registros 'jcemediabox': 5279 (2.55%)\n",
            "Registros '.css': 18955 (9.15%)\n",
            "Registros '.js': 22506 (10.86%)\n",
            "Registros '.png': 22554 (10.88%)\n",
            "Registros '.jpg': 7305 (3.53%)\n",
            "Registros '.gif': 1859 (0.90%)\n",
            "Registros 'favicon.ico': 892 (0.43%)\n"
          ]
        }
      ],
      "source": [
        "df_filtrado_datos_estaticos = filtrar_datos(df_no_peticiones_internas)"
      ]
    },
    {
      "cell_type": "markdown",
      "metadata": {
        "id": "Ejxvw9Os75lz"
      },
      "source": [
        "#### Limpieza de robots"
      ]
    },
    {
      "cell_type": "code",
      "execution_count": 41,
      "metadata": {
        "colab": {
          "base_uri": "https://localhost:8080/"
        },
        "id": "_TcBn2kp8oQV",
        "outputId": "012bbd83-e6c3-4162-b483-a3faf877300f"
      },
      "outputs": [
        {
          "name": "stdout",
          "output_type": "stream",
          "text": [
            "Registros 'Googlebot': 1840 (0.89%)\n",
            "Registros 'Baiduspider': 1994 (0.96%)\n",
            "Registros 'agesic-crawler': 28790 (13.89%)\n"
          ]
        }
      ],
      "source": [
        "df_filtrado_robots = filtrar_robots_y_crawlers(df_filtrado_datos_estaticos)"
      ]
    },
    {
      "cell_type": "code",
      "execution_count": 42,
      "metadata": {
        "colab": {
          "base_uri": "https://localhost:8080/",
          "height": 129
        },
        "id": "O0BgagaJYwo1",
        "outputId": "dc3e1f0e-d933-4d3f-8896-144b9b1707b5"
      },
      "outputs": [
        {
          "data": {
            "text/html": [
              "<div><style>\n",
              ".dataframe > thead > tr,\n",
              ".dataframe > tbody > tr {\n",
              "  text-align: right;\n",
              "  white-space: pre-wrap;\n",
              "}\n",
              "</style>\n",
              "<small>shape: (1, 8)</small><table border=\"1\" class=\"dataframe\"><thead><tr><th>ip</th><th>timestamp</th><th>request_method</th><th>url</th><th>http_version</th><th>status_code</th><th>size</th><th>user_agent</th></tr><tr><td>u32</td><td>u32</td><td>u32</td><td>u32</td><td>u32</td><td>u32</td><td>u32</td><td>u32</td></tr></thead><tbody><tr><td>87819</td><td>87819</td><td>87819</td><td>87819</td><td>87819</td><td>87819</td><td>87819</td><td>87819</td></tr></tbody></table></div>"
            ],
            "text/plain": [
              "shape: (1, 8)\n",
              "┌───────┬───────────┬────────────────┬───────┬──────────────┬─────────────┬───────┬────────────┐\n",
              "│ ip    ┆ timestamp ┆ request_method ┆ url   ┆ http_version ┆ status_code ┆ size  ┆ user_agent │\n",
              "│ ---   ┆ ---       ┆ ---            ┆ ---   ┆ ---          ┆ ---         ┆ ---   ┆ ---        │\n",
              "│ u32   ┆ u32       ┆ u32            ┆ u32   ┆ u32          ┆ u32         ┆ u32   ┆ u32        │\n",
              "╞═══════╪═══════════╪════════════════╪═══════╪══════════════╪═════════════╪═══════╪════════════╡\n",
              "│ 87819 ┆ 87819     ┆ 87819          ┆ 87819 ┆ 87819        ┆ 87819       ┆ 87819 ┆ 87819      │\n",
              "└───────┴───────────┴────────────────┴───────┴──────────────┴─────────────┴───────┴────────────┘"
            ]
          },
          "execution_count": 42,
          "metadata": {},
          "output_type": "execute_result"
        }
      ],
      "source": [
        "cantidad_registros = df_filtrado_robots.select(pl.all().count())\n",
        "cantidad_registros"
      ]
    },
    {
      "cell_type": "markdown",
      "metadata": {
        "id": "ihL43Zj281AX"
      },
      "source": [
        "### Normalización"
      ]
    },
    {
      "cell_type": "code",
      "execution_count": null,
      "metadata": {
        "colab": {
          "base_uri": "https://localhost:8080/",
          "height": 882
        },
        "id": "sXuH9BMa80hu",
        "outputId": "ad0100e6-d47a-4d6b-ab6d-9e75e0aa4277"
      },
      "outputs": [
        {
          "data": {
            "text/html": [
              "<div><style>\n",
              ".dataframe > thead > tr,\n",
              ".dataframe > tbody > tr {\n",
              "  text-align: right;\n",
              "  white-space: pre-wrap;\n",
              "}\n",
              "</style>\n",
              "<small>shape: (12_654, 8)</small><table border=\"1\" class=\"dataframe\"><thead><tr><th>ip</th><th>timestamp</th><th>request_method</th><th>url</th><th>http_version</th><th>status_code</th><th>size</th><th>user_agent</th></tr><tr><td>str</td><td>str</td><td>str</td><td>str</td><td>str</td><td>i64</td><td>i64</td><td>str</td></tr></thead><tbody><tr><td>&quot;208.115.113.83…</td><td>&quot;02-06-2013 10:…</td><td>&quot;GET&quot;</td><td>&quot;/robots.txt&quot;</td><td>&quot;HTTP/1.1&quot;</td><td>200</td><td>1151</td><td>&quot;Mozilla/5.0 (c…</td></tr><tr><td>&quot;86.106.32.198&quot;</td><td>&quot;02-06-2013 10:…</td><td>&quot;GET&quot;</td><td>&quot;/&quot;</td><td>&quot;HTTP/1.1&quot;</td><td>200</td><td>48548</td><td>&quot;-&quot;\n",
              "&quot;</td></tr><tr><td>&quot;157.55.36.37&quot;</td><td>&quot;02-06-2013 10:…</td><td>&quot;GET&quot;</td><td>&quot;/robots.txt&quot;</td><td>&quot;HTTP/1.1&quot;</td><td>200</td><td>1208</td><td>&quot;Mozilla/5.0 (c…</td></tr><tr><td>&quot;157.55.36.37&quot;</td><td>&quot;02-06-2013 10:…</td><td>&quot;GET&quot;</td><td>&quot;/&quot;</td><td>&quot;HTTP/1.1&quot;</td><td>200</td><td>12030</td><td>&quot;Mozilla/5.0 (c…</td></tr><tr><td>&quot;157.55.36.37&quot;</td><td>&quot;02-06-2013 10:…</td><td>&quot;GET&quot;</td><td>&quot;/index.php/ser…</td><td>&quot;HTTP/1.1&quot;</td><td>200</td><td>8786</td><td>&quot;Mozilla/5.0 (c…</td></tr><tr><td>&quot;157.55.36.37&quot;</td><td>&quot;02-06-2013 10:…</td><td>&quot;GET&quot;</td><td>&quot;/index.php/inf…</td><td>&quot;HTTP/1.1&quot;</td><td>200</td><td>8523</td><td>&quot;Mozilla/5.0 (c…</td></tr><tr><td>&quot;152.61.128.66&quot;</td><td>&quot;02-06-2013 10:…</td><td>&quot;HEAD&quot;</td><td>&quot;/&quot;</td><td>&quot;HTTP/1.1&quot;</td><td>403</td><td>163</td><td>&quot;Mozilla/5.0 (W…</td></tr><tr><td>&quot;152.61.193.99&quot;</td><td>&quot;02-06-2013 10:…</td><td>&quot;HEAD&quot;</td><td>&quot;/&quot;</td><td>&quot;HTTP/1.1&quot;</td><td>403</td><td>163</td><td>&quot;Mozilla/5.0 (W…</td></tr><tr><td>&quot;152.61.128.66&quot;</td><td>&quot;02-06-2013 10:…</td><td>&quot;GET&quot;</td><td>&quot;/UYRV.cgi?VERS…</td><td>&quot;HTTP/1.1&quot;</td><td>200</td><td>3059</td><td>&quot;Mozilla/5.0 (W…</td></tr><tr><td>&quot;152.61.128.66&quot;</td><td>&quot;02-06-2013 10:…</td><td>&quot;HEAD&quot;</td><td>&quot;/&quot;</td><td>&quot;HTTP/1.1&quot;</td><td>403</td><td>163</td><td>&quot;Mozilla/5.0 (W…</td></tr><tr><td>&quot;152.61.193.99&quot;</td><td>&quot;02-06-2013 10:…</td><td>&quot;GET&quot;</td><td>&quot;/UYCA.cgi?VERS…</td><td>&quot;HTTP/1.1&quot;</td><td>200</td><td>4196</td><td>&quot;Mozilla/5.0 (W…</td></tr><tr><td>&quot;152.61.128.66&quot;</td><td>&quot;02-06-2013 10:…</td><td>&quot;GET&quot;</td><td>&quot;/UYSO.cgi?VERS…</td><td>&quot;HTTP/1.1&quot;</td><td>200</td><td>11172</td><td>&quot;Mozilla/5.0 (W…</td></tr><tr><td>&hellip;</td><td>&hellip;</td><td>&hellip;</td><td>&hellip;</td><td>&hellip;</td><td>&hellip;</td><td>&hellip;</td><td>&hellip;</td></tr><tr><td>&quot;201.217.148.67…</td><td>&quot;09-06-2013 09:…</td><td>&quot;GET&quot;</td><td>&quot;/&quot;</td><td>&quot;HTTP/1.1&quot;</td><td>302</td><td>288</td><td>&quot;Mozilla/5.0 (C…</td></tr><tr><td>&quot;201.217.148.67…</td><td>&quot;09-06-2013 09:…</td><td>&quot;GET&quot;</td><td>&quot;/map.phtml&quot;</td><td>&quot;HTTP/1.1&quot;</td><td>200</td><td>16593</td><td>&quot;Mozilla/5.0 (C…</td></tr><tr><td>&quot;201.217.148.67…</td><td>&quot;09-06-2013 09:…</td><td>&quot;GET&quot;</td><td>&quot;/&quot;</td><td>&quot;HTTP/1.1&quot;</td><td>302</td><td>288</td><td>&quot;Mozilla/5.0 (C…</td></tr><tr><td>&quot;201.217.148.67…</td><td>&quot;09-06-2013 09:…</td><td>&quot;GET&quot;</td><td>&quot;/map.phtml&quot;</td><td>&quot;HTTP/1.1&quot;</td><td>200</td><td>16592</td><td>&quot;Mozilla/5.0 (C…</td></tr><tr><td>&quot;201.217.148.67…</td><td>&quot;09-06-2013 09:…</td><td>&quot;GET&quot;</td><td>&quot;/&quot;</td><td>&quot;HTTP/1.1&quot;</td><td>302</td><td>288</td><td>&quot;Mozilla/5.0 (C…</td></tr><tr><td>&quot;201.217.148.67…</td><td>&quot;09-06-2013 09:…</td><td>&quot;GET&quot;</td><td>&quot;/map.phtml&quot;</td><td>&quot;HTTP/1.1&quot;</td><td>200</td><td>16586</td><td>&quot;Mozilla/5.0 (C…</td></tr><tr><td>&quot;213.37.25.210&quot;</td><td>&quot;09-06-2013 09:…</td><td>&quot;GET&quot;</td><td>&quot;/index.php/inf…</td><td>&quot;HTTP/1.1&quot;</td><td>200</td><td>9061</td><td>&quot;Mozilla/5.0 (W…</td></tr><tr><td>&quot;201.217.148.67…</td><td>&quot;09-06-2013 09:…</td><td>&quot;GET&quot;</td><td>&quot;/&quot;</td><td>&quot;HTTP/1.1&quot;</td><td>302</td><td>288</td><td>&quot;Mozilla/5.0 (C…</td></tr><tr><td>&quot;201.217.148.67…</td><td>&quot;09-06-2013 09:…</td><td>&quot;GET&quot;</td><td>&quot;/map.phtml&quot;</td><td>&quot;HTTP/1.1&quot;</td><td>200</td><td>16619</td><td>&quot;Mozilla/5.0 (C…</td></tr><tr><td>&quot;201.217.148.67…</td><td>&quot;09-06-2013 09:…</td><td>&quot;GET&quot;</td><td>&quot;/&quot;</td><td>&quot;HTTP/1.1&quot;</td><td>302</td><td>288</td><td>&quot;Mozilla/5.0 (C…</td></tr><tr><td>&quot;201.217.148.67…</td><td>&quot;09-06-2013 09:…</td><td>&quot;GET&quot;</td><td>&quot;/map.phtml&quot;</td><td>&quot;HTTP/1.1&quot;</td><td>200</td><td>16593</td><td>&quot;Mozilla/5.0 (C…</td></tr><tr><td>&quot;173.199.119.15…</td><td>&quot;09-06-2013 09:…</td><td>&quot;GET&quot;</td><td>&quot;/index.php/doc…</td><td>&quot;HTTP/1.1&quot;</td><td>200</td><td>12312</td><td>&quot;Mozilla/5.0 (c…</td></tr></tbody></table></div>"
            ],
            "text/plain": [
              "shape: (12_654, 8)\n",
              "┌────────────┬────────────┬────────────┬────────────┬────────────┬────────────┬───────┬────────────┐\n",
              "│ ip         ┆ timestamp  ┆ request_me ┆ url        ┆ http_versi ┆ status_cod ┆ size  ┆ user_agent │\n",
              "│ ---        ┆ ---        ┆ thod       ┆ ---        ┆ on         ┆ e          ┆ ---   ┆ ---        │\n",
              "│ str        ┆ str        ┆ ---        ┆ str        ┆ ---        ┆ ---        ┆ i64   ┆ str        │\n",
              "│            ┆            ┆ str        ┆            ┆ str        ┆ i64        ┆       ┆            │\n",
              "╞════════════╪════════════╪════════════╪════════════╪════════════╪════════════╪═══════╪════════════╡\n",
              "│ 208.115.11 ┆ 02-06-2013 ┆ GET        ┆ /robots.tx ┆ HTTP/1.1   ┆ 200        ┆ 1151  ┆ Mozilla/5. │\n",
              "│ 3.83       ┆ 10:16:29   ┆            ┆ t          ┆            ┆            ┆       ┆ 0 (compati │\n",
              "│            ┆            ┆            ┆            ┆            ┆            ┆       ┆ ble;       │\n",
              "│            ┆            ┆            ┆            ┆            ┆            ┆       ┆ Ezooms/…   │\n",
              "│ 86.106.32. ┆ 02-06-2013 ┆ GET        ┆ /          ┆ HTTP/1.1   ┆ 200        ┆ 48548 ┆ -\"         │\n",
              "│ 198        ┆ 10:19:25   ┆            ┆            ┆            ┆            ┆       ┆            │\n",
              "│ 157.55.36. ┆ 02-06-2013 ┆ GET        ┆ /robots.tx ┆ HTTP/1.1   ┆ 200        ┆ 1208  ┆ Mozilla/5. │\n",
              "│ 37         ┆ 10:24:49   ┆            ┆ t          ┆            ┆            ┆       ┆ 0 (compati │\n",
              "│            ┆            ┆            ┆            ┆            ┆            ┆       ┆ ble;       │\n",
              "│            ┆            ┆            ┆            ┆            ┆            ┆       ┆ bingbot…   │\n",
              "│ 157.55.36. ┆ 02-06-2013 ┆ GET        ┆ /          ┆ HTTP/1.1   ┆ 200        ┆ 12030 ┆ Mozilla/5. │\n",
              "│ 37         ┆ 10:27:12   ┆            ┆            ┆            ┆            ┆       ┆ 0 (compati │\n",
              "│            ┆            ┆            ┆            ┆            ┆            ┆       ┆ ble;       │\n",
              "│            ┆            ┆            ┆            ┆            ┆            ┆       ┆ bingbot…   │\n",
              "│ …          ┆ …          ┆ …          ┆ …          ┆ …          ┆ …          ┆ …     ┆ …          │\n",
              "│ 201.217.14 ┆ 09-06-2013 ┆ GET        ┆ /map.phtml ┆ HTTP/1.1   ┆ 200        ┆ 16619 ┆ Mozilla/5. │\n",
              "│ 8.67       ┆ 09:37:33   ┆            ┆            ┆            ┆            ┆       ┆ 0 (CERTuy  │\n",
              "│            ┆            ┆            ┆            ┆            ┆            ┆       ┆ -          │\n",
              "│            ┆            ┆            ┆            ┆            ┆            ┆       ┆ Monitoreo  │\n",
              "│            ┆            ┆            ┆            ┆            ┆            ┆       ┆ …          │\n",
              "│ 201.217.14 ┆ 09-06-2013 ┆ GET        ┆ /          ┆ HTTP/1.1   ┆ 302        ┆ 288   ┆ Mozilla/5. │\n",
              "│ 8.67       ┆ 09:37:36   ┆            ┆            ┆            ┆            ┆       ┆ 0 (CERTuy  │\n",
              "│            ┆            ┆            ┆            ┆            ┆            ┆       ┆ -          │\n",
              "│            ┆            ┆            ┆            ┆            ┆            ┆       ┆ Monitoreo  │\n",
              "│            ┆            ┆            ┆            ┆            ┆            ┆       ┆ …          │\n",
              "│ 201.217.14 ┆ 09-06-2013 ┆ GET        ┆ /map.phtml ┆ HTTP/1.1   ┆ 200        ┆ 16593 ┆ Mozilla/5. │\n",
              "│ 8.67       ┆ 09:37:36   ┆            ┆            ┆            ┆            ┆       ┆ 0 (CERTuy  │\n",
              "│            ┆            ┆            ┆            ┆            ┆            ┆       ┆ -          │\n",
              "│            ┆            ┆            ┆            ┆            ┆            ┆       ┆ Monitoreo  │\n",
              "│            ┆            ┆            ┆            ┆            ┆            ┆       ┆ …          │\n",
              "│ 173.199.11 ┆ 09-06-2013 ┆ GET        ┆ /index.php ┆ HTTP/1.1   ┆ 200        ┆ 12312 ┆ Mozilla/5. │\n",
              "│ 9.155      ┆ 09:42:33   ┆            ┆ /documento ┆            ┆            ┆       ┆ 0 (compati │\n",
              "│            ┆            ┆            ┆ s/doc_down ┆            ┆            ┆       ┆ ble;       │\n",
              "│            ┆            ┆            ┆ lo…        ┆            ┆            ┆       ┆ AhrefsB…   │\n",
              "└────────────┴────────────┴────────────┴────────────┴────────────┴────────────┴───────┴────────────┘"
            ]
          },
          "execution_count": 265,
          "metadata": {},
          "output_type": "execute_result"
        }
      ],
      "source": [
        "df_limpio = formatear_fecha(df_filtrado)\n",
        "df_limpio"
      ]
    }
  ],
  "metadata": {
    "colab": {
      "provenance": []
    },
    "kernelspec": {
      "display_name": "Python 3",
      "name": "python3"
    },
    "language_info": {
      "name": "python",
      "version": "3.12.7"
    }
  },
  "nbformat": 4,
  "nbformat_minor": 0
}
